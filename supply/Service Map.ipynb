{
 "cells": [
  {
   "cell_type": "code",
   "execution_count": 3,
   "metadata": {},
   "outputs": [],
   "source": [
    "#nbi:hide_in\n",
    "import geopandas as gpd\n",
    "import pandas as pd\n",
    "idx = pd.IndexSlice\n",
    "import numpy as np\n",
    "\n",
    "import folium\n",
    "from folium.plugins import MarkerCluster\n",
    "import pysal as ps\n",
    "from pysal.viz import mapclassify\n",
    "\n",
    "import ipywidgets as widgets"
   ]
  },
  {
   "cell_type": "code",
   "execution_count": 4,
   "metadata": {},
   "outputs": [],
   "source": [
    "#nbi:hide_in\n",
    "#Patch for Chrome courtesy of : https://github.com/python-visualization/folium/issues/812#issuecomment-555238062\n",
    "\n",
    "import base64\n",
    "\n",
    "\n",
    "def _repr_html_(self, **kwargs):\n",
    "    html = base64.b64encode(self.render(**kwargs).encode('utf8')).decode('utf8')\n",
    "    onload = (\n",
    "        'this.contentDocument.open();'\n",
    "        'this.contentDocument.write(atob(this.getAttribute(\\'data-html\\')));'\n",
    "        'this.contentDocument.close();'\n",
    "    )\n",
    "    if self.height is None:\n",
    "        iframe = (\n",
    "            '<div style=\"width:{width};\">'\n",
    "            '<div style=\"position:relative;width:100%;height:0;padding-bottom:{ratio};\">'\n",
    "            '<iframe src=\"about:blank\" style=\"position:absolute;width:100%;height:100%;left:0;top:0;'\n",
    "            'border:none !important;\" '\n",
    "            'data-html={html} onload=\"{onload}\" '\n",
    "            'allowfullscreen webkitallowfullscreen mozallowfullscreen>'\n",
    "            '</iframe>'\n",
    "            '</div></div>').format\n",
    "        iframe = iframe(html=html, onload=onload, width=self.width, ratio=self.ratio)\n",
    "    else:\n",
    "        iframe = ('<iframe src=\"about:blank\" width=\"{width}\" height=\"{height}\"'\n",
    "                  'style=\"border:none !important;\" '\n",
    "                  'data-html={html} onload=\"{onload}\" '\n",
    "                  '\"allowfullscreen\" \"webkitallowfullscreen\" \"mozallowfullscreen\">'\n",
    "                  '</iframe>').format\n",
    "        iframe = iframe(html=html, onload=onload, width=self.width, height=self.height)\n",
    "    return iframe\n",
    "\n",
    "folium.branca.element.Figure._repr_html_ = _repr_html_"
   ]
  },
  {
   "cell_type": "code",
   "execution_count": 5,
   "metadata": {},
   "outputs": [],
   "source": [
    "#nbi:hide_in\n",
    "la_county = gpd.read_file(\"./geographies/la_county.geojson\", driver='GeoJSON')\n",
    "\n",
    "# sf_bay = (gpd.read_file('./geographies/ne_bay.geojson')\n",
    "#           .append(gpd.read_file('./geographies/sf_pen.geojson'))\n",
    "#           .reset_index(drop=True))\n",
    "\n",
    "# geo = sf_bay"
   ]
  },
  {
   "cell_type": "code",
   "execution_count": 6,
   "metadata": {},
   "outputs": [],
   "source": [
    "#nbi:hide_in\n",
    "bay_svc = pd.read_parquet('./processed_data/Bay_svc_Oct11.parquet')\n",
    "la_svc = pd.read_parquet('./processed_data/LA_svc_Oct11.parquet')"
   ]
  },
  {
   "cell_type": "code",
   "execution_count": 7,
   "metadata": {},
   "outputs": [],
   "source": [
    "#fixing typo mistake \"La Metro --> LA Metro\"\n",
    "la_svc.index = la_svc.index.set_levels(la_svc.index.levels[2].str.replace('La', 'LA'), level=2)"
   ]
  },
  {
   "cell_type": "code",
   "execution_count": 8,
   "metadata": {},
   "outputs": [],
   "source": [
    "bay_area = gpd.read_file('./geographies/bay_area.geojson', driver='GeoJSON')\n",
    "bay_water = gpd.read_file('./geographies/bay_water.json')\n",
    "bay_area = gpd.overlay(bay_area, bay_water, how='difference')"
   ]
  },
  {
   "cell_type": "code",
   "execution_count": 9,
   "metadata": {},
   "outputs": [],
   "source": [
    "#nbi:hide_in\n",
    "def select_view(df_all, agencies, service_type, geo):\n",
    "    serv_types = ['am_peak', 'midday', 'pm_peak', 'evening', 'early_am', 'total']\n",
    "    \n",
    "    assert service_type in serv_types\n",
    "    \n",
    "    agency_filtered = df_all\n",
    "    if 'All Agencies' not in agencies:\n",
    "        agency_filtered = df_all.loc[idx[:, :, agencies], :]\n",
    "        \n",
    "    agency_summed = agency_filtered.groupby(level=['tract', 'covid']).sum()\n",
    "    agency_summed = agency_summed[[f'{service_type}_vrh']]\n",
    "    \n",
    "    pre_covid = agency_summed.loc[idx[:, 0], :].reset_index(level='covid', drop=True)\n",
    "    covid = agency_summed.loc[idx[:, 1], :].reset_index(level='covid', drop=True)\n",
    "    difference = covid - pre_covid\n",
    "    \n",
    "    pre_covid = pre_covid.rename(\n",
    "        columns={pre_covid.columns[0]:f'{pre_covid.columns[0]}_pre_covid'})\n",
    "    covid = covid.rename(\n",
    "        columns={covid.columns[0]:f'{covid.columns[0]}_covid'})\n",
    "    difference = difference.rename(\n",
    "        columns={difference.columns[0]:f'{difference.columns[0]}_difference'})\n",
    "    joined = pre_covid.join(covid).join(difference)\n",
    "    joined['pct_maintained'] = joined.iloc[:, 2] / joined.iloc[:, 0] + 1\n",
    "    return geo.set_index('tract').join(joined.dropna(), how='inner')"
   ]
  },
  {
   "cell_type": "code",
   "execution_count": 10,
   "metadata": {},
   "outputs": [],
   "source": [
    "#nbi:hide_in\n",
    "def add_choropleth(vrh_gdf, m, classifier):\n",
    "    \n",
    "    vrh_gdf = vrh_gdf[vrh_gdf['pct_maintained'] != np.inf]\n",
    "    vrh_gdf = vrh_gdf[vrh_gdf['pct_maintained'] <= 2.0]\n",
    "    vrh_gdf['pct_maintained'] = vrh_gdf['pct_maintained'] * 100\n",
    "    \n",
    "    if classifier == 'Fixed':\n",
    "#         threshold_scale = [0, 0.2, 0.4, 0.6, 0.8, 1.0, 1.2, 2.0]\n",
    "        threshold_scale = [0, 20, 40, 60, 80, 100, 120, 210]\n",
    "    elif classifier == 'Quantiles':\n",
    "        threshold_scale = mapclassify.Quantiles(\n",
    "            vrh_gdf['pct_maintained'], k = 5).bins.tolist()\n",
    "        threshold_scale = [vrh_gdf['pct_maintained'].min()] + threshold_scale\n",
    "#     elif classifier == 'Natural Breaks':\n",
    "#         threshold_scale = mapclassify.NaturalBreaks(\n",
    "#             vrh_gdf['pct_maintained'], k = 5).bins.tolist()\n",
    "#         threshold_scale = [vrh_gdf['pct_maintained'].min()] + threshold_scale\n",
    "#     print(threshold_scale)\n",
    "    choropleth = folium.Choropleth(geo_data = vrh_gdf.reset_index().to_json(),\n",
    "                                   data = vrh_gdf.reset_index(),\n",
    "                    columns = ('tract', 'pct_maintained'), key_on = 'feature.properties.tract',\n",
    "                    nan_fill_color = 'red', fill_color = 'YlGnBu', fill_opacity = 0.6, line_opacity = 0.2,  \n",
    "                    threshold_scale = threshold_scale, legend_name='Service Maintained Post-COVID (Percentage)'\n",
    "                                    )\n",
    "    choropleth.add_to(m)\n",
    "    return"
   ]
  },
  {
   "cell_type": "code",
   "execution_count": 15,
   "metadata": {},
   "outputs": [],
   "source": [
    "from IPython.display import clear_output\n",
    "\n",
    "def visualize_supply(Region):\n",
    "    \n",
    "    clear_output(wait=True)\n",
    "    print('Loading...')\n",
    "    \n",
    "    if Region == 'LA':\n",
    "        service_data = la_svc\n",
    "        geo = la_county\n",
    "    elif Region == 'Bay Area':\n",
    "        service_data = bay_svc\n",
    "        geo = bay_area\n",
    "        \n",
    "    serv_list = [x[:-4] for x in list(service_data.columns)] \n",
    "    disp_serv = [i.replace('_', ' ').capitalize() for i in serv_list]\n",
    "    disp_serv = [i.replace('Am', 'AM').replace('Pm', 'PM').replace('am', 'AM').replace('peak', 'Peak') for i in disp_serv]\n",
    "    disp_to_serv = dict(zip(disp_serv, serv_list))\n",
    "    agency_list = ['All Agencies'] + list(service_data.droplevel(['tract', 'covid']).index.unique())\n",
    "    \n",
    "    agency_widget = widgets.SelectMultiple(\n",
    "    options=agency_list,\n",
    "    value=[agency_list[0]],\n",
    "    #rows=10,\n",
    "    description='Agencies',\n",
    "    disabled=False\n",
    "    )\n",
    "    \n",
    "    service_widget = widgets.Select(\n",
    "    options=disp_serv,\n",
    "    value='Total',\n",
    "    #rows=10,\n",
    "    description='Service Type',\n",
    "    disabled=False\n",
    "    )\n",
    "    \n",
    "    classify_widget = widgets.RadioButtons(\n",
    "    options=['Quantiles', 'Fixed'],\n",
    "    value='Fixed', # Defaults to 'Fixed'\n",
    "#    layout={'width': 'max-content'}, # If the items' names are long\n",
    "    description='Classifier:',\n",
    "    disabled=False\n",
    "    )\n",
    "    \n",
    "    def interactive_map(agencies, service_type, classifier, la=False, geo=geo):\n",
    "        print('Running data query...', end='')\n",
    "    #     print(service_type)\n",
    "        if la:\n",
    "            #convert displayed names to short names\n",
    "            agencies = [disp_to_agency[agency] for agency in agencies]\n",
    "        service_type = disp_to_serv[service_type]\n",
    "        view = select_view(service_data, agencies, service_type, geo)\n",
    "        x = geo['geometry'][0].centroid.x\n",
    "        y = geo['geometry'][0].centroid.y\n",
    "        m = folium.Map([y, x], zoom_start = 10)\n",
    "        add_choropleth(view, m, classifier)\n",
    "        print(' Done!')\n",
    "        print('Drawing map...')\n",
    "        clear_output(wait=True)\n",
    "        display(m)\n",
    "        return m\n",
    "    \n",
    "    w = widgets.interactive_output(\n",
    "    interactive_map,\n",
    "    {'agencies': agency_widget, 'service_type': service_widget,\n",
    "    'classifier': classify_widget})\n",
    "    ui = widgets.VBox([\n",
    "        widgets.HBox([agency_widget, service_widget]), \n",
    "        classify_widget])\n",
    "    \n",
    "    display(ui, w);"
   ]
  },
  {
   "cell_type": "markdown",
   "metadata": {},
   "source": [
    "## Visualizing Transit Service Supply During the Pandemic Response\n",
    "\n",
    "This tool visualizes an estimate of how the supply of transit service (measured as service hours) in each Census tract has changed since the start of the COVID-19 pandemic. Using GTFS data for each operator, it compares service levels from the most recent data available before March 2020 to the most recent data available from after mid-March 2020 (as of October 11).\n",
    "\n",
    "By default, it shows an aggregation of all transit agencies in a region for which suitable data were available, but the selection boxes allow a custom subset of operators.\n"
   ]
  },
  {
   "cell_type": "code",
   "execution_count": 16,
   "metadata": {},
   "outputs": [
    {
     "data": {
      "application/vnd.jupyter.widget-view+json": {
       "model_id": "9b24a2970a1b45cf82391e23329db58b",
       "version_major": 2,
       "version_minor": 0
      },
      "text/plain": [
       "interactive(children=(Dropdown(description='Region', options=('LA', 'Bay Area'), value='LA'), Output()), _dom_…"
      ]
     },
     "metadata": {},
     "output_type": "display_data"
    }
   ],
   "source": [
    "widgets.interact(visualize_supply, Region=['LA', 'Bay Area']);"
   ]
  }
 ],
 "metadata": {
  "kernelspec": {
   "display_name": "Python 3",
   "language": "python",
   "name": "python3"
  },
  "language_info": {
   "codemirror_mode": {
    "name": "ipython",
    "version": 3
   },
   "file_extension": ".py",
   "mimetype": "text/x-python",
   "name": "python",
   "nbconvert_exporter": "python",
   "pygments_lexer": "ipython3",
   "version": "3.8.5"
  }
 },
 "nbformat": 4,
 "nbformat_minor": 4
}
