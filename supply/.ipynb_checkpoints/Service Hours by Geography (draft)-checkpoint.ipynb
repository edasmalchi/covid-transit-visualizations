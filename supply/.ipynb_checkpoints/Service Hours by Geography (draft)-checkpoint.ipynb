{
 "cells": [
  {
   "cell_type": "code",
   "execution_count": 1,
   "metadata": {},
   "outputs": [
    {
     "name": "stderr",
     "output_type": "stream",
     "text": [
      "/Users/edasmalchi/anaconda3/envs/pd1/lib/python3.8/site-packages/tqdm/std.py:668: FutureWarning: The Panel class is removed from pandas. Accessing it from the top-level namespace will also be removed in the next version\n",
      "  from pandas import Panel\n"
     ]
    }
   ],
   "source": [
    "import geopandas as gpd\n",
    "import partridge as ptg\n",
    "# import modin.pandas as pd\n",
    "import pandas as pd\n",
    "idx = pd.IndexSlice\n",
    "import numpy as np\n",
    "\n",
    "import requests\n",
    "from arcgis2geojson import arcgis2geojson\n",
    "\n",
    "from geopandas.tools import sjoin\n",
    "import folium\n",
    "from folium.plugins import MarkerCluster\n",
    "#from folium.element import IFrame\n",
    "import shapely\n",
    "#from shapely.geometry import Point\n",
    "import pysal as ps\n",
    "from pysal.viz import mapclassify\n",
    "\n",
    "import os\n",
    "import datetime as dt\n",
    "\n",
    "from tqdm.auto import tqdm\n",
    "tqdm.pandas(desc=\"interpolating stops...\")"
   ]
  },
  {
   "cell_type": "code",
   "execution_count": 2,
   "metadata": {},
   "outputs": [],
   "source": [
    "def diag_path(path):\n",
    "    print(ptg.read_busiest_date(path))\n",
    "    return feed_from_path(path)"
   ]
  },
  {
   "cell_type": "code",
   "execution_count": 3,
   "metadata": {},
   "outputs": [],
   "source": [
    "def showall(df):\n",
    "    with pd.option_context('display.max_rows', None, 'display.max_columns', None):  # more options can be specified also\n",
    "        display(df)"
   ]
  },
  {
   "cell_type": "code",
   "execution_count": 4,
   "metadata": {},
   "outputs": [],
   "source": [
    "#read feed at a different date if busiest date not in analysis range\n",
    "#(e.g. post-COVID feed still includes pre-COVID info)\n",
    "serv_id_exceptions = {'pasadena20200806_gtfs.zip': [3]}\n",
    "\n",
    "def feed_from_path(path):\n",
    "    '''Using Partridge, read a (GeoPandas enabled) GTFS feed given a filepath'''\n",
    "    _date, service_ids = ptg.read_busiest_date(path)\n",
    "    \n",
    "    #check if feed has exception defined above, if so read that service id\n",
    "    feed_id = path.split('/')[-2:][0] + path.split('/')[-2:][1]\n",
    "    try:\n",
    "        service_ids = serv_id_exceptions[feed_id]\n",
    "    except:\n",
    "        pass\n",
    "    \n",
    "    view = {\n",
    "        'trips.txt': {'service_id': service_ids},\n",
    "    }\n",
    "\n",
    "    return ptg.load_geo_feed(path, view)"
   ]
  },
  {
   "cell_type": "code",
   "execution_count": 5,
   "metadata": {},
   "outputs": [],
   "source": [
    "def feeds_from_files(folder_path):\n",
    "    '''\n",
    "    Given path to a folder structured: folder_path/agency/yyyymmdd_gtfs.zip,\n",
    "    read all feeds into a nested dict with keys being agency name, then datetime object'''\n",
    "    feeds = {}\n",
    "    subdirs = [x[0] for x in os.walk(folder_path)]\n",
    "    for subdir in subdirs[1:]:\n",
    "        agency = subdir.split('/')[-1]\n",
    "        feeds[agency] = {}\n",
    "        for feed in os.listdir(subdir):\n",
    "            if feed[0] == '.':\n",
    "                continue\n",
    "            datestr = feed.split('_')[0]\n",
    "            date = dt.datetime.strptime(datestr,'%Y%m%d')\n",
    "            feeds[agency][date] = feed_from_path(subdir+'/'+feed)\n",
    "    return feeds"
   ]
  },
  {
   "cell_type": "code",
   "execution_count": 6,
   "metadata": {},
   "outputs": [],
   "source": [
    "feeds_dict = feeds_from_files('./gtfs_feeds/la/')"
   ]
  },
  {
   "cell_type": "code",
   "execution_count": 7,
   "metadata": {},
   "outputs": [
    {
     "data": {
      "text/plain": [
       "{'Long Beach Transit': {datetime.datetime(2020, 10, 8, 0, 0): <partridge.gtfs.Feed at 0x10ec79eb0>,\n",
       "  datetime.datetime(2020, 7, 30, 0, 0): <partridge.gtfs.Feed at 0x14d23ba30>,\n",
       "  datetime.datetime(2020, 2, 13, 0, 0): <partridge.gtfs.Feed at 0x10cf26d30>},\n",
       " 'Torrance Transit': {datetime.datetime(2020, 7, 29, 0, 0): <partridge.gtfs.Feed at 0x10df64250>,\n",
       "  datetime.datetime(2020, 10, 11, 0, 0): <partridge.gtfs.Feed at 0x10df87a00>,\n",
       "  datetime.datetime(2020, 1, 6, 0, 0): <partridge.gtfs.Feed at 0x14da27e20>},\n",
       " 'Big Blue Bus': {datetime.datetime(2020, 6, 5, 0, 0): <partridge.gtfs.Feed at 0x14d617be0>,\n",
       "  datetime.datetime(2020, 2, 17, 0, 0): <partridge.gtfs.Feed at 0x14d80ab50>,\n",
       "  datetime.datetime(2020, 9, 30, 0, 0): <partridge.gtfs.Feed at 0x14d2cb2b0>},\n",
       " 'LA Metro (Bus)': {datetime.datetime(2020, 1, 16, 0, 0): <partridge.gtfs.Feed at 0x14d2cbd00>,\n",
       "  datetime.datetime(2020, 8, 30, 0, 0): <partridge.gtfs.Feed at 0x14d617310>},\n",
       " 'Norwalk Transit': {datetime.datetime(2020, 8, 6, 0, 0): <partridge.gtfs.Feed at 0x10df87070>,\n",
       "  datetime.datetime(2020, 2, 18, 0, 0): <partridge.gtfs.Feed at 0x10cf26730>,\n",
       "  datetime.datetime(2020, 8, 13, 0, 0): <partridge.gtfs.Feed at 0x14d23beb0>},\n",
       " 'La Metro (Rail)': {datetime.datetime(2020, 2, 29, 0, 0): <partridge.gtfs.Feed at 0x14d764d90>,\n",
       "  datetime.datetime(2020, 8, 6, 0, 0): <partridge.gtfs.Feed at 0x14d461d00>,\n",
       "  datetime.datetime(2020, 10, 10, 0, 0): <partridge.gtfs.Feed at 0x14d23b0a0>},\n",
       " 'Culver City Bus': {datetime.datetime(2020, 1, 14, 0, 0): <partridge.gtfs.Feed at 0x10df64dc0>,\n",
       "  datetime.datetime(2020, 9, 12, 0, 0): <partridge.gtfs.Feed at 0x14d80a850>,\n",
       "  datetime.datetime(2020, 4, 11, 0, 0): <partridge.gtfs.Feed at 0x14d617670>},\n",
       " 'Pasadena Transit': {datetime.datetime(2020, 2, 29, 0, 0): <partridge.gtfs.Feed at 0x14da1e430>,\n",
       "  datetime.datetime(2020, 8, 6, 0, 0): <partridge.gtfs.Feed at 0x14da1e3a0>,\n",
       "  datetime.datetime(2020, 10, 10, 0, 0): <partridge.gtfs.Feed at 0x14d8396a0>},\n",
       " 'Thousand Oaks Transit': {datetime.datetime(2020, 8, 4, 0, 0): <partridge.gtfs.Feed at 0x14da1eeb0>,\n",
       "  datetime.datetime(2020, 1, 7, 0, 0): <partridge.gtfs.Feed at 0x10cf26ee0>},\n",
       " 'LADOT (DASH & Commuter Express)': {datetime.datetime(2020, 7, 6, 0, 0): <partridge.gtfs.Feed at 0x10df64c10>,\n",
       "  datetime.datetime(2020, 8, 6, 0, 0): <partridge.gtfs.Feed at 0x10cf26280>,\n",
       "  datetime.datetime(2019, 12, 19, 0, 0): <partridge.gtfs.Feed at 0x14d0543d0>},\n",
       " 'Palos Verdes Peninsula Transit Authority': {datetime.datetime(2020, 7, 30, 0, 0): <partridge.gtfs.Feed at 0x14d032550>,\n",
       "  datetime.datetime(2019, 9, 21, 0, 0): <partridge.gtfs.Feed at 0x14d461760>}}"
      ]
     },
     "execution_count": 7,
     "metadata": {},
     "output_type": "execute_result"
    }
   ],
   "source": [
    "feeds_dict"
   ]
  },
  {
   "cell_type": "code",
   "execution_count": 8,
   "metadata": {},
   "outputs": [],
   "source": [
    "def get_county_geog(county):\n",
    "    '''Using TIGERweb API, get geographies for all tracts within a county'''\n",
    "    api_url = f'https://tigerweb.geo.census.gov/arcgis/rest/services/TIGERweb/tigerWMS_ACS2019/MapServer/8/query?f=json&outsr=4326&where=STATE={county[:2]}%20and%20county={county[2:]}'\n",
    "    data = requests.get(api_url).json()\n",
    "    data = arcgis2geojson(data)\n",
    "    #print(data)\n",
    "    gdf = gpd.GeoDataFrame.from_features(data['features'])\n",
    "    gdf['county'] = county\n",
    "    gdf.crs = 'EPSG:4326'\n",
    "    gdf = gdf.rename(columns={'BASENAME':'tract'})\n",
    "    return gdf\n",
    "\n",
    "def get_region_geog(counties):\n",
    "    region = get_county_geog(counties[0])\n",
    "    for county in counties[1:]:\n",
    "        region = region.append(get_county_geog(county))\n",
    "    return region"
   ]
  },
  {
   "cell_type": "code",
   "execution_count": 222,
   "metadata": {},
   "outputs": [],
   "source": [
    "# sac_counties = ['06113', '06101', '06115', '06061', '06057', '06005', '06017', '06095']\n",
    "# sac_tahoe = get_region_geog(sac_counties)\n",
    "# sac_tahoe.to_file(\"./geographies/sac_tahoe.geojson\", driver='GeoJSON')"
   ]
  },
  {
   "cell_type": "code",
   "execution_count": 9,
   "metadata": {},
   "outputs": [],
   "source": [
    "la_county = gpd.read_file('./geographies/la_county.geojson')"
   ]
  },
  {
   "cell_type": "code",
   "execution_count": 11,
   "metadata": {},
   "outputs": [],
   "source": [
    "example_feed = feeds_dict['Torrance Transit'][dt.datetime(2020, 7, 29, 0, 0)]"
   ]
  },
  {
   "cell_type": "code",
   "execution_count": 12,
   "metadata": {},
   "outputs": [],
   "source": [
    "## https://gist.github.com/csb19815/476335cb299ddb3d5a1a4b898424bb35\n",
    "\n",
    "def service_hours(stop_times, time_range=None):\n",
    "    '''return sum of duration of all trips in stop_times (filtered elsewhere)'''\n",
    "    \n",
    "    #support arbitrary time selections...\n",
    "    if time_range:\n",
    "        stop_times = (\n",
    "            stop_times[(stop_times['arrival_time'] >= time_range[0])\n",
    "            & (stop_times['arrival_time'] <= time_range[1])])\n",
    "    try:\n",
    "        trip_lengths = stop_times.groupby('trip_id').arrival_time.agg(['min', 'max'])\n",
    "        service_hours = (trip_lengths['max'] - trip_lengths['min']) / 60 / 60\n",
    "        return service_hours.sum()\n",
    "    except:\n",
    "        print('serv_hr_error, returning 0')\n",
    "        return 0\n"
   ]
  },
  {
   "cell_type": "code",
   "execution_count": 13,
   "metadata": {},
   "outputs": [
    {
     "data": {
      "text/html": [
       "<div>\n",
       "<style scoped>\n",
       "    .dataframe tbody tr th:only-of-type {\n",
       "        vertical-align: middle;\n",
       "    }\n",
       "\n",
       "    .dataframe tbody tr th {\n",
       "        vertical-align: top;\n",
       "    }\n",
       "\n",
       "    .dataframe thead th {\n",
       "        text-align: right;\n",
       "    }\n",
       "</style>\n",
       "<table border=\"1\" class=\"dataframe\">\n",
       "  <thead>\n",
       "    <tr style=\"text-align: right;\">\n",
       "      <th></th>\n",
       "      <th>trip_id</th>\n",
       "      <th>arrival_time</th>\n",
       "      <th>departure_time</th>\n",
       "      <th>stop_id</th>\n",
       "      <th>stop_sequence</th>\n",
       "      <th>stop_headsign</th>\n",
       "      <th>pickup_type</th>\n",
       "      <th>drop_off_type</th>\n",
       "      <th>shape_dist_traveled</th>\n",
       "      <th>timepoint</th>\n",
       "    </tr>\n",
       "  </thead>\n",
       "  <tbody>\n",
       "    <tr>\n",
       "      <th>0</th>\n",
       "      <td>374020</td>\n",
       "      <td>18900.0</td>\n",
       "      <td>18900.0</td>\n",
       "      <td>881</td>\n",
       "      <td>1</td>\n",
       "      <td>NaN</td>\n",
       "      <td>0</td>\n",
       "      <td>1</td>\n",
       "      <td>0.00</td>\n",
       "      <td>1</td>\n",
       "    </tr>\n",
       "    <tr>\n",
       "      <th>1</th>\n",
       "      <td>374020</td>\n",
       "      <td>19080.0</td>\n",
       "      <td>19080.0</td>\n",
       "      <td>366</td>\n",
       "      <td>2</td>\n",
       "      <td>NaN</td>\n",
       "      <td>0</td>\n",
       "      <td>0</td>\n",
       "      <td>1044.98</td>\n",
       "      <td>1</td>\n",
       "    </tr>\n",
       "    <tr>\n",
       "      <th>2</th>\n",
       "      <td>374020</td>\n",
       "      <td>19202.0</td>\n",
       "      <td>19202.0</td>\n",
       "      <td>367</td>\n",
       "      <td>3</td>\n",
       "      <td>NaN</td>\n",
       "      <td>0</td>\n",
       "      <td>0</td>\n",
       "      <td>2292.11</td>\n",
       "      <td>0</td>\n",
       "    </tr>\n",
       "    <tr>\n",
       "      <th>3</th>\n",
       "      <td>374020</td>\n",
       "      <td>19307.0</td>\n",
       "      <td>19307.0</td>\n",
       "      <td>368</td>\n",
       "      <td>4</td>\n",
       "      <td>NaN</td>\n",
       "      <td>0</td>\n",
       "      <td>0</td>\n",
       "      <td>3345.81</td>\n",
       "      <td>0</td>\n",
       "    </tr>\n",
       "    <tr>\n",
       "      <th>4</th>\n",
       "      <td>374020</td>\n",
       "      <td>19380.0</td>\n",
       "      <td>19380.0</td>\n",
       "      <td>354</td>\n",
       "      <td>5</td>\n",
       "      <td>NaN</td>\n",
       "      <td>0</td>\n",
       "      <td>0</td>\n",
       "      <td>4004.75</td>\n",
       "      <td>1</td>\n",
       "    </tr>\n",
       "    <tr>\n",
       "      <th>...</th>\n",
       "      <td>...</td>\n",
       "      <td>...</td>\n",
       "      <td>...</td>\n",
       "      <td>...</td>\n",
       "      <td>...</td>\n",
       "      <td>...</td>\n",
       "      <td>...</td>\n",
       "      <td>...</td>\n",
       "      <td>...</td>\n",
       "      <td>...</td>\n",
       "    </tr>\n",
       "    <tr>\n",
       "      <th>17469</th>\n",
       "      <td>123020</td>\n",
       "      <td>81013.0</td>\n",
       "      <td>81013.0</td>\n",
       "      <td>94</td>\n",
       "      <td>47</td>\n",
       "      <td>NaN</td>\n",
       "      <td>0</td>\n",
       "      <td>0</td>\n",
       "      <td>19701.56</td>\n",
       "      <td>0</td>\n",
       "    </tr>\n",
       "    <tr>\n",
       "      <th>17470</th>\n",
       "      <td>123020</td>\n",
       "      <td>81106.0</td>\n",
       "      <td>81106.0</td>\n",
       "      <td>95</td>\n",
       "      <td>48</td>\n",
       "      <td>NaN</td>\n",
       "      <td>0</td>\n",
       "      <td>0</td>\n",
       "      <td>20072.45</td>\n",
       "      <td>0</td>\n",
       "    </tr>\n",
       "    <tr>\n",
       "      <th>17471</th>\n",
       "      <td>123020</td>\n",
       "      <td>81205.0</td>\n",
       "      <td>81205.0</td>\n",
       "      <td>96</td>\n",
       "      <td>49</td>\n",
       "      <td>NaN</td>\n",
       "      <td>0</td>\n",
       "      <td>0</td>\n",
       "      <td>20506.47</td>\n",
       "      <td>0</td>\n",
       "    </tr>\n",
       "    <tr>\n",
       "      <th>17472</th>\n",
       "      <td>123020</td>\n",
       "      <td>81301.0</td>\n",
       "      <td>81301.0</td>\n",
       "      <td>97</td>\n",
       "      <td>50</td>\n",
       "      <td>NaN</td>\n",
       "      <td>0</td>\n",
       "      <td>0</td>\n",
       "      <td>20896.43</td>\n",
       "      <td>0</td>\n",
       "    </tr>\n",
       "    <tr>\n",
       "      <th>17473</th>\n",
       "      <td>123020</td>\n",
       "      <td>81360.0</td>\n",
       "      <td>81360.0</td>\n",
       "      <td>2</td>\n",
       "      <td>51</td>\n",
       "      <td>NaN</td>\n",
       "      <td>0</td>\n",
       "      <td>1</td>\n",
       "      <td>21160.25</td>\n",
       "      <td>1</td>\n",
       "    </tr>\n",
       "  </tbody>\n",
       "</table>\n",
       "<p>17474 rows × 10 columns</p>\n",
       "</div>"
      ],
      "text/plain": [
       "      trip_id  arrival_time  departure_time stop_id  stop_sequence  \\\n",
       "0      374020       18900.0         18900.0     881              1   \n",
       "1      374020       19080.0         19080.0     366              2   \n",
       "2      374020       19202.0         19202.0     367              3   \n",
       "3      374020       19307.0         19307.0     368              4   \n",
       "4      374020       19380.0         19380.0     354              5   \n",
       "...       ...           ...             ...     ...            ...   \n",
       "17469  123020       81013.0         81013.0      94             47   \n",
       "17470  123020       81106.0         81106.0      95             48   \n",
       "17471  123020       81205.0         81205.0      96             49   \n",
       "17472  123020       81301.0         81301.0      97             50   \n",
       "17473  123020       81360.0         81360.0       2             51   \n",
       "\n",
       "      stop_headsign  pickup_type drop_off_type  shape_dist_traveled  timepoint  \n",
       "0               NaN            0             1                 0.00          1  \n",
       "1               NaN            0             0              1044.98          1  \n",
       "2               NaN            0             0              2292.11          0  \n",
       "3               NaN            0             0              3345.81          0  \n",
       "4               NaN            0             0              4004.75          1  \n",
       "...             ...          ...           ...                  ...        ...  \n",
       "17469           NaN            0             0             19701.56          0  \n",
       "17470           NaN            0             0             20072.45          0  \n",
       "17471           NaN            0             0             20506.47          0  \n",
       "17472           NaN            0             0             20896.43          0  \n",
       "17473           NaN            0             1             21160.25          1  \n",
       "\n",
       "[17474 rows x 10 columns]"
      ]
     },
     "execution_count": 13,
     "metadata": {},
     "output_type": "execute_result"
    }
   ],
   "source": [
    "example_feed.stop_times"
   ]
  },
  {
   "cell_type": "code",
   "execution_count": 14,
   "metadata": {},
   "outputs": [],
   "source": [
    "def interpolate_stops(gdf, geo):\n",
    "    '''\n",
    "    When the next stop is in a different tract, estimate when it crosses tracts and add\n",
    "    that arrival time to both tracts. Important because the next step is to group by tract\n",
    "    and estimate service hours, service crossing tracts would be dropped without this interpolation.\n",
    "    '''\n",
    "    \n",
    "    #can't interpolate on single-stop trip... (should fix LADOT bug...)\n",
    "    if gdf.shape[0] < 2:\n",
    "        return gdf\n",
    "#     if gdf['geometry'].is_unique == False:\n",
    "#         print('non-unique stops!')\n",
    "#         return gdf\n",
    "    \n",
    "    gdf.loc[:, 'geometry'] = gdf.geometry.centroid\n",
    "    gdf.loc[:, 'lasttract'] = gdf['tract'].shift()\n",
    "    gdf.loc[:, 'lastgeo'] = gpd.GeoSeries(gdf['geometry'].shift())\n",
    "    gdf.loc[:, 'lastarr'] = gdf['arrival_time'].shift()\n",
    "    gdf.loc[:, 'sametract'] = gdf['tract'].eq(gdf['lasttract'])\n",
    "    #debug\n",
    "#     return gdf\n",
    "    #reset in case stop_id not a unique index\n",
    "    gdf = gdf.reset_index()\n",
    "#     return gdf\n",
    "    #create a line between every pair of stops\n",
    "#     print('lining...', end='')\n",
    "    gdf['line_last_stop'] = gdf.iloc[1:,:].apply(\n",
    "    lambda x: shapely.geometry.LineString(\n",
    "        [(x.lastgeo.x, x.lastgeo.y),\n",
    "         (x.geometry.x, x.geometry.y)\n",
    "        ]), axis=1)\n",
    "#     print('lined!...', end='')\n",
    "\n",
    "    #add column with arrival time at tract boundary\n",
    "    \n",
    "#     global _debug\n",
    "#     _debug = gdf\n",
    "#     display(gdf)\n",
    "\n",
    "    gdf['split_arr'] = gdf.apply(line_in_tracts, args=(geo,), axis = 1)\n",
    "    #generate df with tract+arrival time rows to be appended\n",
    "    records = gdf.apply(add_interpolated_rows, axis=1).dropna().values\n",
    "    to_append = pd.DataFrame()\n",
    "    for record in records:\n",
    "        to_append = to_append.append(pd.DataFrame(record))\n",
    "    #append interpolated rows to origional stop times gdf\n",
    "    merged_df = (gdf.append(to_append).\n",
    "                 reset_index()[['tract', 'arrival_time', 'stop_sequence', 'trip_id']])\n",
    "    merged_df.loc[:, 'trip_id'] = merged_df['trip_id'][0]\n",
    "    return merged_df"
   ]
  },
  {
   "cell_type": "code",
   "execution_count": 15,
   "metadata": {},
   "outputs": [],
   "source": [
    "def line_in_tracts(df, tract_geos):\n",
    "    '''Measure how much of the distance between 2 stops is in each tract'''\n",
    "    if df['sametract'] or  np.all(np.isnan(df['line_last_stop'])):\n",
    "        return\n",
    "    tract1 = df['lasttract']\n",
    "    tract2 = df['tract']\n",
    "    line = df['line_last_stop']\n",
    "    tract1_polygon = tract_geos[tract_geos['tract'] == tract1]['geometry'].iloc[0]\n",
    "    tract2_polygon = tract_geos[tract_geos['tract'] == tract2]['geometry'].iloc[0]\n",
    "    line_tract1 = line.length - line.difference(tract1_polygon).length\n",
    "    line_tract2 = line.length - line.difference(tract2_polygon).length\n",
    "    line_total = line_tract1 + line_tract2\n",
    "    #display(df)\n",
    "#     print(line_tract1, line_tract2, line_total)\n",
    "    #list with first value being % of line in tract1, second being % of line in tract 2\n",
    "    ##note this is only out of the 2-tract total, ignores potential intermediate tracts\n",
    "    arrival_splits = (np.array([line_tract1/line_total, line_tract2/line_total]) * \n",
    "                      (df['arrival_time'] - df['lastarr']))\n",
    "    return df['lastarr'] + arrival_splits[0]"
   ]
  },
  {
   "cell_type": "code",
   "execution_count": 16,
   "metadata": {},
   "outputs": [],
   "source": [
    "def add_interpolated_rows(df):\n",
    "    '''Generate dict with a single set of interpolated rows'''\n",
    "    if df['split_arr'] and not np.all(np.isnan(df['split_arr'])):\n",
    "        two_rows = {'tract': [df['tract'], df['lasttract']], 'arrival_time': df['split_arr']}\n",
    "        return two_rows"
   ]
  },
  {
   "cell_type": "code",
   "execution_count": 17,
   "metadata": {},
   "outputs": [
    {
     "data": {
      "text/plain": [
       "{'Long Beach Transit': {datetime.datetime(2020, 10, 8, 0, 0): <partridge.gtfs.Feed at 0x10ec79eb0>,\n",
       "  datetime.datetime(2020, 7, 30, 0, 0): <partridge.gtfs.Feed at 0x14d23ba30>,\n",
       "  datetime.datetime(2020, 2, 13, 0, 0): <partridge.gtfs.Feed at 0x10cf26d30>},\n",
       " 'Torrance Transit': {datetime.datetime(2020, 7, 29, 0, 0): <partridge.gtfs.Feed at 0x10df64250>,\n",
       "  datetime.datetime(2020, 10, 11, 0, 0): <partridge.gtfs.Feed at 0x10df87a00>,\n",
       "  datetime.datetime(2020, 1, 6, 0, 0): <partridge.gtfs.Feed at 0x14da27e20>},\n",
       " 'Big Blue Bus': {datetime.datetime(2020, 6, 5, 0, 0): <partridge.gtfs.Feed at 0x14d617be0>,\n",
       "  datetime.datetime(2020, 2, 17, 0, 0): <partridge.gtfs.Feed at 0x14d80ab50>,\n",
       "  datetime.datetime(2020, 9, 30, 0, 0): <partridge.gtfs.Feed at 0x14d2cb2b0>},\n",
       " 'LA Metro (Bus)': {datetime.datetime(2020, 1, 16, 0, 0): <partridge.gtfs.Feed at 0x14d2cbd00>,\n",
       "  datetime.datetime(2020, 8, 30, 0, 0): <partridge.gtfs.Feed at 0x14d617310>},\n",
       " 'Norwalk Transit': {datetime.datetime(2020, 8, 6, 0, 0): <partridge.gtfs.Feed at 0x10df87070>,\n",
       "  datetime.datetime(2020, 2, 18, 0, 0): <partridge.gtfs.Feed at 0x10cf26730>,\n",
       "  datetime.datetime(2020, 8, 13, 0, 0): <partridge.gtfs.Feed at 0x14d23beb0>},\n",
       " 'La Metro (Rail)': {datetime.datetime(2020, 2, 29, 0, 0): <partridge.gtfs.Feed at 0x14d764d90>,\n",
       "  datetime.datetime(2020, 8, 6, 0, 0): <partridge.gtfs.Feed at 0x14d461d00>,\n",
       "  datetime.datetime(2020, 10, 10, 0, 0): <partridge.gtfs.Feed at 0x14d23b0a0>},\n",
       " 'Culver City Bus': {datetime.datetime(2020, 1, 14, 0, 0): <partridge.gtfs.Feed at 0x10df64dc0>,\n",
       "  datetime.datetime(2020, 9, 12, 0, 0): <partridge.gtfs.Feed at 0x14d80a850>,\n",
       "  datetime.datetime(2020, 4, 11, 0, 0): <partridge.gtfs.Feed at 0x14d617670>},\n",
       " 'Pasadena Transit': {datetime.datetime(2020, 2, 29, 0, 0): <partridge.gtfs.Feed at 0x14da1e430>,\n",
       "  datetime.datetime(2020, 8, 6, 0, 0): <partridge.gtfs.Feed at 0x14da1e3a0>,\n",
       "  datetime.datetime(2020, 10, 10, 0, 0): <partridge.gtfs.Feed at 0x14d8396a0>},\n",
       " 'Thousand Oaks Transit': {datetime.datetime(2020, 8, 4, 0, 0): <partridge.gtfs.Feed at 0x14da1eeb0>,\n",
       "  datetime.datetime(2020, 1, 7, 0, 0): <partridge.gtfs.Feed at 0x10cf26ee0>},\n",
       " 'LADOT (DASH & Commuter Express)': {datetime.datetime(2020, 7, 6, 0, 0): <partridge.gtfs.Feed at 0x10df64c10>,\n",
       "  datetime.datetime(2020, 8, 6, 0, 0): <partridge.gtfs.Feed at 0x10cf26280>,\n",
       "  datetime.datetime(2019, 12, 19, 0, 0): <partridge.gtfs.Feed at 0x14d0543d0>},\n",
       " 'Palos Verdes Peninsula Transit Authority': {datetime.datetime(2020, 7, 30, 0, 0): <partridge.gtfs.Feed at 0x14d032550>,\n",
       "  datetime.datetime(2019, 9, 21, 0, 0): <partridge.gtfs.Feed at 0x14d461760>}}"
      ]
     },
     "execution_count": 17,
     "metadata": {},
     "output_type": "execute_result"
    }
   ],
   "source": [
    "feeds_dict"
   ]
  },
  {
   "cell_type": "code",
   "execution_count": 18,
   "metadata": {},
   "outputs": [],
   "source": [
    "# test_agencies = ['torrance', 'lacmta_rail', 'bbb', 'ccb']\n",
    "test_agencies = ['Torrance Transit']\n",
    "test_dict = {agency: feeds_dict[agency] for agency in test_agencies}"
   ]
  },
  {
   "cell_type": "code",
   "execution_count": 19,
   "metadata": {},
   "outputs": [
    {
     "data": {
      "text/plain": [
       "{'Torrance Transit': {datetime.datetime(2020, 7, 29, 0, 0): <partridge.gtfs.Feed at 0x10df64250>,\n",
       "  datetime.datetime(2020, 10, 11, 0, 0): <partridge.gtfs.Feed at 0x10df87a00>,\n",
       "  datetime.datetime(2020, 1, 6, 0, 0): <partridge.gtfs.Feed at 0x14da27e20>}}"
      ]
     },
     "execution_count": 19,
     "metadata": {},
     "output_type": "execute_result"
    }
   ],
   "source": [
    "test_dict"
   ]
  },
  {
   "cell_type": "code",
   "execution_count": 20,
   "metadata": {},
   "outputs": [],
   "source": [
    "def service_hours_by_geo(times_in_geo, serv_type):\n",
    "    '''Calculate service hours by tract at a particular time of day'''\n",
    "    #GTFS times are measured in seconds since midnight, so 6*60**2 corresponds to 6:00AM\n",
    "    serv_times = {'am_peak': (6*60**2, 9*60**2),\n",
    "                  'midday': (9*60**2, 15*60**2),\n",
    "                 'pm_peak': (15*60**2, 19*60**2),\n",
    "                 'evening': (19*60**2, 28*60**2),\n",
    "                 'early_am': (0*60**2, 6*60**2)}\n",
    "    \n",
    "    grouped = pd.DataFrame(times_in_geo.groupby(\"tract\").\n",
    "            apply(service_hours, time_range = (serv_times[serv_type])))\n",
    "    grouped = grouped.rename(columns = {0:f'{serv_type}_vrh'})\n",
    "    \n",
    "    return grouped"
   ]
  },
  {
   "cell_type": "code",
   "execution_count": 21,
   "metadata": {},
   "outputs": [],
   "source": [
    "def single_agency_df(feed, geo):\n",
    "    '''Calculate service hours by tract by service type for a single feed (agency+date)'''\n",
    "    serv_types = ['am_peak', 'midday', 'pm_peak', 'evening', 'early_am']\n",
    "    \n",
    "    #interpolate between stop times if needed\n",
    "    if feed.stop_times['arrival_time'].isnull().any():\n",
    "        nulls = feed.stop_times['arrival_time'].isnull().value_counts()[True]\n",
    "        print(f'Feed contains {nulls} null stop_times entries, interpolating...')\n",
    "        feed.stop_times['arrival_time'] = feed.stop_times['arrival_time'].interpolate()\n",
    "        feed.stop_times['departure_time'] = feed.stop_times['departure_time'].interpolate()\n",
    "        \n",
    "    def stops_in_geo(feed, geo):\n",
    "\n",
    "        stops_in_geo = gpd.sjoin(geo, feed.stops,\n",
    "                                 how='inner', op='intersects')\n",
    "        stops_in_geo = stops_in_geo.drop_duplicates(subset=['stop_id'])\n",
    "        stops_in_geo = stops_in_geo.set_index('stop_id')\n",
    "        return stops_in_geo\n",
    "\n",
    "    times_in_geo = stops_in_geo(feed, geo).join(\n",
    "        feed.stop_times.set_index('stop_id'), how='inner')\n",
    "    ##BBB debug return\n",
    "#     return times_in_geo\n",
    "\n",
    "    #interpolate_stops is applied here once per feed (this is the slowest step)\n",
    "#     times_in_geo = (times_in_geo.sort_values(by=['trip_id', 'stop_sequence'])\n",
    "#                .groupby('trip_id').apply(interpolate_stops, geo=geo)\n",
    "#                .rename(columns={'trip_id':'trip_id2'}))\n",
    "\n",
    "    times_in_geo = (times_in_geo.sort_values(by=['trip_id', 'stop_sequence'])\n",
    "               .groupby('trip_id').progress_apply(interpolate_stops, geo=geo)\n",
    "               .rename(columns={'trip_id':'trip_id2'}))\n",
    "\n",
    "    vrh_by_serv_type = pd.DataFrame()\n",
    "    for serv_type in serv_types:\n",
    "        print(serv_type)\n",
    "        vrh_by_serv_type = vrh_by_serv_type.append(\n",
    "            service_hours_by_geo(times_in_geo, serv_type))\n",
    "    return vrh_by_serv_type"
   ]
  },
  {
   "cell_type": "code",
   "execution_count": 22,
   "metadata": {},
   "outputs": [],
   "source": [
    "def service_hour_df(feeds_dict, geo):\n",
    "    '''\n",
    "    Given dictionary of feeds generated in previous step,\n",
    "    generate final dataframe with VRH by tract, COVID status, and agency.\n",
    "    Currently slow to run if feeds are large (expect 20-40 minutes for LA area).\n",
    "    '''\n",
    "    mdf = pd.DataFrame()\n",
    "    \n",
    "    for agency in list(feeds_dict.keys()):\n",
    "        print(agency)\n",
    "        agency_dict = feeds_dict[agency]\n",
    "        pre_covid = agency_dict[min(agency_dict.keys())]\n",
    "        pre_covid.stops.crs = 'EPSG:4326'\n",
    "        current = agency_dict[max(agency_dict.keys())]\n",
    "        current.stops.crs = 'EPSG:4326'\n",
    "        try:\n",
    "            print('pre-covid')\n",
    "            ##TODO add some sort of progress print in interpolate_stops?\n",
    "            pre_covid_hrs = single_agency_df(pre_covid, geo)\n",
    "            pre_covid_hrs['covid'] = 0\n",
    "            pre_covid_hrs.set_index('covid', append=True, inplace=True)\n",
    "    #         return pre_covid_hrs\n",
    "            print('covid')\n",
    "            current_hrs = single_agency_df(current, geo) \n",
    "            current_hrs['covid'] = 1\n",
    "            current_hrs.set_index('covid', append=True, inplace=True)\n",
    "        #         return current_hrs\n",
    "        #skip to next agency if either of these fail (continuing to debug interpolation)...\n",
    "        except:\n",
    "            continue\n",
    "        \n",
    "        agency_hrs = pre_covid_hrs.append(current_hrs)\n",
    "        agency_hrs['agency'] = agency\n",
    "        agency_hrs.set_index('agency', append=True, inplace=True)\n",
    "        mdf = mdf.append(agency_hrs)\n",
    "        \n",
    "    mdf = mdf.groupby(level=['tract', 'covid', 'agency']).sum()\n",
    "    mdf['total_vrh'] = mdf.sum(axis=1)\n",
    "    return mdf"
   ]
  },
  {
   "cell_type": "code",
   "execution_count": 30,
   "metadata": {
    "scrolled": true
   },
   "outputs": [
    {
     "name": "stdout",
     "output_type": "stream",
     "text": [
      "Long Beach Transit\n"
     ]
    },
    {
     "name": "stderr",
     "output_type": "stream",
     "text": [
      "/Users/edasmalchi/anaconda3/envs/pd1/lib/python3.8/site-packages/pyproj/crs/crs.py:53: FutureWarning: '+init=<authority>:<code>' syntax is deprecated. '<authority>:<code>' is the preferred initialization method. When making the change, be mindful of axis order changes: https://pyproj4.github.io/pyproj/stable/gotchas.html#axis-order-changes-in-proj-6\n",
      "  return _prepare_from_string(\" \".join(pjargs))\n"
     ]
    },
    {
     "name": "stdout",
     "output_type": "stream",
     "text": [
      "pre-covid\n"
     ]
    },
    {
     "data": {
      "application/vnd.jupyter.widget-view+json": {
       "model_id": "ba5aa62760b44ca79a78b41cb4b05f45",
       "version_major": 2,
       "version_minor": 0
      },
      "text/plain": [
       "HBox(children=(FloatProgress(value=0.0, description='interpolating stops...', max=2180.0, style=ProgressStyle(…"
      ]
     },
     "metadata": {},
     "output_type": "display_data"
    },
    {
     "name": "stdout",
     "output_type": "stream",
     "text": [
      "\n",
      "am_peak\n",
      "midday\n",
      "pm_peak\n",
      "evening\n",
      "early_am\n",
      "covid\n"
     ]
    },
    {
     "data": {
      "application/vnd.jupyter.widget-view+json": {
       "model_id": "fe3cb8380a874dfdb384184fbad2a075",
       "version_major": 2,
       "version_minor": 0
      },
      "text/plain": [
       "HBox(children=(FloatProgress(value=0.0, description='interpolating stops...', max=1451.0, style=ProgressStyle(…"
      ]
     },
     "metadata": {},
     "output_type": "display_data"
    },
    {
     "name": "stdout",
     "output_type": "stream",
     "text": [
      "\n",
      "am_peak\n",
      "midday\n",
      "pm_peak\n",
      "evening\n",
      "early_am\n",
      "Torrance Transit\n",
      "pre-covid\n"
     ]
    },
    {
     "data": {
      "application/vnd.jupyter.widget-view+json": {
       "model_id": "3aa9958a603d405a831a7bcf62253ffe",
       "version_major": 2,
       "version_minor": 0
      },
      "text/plain": [
       "HBox(children=(FloatProgress(value=0.0, description='interpolating stops...', max=510.0, style=ProgressStyle(d…"
      ]
     },
     "metadata": {},
     "output_type": "display_data"
    },
    {
     "name": "stdout",
     "output_type": "stream",
     "text": [
      "\n",
      "am_peak\n",
      "midday\n",
      "pm_peak\n",
      "evening\n",
      "early_am\n",
      "covid\n"
     ]
    },
    {
     "data": {
      "application/vnd.jupyter.widget-view+json": {
       "model_id": "4a9220b992dd4c6f9ab09a8cfa4f2746",
       "version_major": 2,
       "version_minor": 0
      },
      "text/plain": [
       "HBox(children=(FloatProgress(value=0.0, description='interpolating stops...', max=510.0, style=ProgressStyle(d…"
      ]
     },
     "metadata": {},
     "output_type": "display_data"
    },
    {
     "name": "stdout",
     "output_type": "stream",
     "text": [
      "\n",
      "am_peak\n",
      "midday\n",
      "pm_peak\n",
      "evening\n",
      "early_am\n",
      "Big Blue Bus\n"
     ]
    },
    {
     "name": "stderr",
     "output_type": "stream",
     "text": [
      "/Users/edasmalchi/anaconda3/envs/pd1/lib/python3.8/site-packages/pyproj/crs/crs.py:53: FutureWarning: '+init=<authority>:<code>' syntax is deprecated. '<authority>:<code>' is the preferred initialization method. When making the change, be mindful of axis order changes: https://pyproj4.github.io/pyproj/stable/gotchas.html#axis-order-changes-in-proj-6\n",
      "  return _prepare_from_string(\" \".join(pjargs))\n"
     ]
    },
    {
     "name": "stdout",
     "output_type": "stream",
     "text": [
      "pre-covid\n"
     ]
    },
    {
     "data": {
      "application/vnd.jupyter.widget-view+json": {
       "model_id": "7d007bda11994c5aaa30551ccf92c0c6",
       "version_major": 2,
       "version_minor": 0
      },
      "text/plain": [
       "HBox(children=(FloatProgress(value=0.0, description='interpolating stops...', max=1812.0, style=ProgressStyle(…"
      ]
     },
     "metadata": {},
     "output_type": "display_data"
    },
    {
     "name": "stdout",
     "output_type": "stream",
     "text": [
      "\n",
      "am_peak\n",
      "midday\n",
      "pm_peak\n",
      "evening\n",
      "early_am\n",
      "covid\n"
     ]
    },
    {
     "data": {
      "application/vnd.jupyter.widget-view+json": {
       "model_id": "350533a6fe3d406abf71f82f3fc402ad",
       "version_major": 2,
       "version_minor": 0
      },
      "text/plain": [
       "HBox(children=(FloatProgress(value=0.0, description='interpolating stops...', max=1300.0, style=ProgressStyle(…"
      ]
     },
     "metadata": {},
     "output_type": "display_data"
    },
    {
     "name": "stdout",
     "output_type": "stream",
     "text": [
      "\n",
      "am_peak\n",
      "midday\n",
      "pm_peak\n",
      "evening\n",
      "early_am\n",
      "LA Metro (Bus)\n"
     ]
    },
    {
     "name": "stderr",
     "output_type": "stream",
     "text": [
      "/Users/edasmalchi/anaconda3/envs/pd1/lib/python3.8/site-packages/pyproj/crs/crs.py:53: FutureWarning: '+init=<authority>:<code>' syntax is deprecated. '<authority>:<code>' is the preferred initialization method. When making the change, be mindful of axis order changes: https://pyproj4.github.io/pyproj/stable/gotchas.html#axis-order-changes-in-proj-6\n",
      "  return _prepare_from_string(\" \".join(pjargs))\n"
     ]
    },
    {
     "name": "stdout",
     "output_type": "stream",
     "text": [
      "pre-covid\n"
     ]
    },
    {
     "data": {
      "application/vnd.jupyter.widget-view+json": {
       "model_id": "4a812139ca624b8db533a7883dcdb900",
       "version_major": 2,
       "version_minor": 0
      },
      "text/plain": [
       "HBox(children=(FloatProgress(value=0.0, description='interpolating stops...', max=14118.0, style=ProgressStyle…"
      ]
     },
     "metadata": {},
     "output_type": "display_data"
    },
    {
     "name": "stdout",
     "output_type": "stream",
     "text": [
      "\n",
      "am_peak\n",
      "midday\n",
      "pm_peak\n",
      "evening\n",
      "early_am\n",
      "covid\n"
     ]
    },
    {
     "data": {
      "application/vnd.jupyter.widget-view+json": {
       "model_id": "f84c404ba398401fab4b4fd1eae2dc65",
       "version_major": 2,
       "version_minor": 0
      },
      "text/plain": [
       "HBox(children=(FloatProgress(value=0.0, description='interpolating stops...', max=10723.0, style=ProgressStyle…"
      ]
     },
     "metadata": {},
     "output_type": "display_data"
    },
    {
     "name": "stdout",
     "output_type": "stream",
     "text": [
      "\n",
      "am_peak\n",
      "midday\n",
      "pm_peak\n",
      "evening\n",
      "early_am\n",
      "Norwalk Transit\n"
     ]
    },
    {
     "name": "stderr",
     "output_type": "stream",
     "text": [
      "/Users/edasmalchi/anaconda3/envs/pd1/lib/python3.8/site-packages/pyproj/crs/crs.py:53: FutureWarning: '+init=<authority>:<code>' syntax is deprecated. '<authority>:<code>' is the preferred initialization method. When making the change, be mindful of axis order changes: https://pyproj4.github.io/pyproj/stable/gotchas.html#axis-order-changes-in-proj-6\n",
      "  return _prepare_from_string(\" \".join(pjargs))\n"
     ]
    },
    {
     "name": "stdout",
     "output_type": "stream",
     "text": [
      "pre-covid\n",
      "Feed contains 11074 null stop_times entries, interpolating...\n"
     ]
    },
    {
     "data": {
      "application/vnd.jupyter.widget-view+json": {
       "model_id": "dd0f70d7abb44b5ba235dbe83f961ccb",
       "version_major": 2,
       "version_minor": 0
      },
      "text/plain": [
       "HBox(children=(FloatProgress(value=0.0, description='interpolating stops...', max=321.0, style=ProgressStyle(d…"
      ]
     },
     "metadata": {},
     "output_type": "display_data"
    },
    {
     "name": "stdout",
     "output_type": "stream",
     "text": [
      "\n",
      "am_peak\n",
      "midday\n",
      "pm_peak\n",
      "evening\n",
      "early_am\n",
      "covid\n",
      "Feed contains 11125 null stop_times entries, interpolating...\n"
     ]
    },
    {
     "data": {
      "application/vnd.jupyter.widget-view+json": {
       "model_id": "a470c9fa493f478d822fe786a275a6a4",
       "version_major": 2,
       "version_minor": 0
      },
      "text/plain": [
       "HBox(children=(FloatProgress(value=0.0, description='interpolating stops...', max=321.0, style=ProgressStyle(d…"
      ]
     },
     "metadata": {},
     "output_type": "display_data"
    },
    {
     "name": "stdout",
     "output_type": "stream",
     "text": [
      "\n",
      "am_peak\n",
      "midday\n",
      "pm_peak\n",
      "evening\n",
      "early_am\n",
      "La Metro (Rail)\n"
     ]
    },
    {
     "name": "stderr",
     "output_type": "stream",
     "text": [
      "/Users/edasmalchi/anaconda3/envs/pd1/lib/python3.8/site-packages/pyproj/crs/crs.py:53: FutureWarning: '+init=<authority>:<code>' syntax is deprecated. '<authority>:<code>' is the preferred initialization method. When making the change, be mindful of axis order changes: https://pyproj4.github.io/pyproj/stable/gotchas.html#axis-order-changes-in-proj-6\n",
      "  return _prepare_from_string(\" \".join(pjargs))\n"
     ]
    },
    {
     "name": "stdout",
     "output_type": "stream",
     "text": [
      "pre-covid\n"
     ]
    },
    {
     "data": {
      "application/vnd.jupyter.widget-view+json": {
       "model_id": "1d2320ba3033448291529e614e59dcb4",
       "version_major": 2,
       "version_minor": 0
      },
      "text/plain": [
       "HBox(children=(FloatProgress(value=0.0, description='interpolating stops...', max=1461.0, style=ProgressStyle(…"
      ]
     },
     "metadata": {},
     "output_type": "display_data"
    },
    {
     "name": "stdout",
     "output_type": "stream",
     "text": [
      "\n",
      "am_peak\n",
      "midday\n",
      "pm_peak\n",
      "evening\n",
      "early_am\n",
      "covid\n"
     ]
    },
    {
     "data": {
      "application/vnd.jupyter.widget-view+json": {
       "model_id": "d315534255824ab2b904a12b9ebc1985",
       "version_major": 2,
       "version_minor": 0
      },
      "text/plain": [
       "HBox(children=(FloatProgress(value=0.0, description='interpolating stops...', max=1086.0, style=ProgressStyle(…"
      ]
     },
     "metadata": {},
     "output_type": "display_data"
    },
    {
     "name": "stdout",
     "output_type": "stream",
     "text": [
      "\n",
      "am_peak\n",
      "midday\n",
      "pm_peak\n",
      "evening\n",
      "early_am\n",
      "Culver City Bus\n"
     ]
    },
    {
     "name": "stderr",
     "output_type": "stream",
     "text": [
      "/Users/edasmalchi/anaconda3/envs/pd1/lib/python3.8/site-packages/pyproj/crs/crs.py:53: FutureWarning: '+init=<authority>:<code>' syntax is deprecated. '<authority>:<code>' is the preferred initialization method. When making the change, be mindful of axis order changes: https://pyproj4.github.io/pyproj/stable/gotchas.html#axis-order-changes-in-proj-6\n",
      "  return _prepare_from_string(\" \".join(pjargs))\n"
     ]
    },
    {
     "name": "stdout",
     "output_type": "stream",
     "text": [
      "pre-covid\n"
     ]
    },
    {
     "data": {
      "application/vnd.jupyter.widget-view+json": {
       "model_id": "971d68353fc54de8b1ad3337f04e620d",
       "version_major": 2,
       "version_minor": 0
      },
      "text/plain": [
       "HBox(children=(FloatProgress(value=0.0, description='interpolating stops...', max=525.0, style=ProgressStyle(d…"
      ]
     },
     "metadata": {},
     "output_type": "display_data"
    },
    {
     "name": "stdout",
     "output_type": "stream",
     "text": [
      "\n",
      "am_peak\n",
      "midday\n",
      "pm_peak\n",
      "evening\n",
      "early_am\n",
      "covid\n"
     ]
    },
    {
     "data": {
      "application/vnd.jupyter.widget-view+json": {
       "model_id": "be330513512a4fdeaacefd5fda8183e2",
       "version_major": 2,
       "version_minor": 0
      },
      "text/plain": [
       "HBox(children=(FloatProgress(value=0.0, description='interpolating stops...', max=453.0, style=ProgressStyle(d…"
      ]
     },
     "metadata": {},
     "output_type": "display_data"
    },
    {
     "name": "stdout",
     "output_type": "stream",
     "text": [
      "\n",
      "am_peak\n",
      "midday\n",
      "pm_peak\n",
      "evening\n",
      "early_am\n",
      "Pasadena Transit\n"
     ]
    },
    {
     "name": "stderr",
     "output_type": "stream",
     "text": [
      "/Users/edasmalchi/anaconda3/envs/pd1/lib/python3.8/site-packages/pyproj/crs/crs.py:53: FutureWarning: '+init=<authority>:<code>' syntax is deprecated. '<authority>:<code>' is the preferred initialization method. When making the change, be mindful of axis order changes: https://pyproj4.github.io/pyproj/stable/gotchas.html#axis-order-changes-in-proj-6\n",
      "  return _prepare_from_string(\" \".join(pjargs))\n"
     ]
    },
    {
     "name": "stdout",
     "output_type": "stream",
     "text": [
      "pre-covid\n"
     ]
    },
    {
     "data": {
      "application/vnd.jupyter.widget-view+json": {
       "model_id": "3ecaa8fcec12436e94296f5dcb3e806a",
       "version_major": 2,
       "version_minor": 0
      },
      "text/plain": [
       "HBox(children=(FloatProgress(value=0.0, description='interpolating stops...', max=361.0, style=ProgressStyle(d…"
      ]
     },
     "metadata": {},
     "output_type": "display_data"
    },
    {
     "name": "stdout",
     "output_type": "stream",
     "text": [
      "\n",
      "am_peak\n",
      "midday\n",
      "pm_peak\n",
      "evening\n",
      "early_am\n",
      "covid\n"
     ]
    },
    {
     "data": {
      "application/vnd.jupyter.widget-view+json": {
       "model_id": "a6243b903099427dace2eb4b77999d7a",
       "version_major": 2,
       "version_minor": 0
      },
      "text/plain": [
       "HBox(children=(FloatProgress(value=0.0, description='interpolating stops...', max=317.0, style=ProgressStyle(d…"
      ]
     },
     "metadata": {},
     "output_type": "display_data"
    },
    {
     "name": "stdout",
     "output_type": "stream",
     "text": [
      "\n",
      "am_peak\n",
      "midday\n",
      "pm_peak\n",
      "evening\n",
      "early_am\n",
      "Thousand Oaks Transit\n"
     ]
    },
    {
     "name": "stderr",
     "output_type": "stream",
     "text": [
      "/Users/edasmalchi/anaconda3/envs/pd1/lib/python3.8/site-packages/pyproj/crs/crs.py:53: FutureWarning: '+init=<authority>:<code>' syntax is deprecated. '<authority>:<code>' is the preferred initialization method. When making the change, be mindful of axis order changes: https://pyproj4.github.io/pyproj/stable/gotchas.html#axis-order-changes-in-proj-6\n",
      "  return _prepare_from_string(\" \".join(pjargs))\n"
     ]
    },
    {
     "name": "stdout",
     "output_type": "stream",
     "text": [
      "pre-covid\n"
     ]
    },
    {
     "data": {
      "application/vnd.jupyter.widget-view+json": {
       "model_id": "b86b01a0cd51435fb2187a3daef3604d",
       "version_major": 2,
       "version_minor": 0
      },
      "text/plain": [
       "HBox(children=(FloatProgress(value=0.0, description='interpolating stops...', max=11.0, style=ProgressStyle(de…"
      ]
     },
     "metadata": {},
     "output_type": "display_data"
    },
    {
     "name": "stdout",
     "output_type": "stream",
     "text": [
      "\n",
      "am_peak\n",
      "serv_hr_error, returning 0\n",
      "midday\n",
      "serv_hr_error, returning 0\n",
      "pm_peak\n",
      "serv_hr_error, returning 0\n",
      "evening\n",
      "serv_hr_error, returning 0\n",
      "early_am\n",
      "serv_hr_error, returning 0\n",
      "covid\n"
     ]
    },
    {
     "data": {
      "application/vnd.jupyter.widget-view+json": {
       "model_id": "24755089dfba4f6dafb7ed9b09dc6ef6",
       "version_major": 2,
       "version_minor": 0
      },
      "text/plain": [
       "HBox(children=(FloatProgress(value=0.0, description='interpolating stops...', max=13.0, style=ProgressStyle(de…"
      ]
     },
     "metadata": {},
     "output_type": "display_data"
    },
    {
     "name": "stdout",
     "output_type": "stream",
     "text": [
      "\n",
      "am_peak\n",
      "serv_hr_error, returning 0\n",
      "midday\n",
      "serv_hr_error, returning 0\n",
      "pm_peak\n",
      "serv_hr_error, returning 0\n",
      "evening\n",
      "serv_hr_error, returning 0\n",
      "early_am\n",
      "serv_hr_error, returning 0\n",
      "LADOT (DASH & Commuter Express)\n"
     ]
    },
    {
     "name": "stderr",
     "output_type": "stream",
     "text": [
      "/Users/edasmalchi/anaconda3/envs/pd1/lib/python3.8/site-packages/pyproj/crs/crs.py:53: FutureWarning: '+init=<authority>:<code>' syntax is deprecated. '<authority>:<code>' is the preferred initialization method. When making the change, be mindful of axis order changes: https://pyproj4.github.io/pyproj/stable/gotchas.html#axis-order-changes-in-proj-6\n",
      "  return _prepare_from_string(\" \".join(pjargs))\n"
     ]
    },
    {
     "name": "stdout",
     "output_type": "stream",
     "text": [
      "pre-covid\n"
     ]
    },
    {
     "data": {
      "application/vnd.jupyter.widget-view+json": {
       "model_id": "2fc74fcfbc354ecaa6779888e2acbb8d",
       "version_major": 2,
       "version_minor": 0
      },
      "text/plain": [
       "HBox(children=(FloatProgress(value=0.0, description='interpolating stops...', max=2880.0, style=ProgressStyle(…"
      ]
     },
     "metadata": {},
     "output_type": "display_data"
    },
    {
     "name": "stdout",
     "output_type": "stream",
     "text": [
      "\n",
      "am_peak\n",
      "midday\n",
      "pm_peak\n",
      "evening\n",
      "early_am\n",
      "covid\n"
     ]
    },
    {
     "data": {
      "application/vnd.jupyter.widget-view+json": {
       "model_id": "1d0a4c1adf6543928523ae2992cb8f6d",
       "version_major": 2,
       "version_minor": 0
      },
      "text/plain": [
       "HBox(children=(FloatProgress(value=0.0, description='interpolating stops...', max=2613.0, style=ProgressStyle(…"
      ]
     },
     "metadata": {},
     "output_type": "display_data"
    },
    {
     "name": "stdout",
     "output_type": "stream",
     "text": [
      "\n",
      "am_peak\n",
      "midday\n",
      "pm_peak\n",
      "evening\n",
      "early_am\n",
      "Palos Verdes Peninsula Transit Authority\n"
     ]
    },
    {
     "name": "stderr",
     "output_type": "stream",
     "text": [
      "/Users/edasmalchi/anaconda3/envs/pd1/lib/python3.8/site-packages/pyproj/crs/crs.py:53: FutureWarning: '+init=<authority>:<code>' syntax is deprecated. '<authority>:<code>' is the preferred initialization method. When making the change, be mindful of axis order changes: https://pyproj4.github.io/pyproj/stable/gotchas.html#axis-order-changes-in-proj-6\n",
      "  return _prepare_from_string(\" \".join(pjargs))\n"
     ]
    },
    {
     "name": "stdout",
     "output_type": "stream",
     "text": [
      "pre-covid\n",
      "Feed contains 1874 null stop_times entries, interpolating...\n"
     ]
    },
    {
     "data": {
      "application/vnd.jupyter.widget-view+json": {
       "model_id": "e429dbaf82964e5f831c294d9f08756e",
       "version_major": 2,
       "version_minor": 0
      },
      "text/plain": [
       "HBox(children=(FloatProgress(value=0.0, description='interpolating stops...', max=121.0, style=ProgressStyle(d…"
      ]
     },
     "metadata": {},
     "output_type": "display_data"
    },
    {
     "name": "stdout",
     "output_type": "stream",
     "text": [
      "\n",
      "am_peak\n",
      "midday\n",
      "pm_peak\n",
      "evening\n",
      "early_am\n",
      "covid\n",
      "Feed contains 1003 null stop_times entries, interpolating...\n"
     ]
    },
    {
     "data": {
      "application/vnd.jupyter.widget-view+json": {
       "model_id": "0c759777077f4af1829fb53489244ce3",
       "version_major": 2,
       "version_minor": 0
      },
      "text/plain": [
       "HBox(children=(FloatProgress(value=0.0, description='interpolating stops...', max=27.0, style=ProgressStyle(de…"
      ]
     },
     "metadata": {},
     "output_type": "display_data"
    },
    {
     "name": "stdout",
     "output_type": "stream",
     "text": [
      "\n",
      "am_peak\n",
      "midday\n",
      "pm_peak\n",
      "evening\n",
      "early_am\n"
     ]
    }
   ],
   "source": [
    "svc_la = service_hour_df(feeds_dict, la_county)"
   ]
  },
  {
   "cell_type": "code",
   "execution_count": 31,
   "metadata": {},
   "outputs": [
    {
     "data": {
      "text/html": [
       "<div>\n",
       "<style scoped>\n",
       "    .dataframe tbody tr th:only-of-type {\n",
       "        vertical-align: middle;\n",
       "    }\n",
       "\n",
       "    .dataframe tbody tr th {\n",
       "        vertical-align: top;\n",
       "    }\n",
       "\n",
       "    .dataframe thead th {\n",
       "        text-align: right;\n",
       "    }\n",
       "</style>\n",
       "<table border=\"1\" class=\"dataframe\">\n",
       "  <thead>\n",
       "    <tr style=\"text-align: right;\">\n",
       "      <th></th>\n",
       "      <th></th>\n",
       "      <th></th>\n",
       "      <th>am_peak_vrh</th>\n",
       "      <th>midday_vrh</th>\n",
       "      <th>pm_peak_vrh</th>\n",
       "      <th>evening_vrh</th>\n",
       "      <th>early_am_vrh</th>\n",
       "      <th>total_vrh</th>\n",
       "    </tr>\n",
       "    <tr>\n",
       "      <th>tract</th>\n",
       "      <th>covid</th>\n",
       "      <th>agency</th>\n",
       "      <th></th>\n",
       "      <th></th>\n",
       "      <th></th>\n",
       "      <th></th>\n",
       "      <th></th>\n",
       "      <th></th>\n",
       "    </tr>\n",
       "  </thead>\n",
       "  <tbody>\n",
       "    <tr>\n",
       "      <th rowspan=\"3\" valign=\"top\">1011.10</th>\n",
       "      <th rowspan=\"2\" valign=\"top\">0</th>\n",
       "      <th>LA Metro (Bus)</th>\n",
       "      <td>0.183333</td>\n",
       "      <td>0.242414</td>\n",
       "      <td>0.281549</td>\n",
       "      <td>0.166667</td>\n",
       "      <td>0.016667</td>\n",
       "      <td>0.890630</td>\n",
       "    </tr>\n",
       "    <tr>\n",
       "      <th>LADOT (DASH &amp; Commuter Express)</th>\n",
       "      <td>0.000000</td>\n",
       "      <td>0.000000</td>\n",
       "      <td>0.119299</td>\n",
       "      <td>0.016876</td>\n",
       "      <td>0.000000</td>\n",
       "      <td>0.136175</td>\n",
       "    </tr>\n",
       "    <tr>\n",
       "      <th>1</th>\n",
       "      <th>LA Metro (Bus)</th>\n",
       "      <td>0.083333</td>\n",
       "      <td>0.192414</td>\n",
       "      <td>0.116667</td>\n",
       "      <td>0.100000</td>\n",
       "      <td>0.000000</td>\n",
       "      <td>0.492414</td>\n",
       "    </tr>\n",
       "    <tr>\n",
       "      <th rowspan=\"2\" valign=\"top\">1012.10</th>\n",
       "      <th rowspan=\"2\" valign=\"top\">0</th>\n",
       "      <th>LA Metro (Bus)</th>\n",
       "      <td>0.526412</td>\n",
       "      <td>0.811350</td>\n",
       "      <td>0.682334</td>\n",
       "      <td>0.403764</td>\n",
       "      <td>0.042137</td>\n",
       "      <td>2.465998</td>\n",
       "    </tr>\n",
       "    <tr>\n",
       "      <th>LADOT (DASH &amp; Commuter Express)</th>\n",
       "      <td>0.000000</td>\n",
       "      <td>0.000000</td>\n",
       "      <td>0.138366</td>\n",
       "      <td>0.007838</td>\n",
       "      <td>0.000000</td>\n",
       "      <td>0.146205</td>\n",
       "    </tr>\n",
       "    <tr>\n",
       "      <th>...</th>\n",
       "      <th>...</th>\n",
       "      <th>...</th>\n",
       "      <td>...</td>\n",
       "      <td>...</td>\n",
       "      <td>...</td>\n",
       "      <td>...</td>\n",
       "      <td>...</td>\n",
       "      <td>...</td>\n",
       "    </tr>\n",
       "    <tr>\n",
       "      <th>9800.31</th>\n",
       "      <th>1</th>\n",
       "      <th>LADOT (DASH &amp; Commuter Express)</th>\n",
       "      <td>2.755910</td>\n",
       "      <td>10.263543</td>\n",
       "      <td>5.470852</td>\n",
       "      <td>0.054433</td>\n",
       "      <td>0.000000</td>\n",
       "      <td>18.544738</td>\n",
       "    </tr>\n",
       "    <tr>\n",
       "      <th rowspan=\"4\" valign=\"top\">9800.33</th>\n",
       "      <th rowspan=\"2\" valign=\"top\">0</th>\n",
       "      <th>LA Metro (Bus)</th>\n",
       "      <td>0.950772</td>\n",
       "      <td>1.539735</td>\n",
       "      <td>1.512126</td>\n",
       "      <td>0.727495</td>\n",
       "      <td>0.087603</td>\n",
       "      <td>4.817731</td>\n",
       "    </tr>\n",
       "    <tr>\n",
       "      <th>Long Beach Transit</th>\n",
       "      <td>2.449495</td>\n",
       "      <td>6.736901</td>\n",
       "      <td>5.142194</td>\n",
       "      <td>3.117739</td>\n",
       "      <td>0.353306</td>\n",
       "      <td>17.799635</td>\n",
       "    </tr>\n",
       "    <tr>\n",
       "      <th rowspan=\"2\" valign=\"top\">1</th>\n",
       "      <th>LA Metro (Bus)</th>\n",
       "      <td>0.497049</td>\n",
       "      <td>1.331650</td>\n",
       "      <td>0.984105</td>\n",
       "      <td>0.690367</td>\n",
       "      <td>0.000000</td>\n",
       "      <td>3.503171</td>\n",
       "    </tr>\n",
       "    <tr>\n",
       "      <th>Long Beach Transit</th>\n",
       "      <td>1.482833</td>\n",
       "      <td>3.218435</td>\n",
       "      <td>2.319939</td>\n",
       "      <td>0.815121</td>\n",
       "      <td>0.203259</td>\n",
       "      <td>8.039587</td>\n",
       "    </tr>\n",
       "  </tbody>\n",
       "</table>\n",
       "<p>5829 rows × 6 columns</p>\n",
       "</div>"
      ],
      "text/plain": [
       "                                               am_peak_vrh  midday_vrh  \\\n",
       "tract   covid agency                                                     \n",
       "1011.10 0     LA Metro (Bus)                      0.183333    0.242414   \n",
       "              LADOT (DASH & Commuter Express)     0.000000    0.000000   \n",
       "        1     LA Metro (Bus)                      0.083333    0.192414   \n",
       "1012.10 0     LA Metro (Bus)                      0.526412    0.811350   \n",
       "              LADOT (DASH & Commuter Express)     0.000000    0.000000   \n",
       "...                                                    ...         ...   \n",
       "9800.31 1     LADOT (DASH & Commuter Express)     2.755910   10.263543   \n",
       "9800.33 0     LA Metro (Bus)                      0.950772    1.539735   \n",
       "              Long Beach Transit                  2.449495    6.736901   \n",
       "        1     LA Metro (Bus)                      0.497049    1.331650   \n",
       "              Long Beach Transit                  1.482833    3.218435   \n",
       "\n",
       "                                               pm_peak_vrh  evening_vrh  \\\n",
       "tract   covid agency                                                      \n",
       "1011.10 0     LA Metro (Bus)                      0.281549     0.166667   \n",
       "              LADOT (DASH & Commuter Express)     0.119299     0.016876   \n",
       "        1     LA Metro (Bus)                      0.116667     0.100000   \n",
       "1012.10 0     LA Metro (Bus)                      0.682334     0.403764   \n",
       "              LADOT (DASH & Commuter Express)     0.138366     0.007838   \n",
       "...                                                    ...          ...   \n",
       "9800.31 1     LADOT (DASH & Commuter Express)     5.470852     0.054433   \n",
       "9800.33 0     LA Metro (Bus)                      1.512126     0.727495   \n",
       "              Long Beach Transit                  5.142194     3.117739   \n",
       "        1     LA Metro (Bus)                      0.984105     0.690367   \n",
       "              Long Beach Transit                  2.319939     0.815121   \n",
       "\n",
       "                                               early_am_vrh  total_vrh  \n",
       "tract   covid agency                                                    \n",
       "1011.10 0     LA Metro (Bus)                       0.016667   0.890630  \n",
       "              LADOT (DASH & Commuter Express)      0.000000   0.136175  \n",
       "        1     LA Metro (Bus)                       0.000000   0.492414  \n",
       "1012.10 0     LA Metro (Bus)                       0.042137   2.465998  \n",
       "              LADOT (DASH & Commuter Express)      0.000000   0.146205  \n",
       "...                                                     ...        ...  \n",
       "9800.31 1     LADOT (DASH & Commuter Express)      0.000000  18.544738  \n",
       "9800.33 0     LA Metro (Bus)                       0.087603   4.817731  \n",
       "              Long Beach Transit                   0.353306  17.799635  \n",
       "        1     LA Metro (Bus)                       0.000000   3.503171  \n",
       "              Long Beach Transit                   0.203259   8.039587  \n",
       "\n",
       "[5829 rows x 6 columns]"
      ]
     },
     "execution_count": 31,
     "metadata": {},
     "output_type": "execute_result"
    }
   ],
   "source": [
    "svc_la"
   ]
  },
  {
   "cell_type": "code",
   "execution_count": 32,
   "metadata": {},
   "outputs": [],
   "source": [
    "svc_la.to_parquet('./processed_data/LA_svc_Oct11.parquet')"
   ]
  },
  {
   "cell_type": "markdown",
   "metadata": {},
   "source": [
    "## To-do:\n",
    "\n",
    "### Feature Adds:\n",
    "* _visualization along routes_\n",
    "* geoid, not tracts?\n",
    "* \"megaregion\" view?? --> likely requires automating feed collection...\n",
    "    * also some sort of tiling, aggregation by city, etc...\n",
    "    \n",
    "### Architecture\n",
    "* make compatible with Modin?\n"
   ]
  },
  {
   "cell_type": "code",
   "execution_count": null,
   "metadata": {},
   "outputs": [],
   "source": []
  }
 ],
 "metadata": {
  "kernelspec": {
   "display_name": "Python 3",
   "language": "python",
   "name": "python3"
  },
  "language_info": {
   "codemirror_mode": {
    "name": "ipython",
    "version": 3
   },
   "file_extension": ".py",
   "mimetype": "text/x-python",
   "name": "python",
   "nbconvert_exporter": "python",
   "pygments_lexer": "ipython3",
   "version": "3.8.5"
  }
 },
 "nbformat": 4,
 "nbformat_minor": 4
}
