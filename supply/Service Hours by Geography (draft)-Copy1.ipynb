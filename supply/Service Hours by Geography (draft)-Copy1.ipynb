{
 "cells": [
  {
   "cell_type": "code",
   "execution_count": 1,
   "metadata": {},
   "outputs": [
    {
     "name": "stderr",
     "output_type": "stream",
     "text": [
      "/Users/edasmalchi/anaconda3/envs/pd1/lib/python3.8/site-packages/tqdm/std.py:668: FutureWarning: The Panel class is removed from pandas. Accessing it from the top-level namespace will also be removed in the next version\n",
      "  from pandas import Panel\n"
     ]
    }
   ],
   "source": [
    "import geopandas as gpd\n",
    "import partridge as ptg\n",
    "# import modin.pandas as pd\n",
    "import pandas as pd\n",
    "idx = pd.IndexSlice\n",
    "import numpy as np\n",
    "\n",
    "import requests\n",
    "from arcgis2geojson import arcgis2geojson\n",
    "\n",
    "from geopandas.tools import sjoin\n",
    "import folium\n",
    "from folium.plugins import MarkerCluster\n",
    "#from folium.element import IFrame\n",
    "import shapely\n",
    "#from shapely.geometry import Point\n",
    "import pysal as ps\n",
    "from pysal.viz import mapclassify\n",
    "\n",
    "import os\n",
    "import datetime as dt\n",
    "\n",
    "from tqdm.auto import tqdm\n",
    "tqdm.pandas(desc=\"interpolating stops...\")"
   ]
  },
  {
   "cell_type": "code",
   "execution_count": 2,
   "metadata": {},
   "outputs": [],
   "source": [
    "def diag_path(path):\n",
    "    print(ptg.read_busiest_date(path))\n",
    "    return feed_from_path(path)"
   ]
  },
  {
   "cell_type": "code",
   "execution_count": 3,
   "metadata": {},
   "outputs": [],
   "source": [
    "def showall(df):\n",
    "    with pd.option_context('display.max_rows', None, 'display.max_columns', None):  # more options can be specified also\n",
    "        display(df)"
   ]
  },
  {
   "cell_type": "code",
   "execution_count": 4,
   "metadata": {},
   "outputs": [],
   "source": [
    "#read feed at a different date if busiest date not in analysis range\n",
    "#(e.g. post-COVID feed still includes pre-COVID info)\n",
    "serv_id_exceptions = {'pasadena20200806_gtfs.zip': [3]}\n",
    "\n",
    "def feed_from_path(path):\n",
    "    '''Using Partridge, read a (GeoPandas enabled) GTFS feed given a filepath'''\n",
    "    _date, service_ids = ptg.read_busiest_date(path)\n",
    "    \n",
    "    #check if feed has exception defined above, if so read that service id\n",
    "    feed_id = path.split('/')[-2:][0] + path.split('/')[-2:][1]\n",
    "    try:\n",
    "        service_ids = serv_id_exceptions[feed_id]\n",
    "    except:\n",
    "        pass\n",
    "    \n",
    "    view = {\n",
    "        'trips.txt': {'service_id': service_ids},\n",
    "    }\n",
    "\n",
    "    return ptg.load_geo_feed(path, view)"
   ]
  },
  {
   "cell_type": "code",
   "execution_count": 5,
   "metadata": {},
   "outputs": [],
   "source": [
    "def feeds_from_files(folder_path):\n",
    "    '''\n",
    "    Given path to a folder structured: folder_path/agency/yyyymmdd_gtfs.zip,\n",
    "    read all feeds into a nested dict with keys being agency name, then datetime object'''\n",
    "    feeds = {}\n",
    "    subdirs = [x[0] for x in os.walk(folder_path)]\n",
    "    for subdir in subdirs[1:]:\n",
    "        print(subdir)\n",
    "        agency = subdir.split('/')[-1]\n",
    "        feeds[agency] = {}\n",
    "        for feed in os.listdir(subdir):\n",
    "            if feed[0] == '.':\n",
    "                continue\n",
    "            datestr = feed.split('_')[0]\n",
    "            date = dt.datetime.strptime(datestr,'%Y%m%d')\n",
    "            feeds[agency][date] = feed_from_path(subdir+'/'+feed)\n",
    "    return feeds"
   ]
  },
  {
   "cell_type": "code",
   "execution_count": 6,
   "metadata": {},
   "outputs": [
    {
     "name": "stdout",
     "output_type": "stream",
     "text": [
      "./gtfs_feeds/bay/SamTrans\n",
      "./gtfs_feeds/bay/SFMTA\n",
      "./gtfs_feeds/bay/Caltrain\n",
      "./gtfs_feeds/bay/Sonoma County Transit\n",
      "./gtfs_feeds/bay/VTA\n",
      "./gtfs_feeds/bay/Golden Gate Transit\n",
      "./gtfs_feeds/bay/Stanford\n",
      "./gtfs_feeds/bay/Fairfield Suisun Transit\n",
      "./gtfs_feeds/bay/WestCAT\n",
      "./gtfs_feeds/bay/SMART (Marin&Sonoma)\n",
      "./gtfs_feeds/bay/AC Transit\n",
      "./gtfs_feeds/bay/Blue and Gold Fleet\n",
      "./gtfs_feeds/bay/Mountain View\n",
      "./gtfs_feeds/bay/BART\n",
      "./gtfs_feeds/bay/Santa Cruz Metro\n",
      "./gtfs_feeds/bay/Emery Go-Round\n",
      "./gtfs_feeds/bay/Tideline Water Taxi\n",
      "./gtfs_feeds/bay/Capitol Corridor\n",
      "./gtfs_feeds/bay/Marin Transit\n",
      "./gtfs_feeds/bay/Vacaville City Coach\n",
      "./gtfs_feeds/bay/Mission Bay TMA\n",
      "./gtfs_feeds/bay/County Connection\n",
      "./gtfs_feeds/bay/SolTrans (Solano County)\n",
      "./gtfs_feeds/bay/Petaluma Transit\n"
     ]
    }
   ],
   "source": [
    "feeds_dict = feeds_from_files('./gtfs_feeds/bay/')"
   ]
  },
  {
   "cell_type": "code",
   "execution_count": 7,
   "metadata": {},
   "outputs": [
    {
     "data": {
      "text/plain": [
       "{'SamTrans': {datetime.datetime(2020, 2, 25, 0, 0): <partridge.gtfs.Feed at 0x1448649d0>,\n",
       "  datetime.datetime(2020, 8, 18, 0, 0): <partridge.gtfs.Feed at 0x146519610>},\n",
       " 'SFMTA': {datetime.datetime(2020, 2, 19, 0, 0): <partridge.gtfs.Feed at 0x1054c23d0>,\n",
       "  datetime.datetime(2020, 8, 12, 0, 0): <partridge.gtfs.Feed at 0x1054c20d0>,\n",
       "  datetime.datetime(2020, 9, 24, 0, 0): <partridge.gtfs.Feed at 0x146cd9a90>},\n",
       " 'Caltrain': {datetime.datetime(2020, 9, 4, 0, 0): <partridge.gtfs.Feed at 0x14496c8b0>,\n",
       "  datetime.datetime(2020, 7, 29, 0, 0): <partridge.gtfs.Feed at 0x144995430>,\n",
       "  datetime.datetime(2020, 1, 10, 0, 0): <partridge.gtfs.Feed at 0x14496c280>},\n",
       " 'Sonoma County Transit': {datetime.datetime(2020, 1, 1, 0, 0): <partridge.gtfs.Feed at 0x144967430>,\n",
       "  datetime.datetime(2020, 8, 19, 0, 0): <partridge.gtfs.Feed at 0x1054c2a30>,\n",
       "  datetime.datetime(2020, 10, 6, 0, 0): <partridge.gtfs.Feed at 0x144864d90>},\n",
       " 'VTA': {datetime.datetime(2020, 3, 5, 0, 0): <partridge.gtfs.Feed at 0x144acd7f0>,\n",
       "  datetime.datetime(2020, 8, 8, 0, 0): <partridge.gtfs.Feed at 0x144ae5e20>},\n",
       " 'Golden Gate Transit': {datetime.datetime(2020, 2, 16, 0, 0): <partridge.gtfs.Feed at 0x1055805b0>,\n",
       "  datetime.datetime(2020, 7, 29, 0, 0): <partridge.gtfs.Feed at 0x1464f3d30>,\n",
       "  datetime.datetime(2020, 10, 11, 0, 0): <partridge.gtfs.Feed at 0x1464d15e0>},\n",
       " 'Stanford': {datetime.datetime(2020, 10, 8, 0, 0): <partridge.gtfs.Feed at 0x145c2d490>,\n",
       "  datetime.datetime(2020, 2, 27, 0, 0): <partridge.gtfs.Feed at 0x145c05040>,\n",
       "  datetime.datetime(2020, 7, 30, 0, 0): <partridge.gtfs.Feed at 0x1464d19a0>},\n",
       " 'Fairfield Suisun Transit': {datetime.datetime(2020, 9, 19, 0, 0): <partridge.gtfs.Feed at 0x1464f3c40>,\n",
       "  datetime.datetime(2020, 7, 29, 0, 0): <partridge.gtfs.Feed at 0x144ae5dc0>,\n",
       "  datetime.datetime(2020, 9, 17, 0, 0): <partridge.gtfs.Feed at 0x1465198e0>},\n",
       " 'WestCAT': {datetime.datetime(2020, 6, 30, 0, 0): <partridge.gtfs.Feed at 0x144967340>,\n",
       "  datetime.datetime(2020, 9, 16, 0, 0): <partridge.gtfs.Feed at 0x105580640>,\n",
       "  datetime.datetime(2020, 1, 23, 0, 0): <partridge.gtfs.Feed at 0x105580df0>},\n",
       " 'SMART (Marin&Sonoma)': {datetime.datetime(2020, 2, 1, 0, 0): <partridge.gtfs.Feed at 0x1054c2640>,\n",
       "  datetime.datetime(2020, 10, 10, 0, 0): <partridge.gtfs.Feed at 0x1448ee130>,\n",
       "  datetime.datetime(2020, 8, 19, 0, 0): <partridge.gtfs.Feed at 0x146550ac0>},\n",
       " 'AC Transit': {datetime.datetime(2019, 8, 9, 0, 0): <partridge.gtfs.Feed at 0x1448ee610>,\n",
       "  datetime.datetime(2020, 6, 30, 0, 0): <partridge.gtfs.Feed at 0x105517f10>,\n",
       "  datetime.datetime(2020, 9, 4, 0, 0): <partridge.gtfs.Feed at 0x1044f2f10>},\n",
       " 'Blue and Gold Fleet': {datetime.datetime(2020, 8, 10, 0, 0): <partridge.gtfs.Feed at 0x144c52d00>,\n",
       "  datetime.datetime(2020, 2, 27, 0, 0): <partridge.gtfs.Feed at 0x144c520d0>,\n",
       "  datetime.datetime(2020, 10, 11, 0, 0): <partridge.gtfs.Feed at 0x1464f3910>},\n",
       " 'Mountain View': {datetime.datetime(2020, 8, 28, 0, 0): <partridge.gtfs.Feed at 0x144c634f0>,\n",
       "  datetime.datetime(2020, 2, 23, 0, 0): <partridge.gtfs.Feed at 0x1044f25b0>,\n",
       "  datetime.datetime(2020, 7, 29, 0, 0): <partridge.gtfs.Feed at 0x105517a30>},\n",
       " 'BART': {datetime.datetime(2020, 9, 5, 0, 0): <partridge.gtfs.Feed at 0x1054ad6a0>,\n",
       "  datetime.datetime(2020, 6, 20, 0, 0): <partridge.gtfs.Feed at 0x144c759a0>,\n",
       "  datetime.datetime(2020, 2, 18, 0, 0): <partridge.gtfs.Feed at 0x10550c6d0>},\n",
       " 'Santa Cruz Metro': {datetime.datetime(2020, 9, 4, 0, 0): <partridge.gtfs.Feed at 0x144953400>,\n",
       "  datetime.datetime(2020, 6, 24, 0, 0): <partridge.gtfs.Feed at 0x104520fd0>,\n",
       "  datetime.datetime(2020, 2, 20, 0, 0): <partridge.gtfs.Feed at 0x145978d30>},\n",
       " 'Emery Go-Round': {datetime.datetime(2019, 12, 24, 0, 0): <partridge.gtfs.Feed at 0x144953e50>,\n",
       "  datetime.datetime(2020, 8, 18, 0, 0): <partridge.gtfs.Feed at 0x10550ce80>},\n",
       " 'Tideline Water Taxi': {datetime.datetime(2020, 2, 19, 0, 0): <partridge.gtfs.Feed at 0x105517a60>,\n",
       "  datetime.datetime(2020, 7, 30, 0, 0): <partridge.gtfs.Feed at 0x1448ee190>,\n",
       "  datetime.datetime(2020, 10, 1, 0, 0): <partridge.gtfs.Feed at 0x146550430>},\n",
       " 'Capitol Corridor': {datetime.datetime(2020, 6, 2, 0, 0): <partridge.gtfs.Feed at 0x10550cd00>,\n",
       "  datetime.datetime(2020, 9, 17, 0, 0): <partridge.gtfs.Feed at 0x104520d00>,\n",
       "  datetime.datetime(2019, 6, 18, 0, 0): <partridge.gtfs.Feed at 0x145978d90>},\n",
       " 'Marin Transit': {datetime.datetime(2020, 9, 14, 0, 0): <partridge.gtfs.Feed at 0x1451e3dc0>,\n",
       "  datetime.datetime(2020, 8, 11, 0, 0): <partridge.gtfs.Feed at 0x145efcac0>,\n",
       "  datetime.datetime(2020, 1, 27, 0, 0): <partridge.gtfs.Feed at 0x144928ac0>},\n",
       " 'Vacaville City Coach': {datetime.datetime(2019, 12, 21, 0, 0): <partridge.gtfs.Feed at 0x145efc610>,\n",
       "  datetime.datetime(2020, 5, 26, 0, 0): <partridge.gtfs.Feed at 0x1459787f0>},\n",
       " 'Mission Bay TMA': {datetime.datetime(2020, 8, 10, 0, 0): <partridge.gtfs.Feed at 0x144bf8880>,\n",
       "  datetime.datetime(2020, 1, 11, 0, 0): <partridge.gtfs.Feed at 0x144c75d00>},\n",
       " 'County Connection': {datetime.datetime(2020, 8, 11, 0, 0): <partridge.gtfs.Feed at 0x144c1a6d0>,\n",
       "  datetime.datetime(2020, 9, 19, 0, 0): <partridge.gtfs.Feed at 0x144c1a820>,\n",
       "  datetime.datetime(2020, 1, 31, 0, 0): <partridge.gtfs.Feed at 0x144bba6d0>},\n",
       " 'SolTrans (Solano County)': {datetime.datetime(2020, 1, 3, 0, 0): <partridge.gtfs.Feed at 0x1451f3490>,\n",
       "  datetime.datetime(2020, 8, 5, 0, 0): <partridge.gtfs.Feed at 0x14512d610>,\n",
       "  datetime.datetime(2020, 10, 7, 0, 0): <partridge.gtfs.Feed at 0x144bba790>},\n",
       " 'Petaluma Transit': {datetime.datetime(2020, 8, 6, 0, 0): <partridge.gtfs.Feed at 0x144c1a730>,\n",
       "  datetime.datetime(2020, 2, 15, 0, 0): <partridge.gtfs.Feed at 0x144bf83a0>}}"
      ]
     },
     "execution_count": 7,
     "metadata": {},
     "output_type": "execute_result"
    }
   ],
   "source": [
    "feeds_dict"
   ]
  },
  {
   "cell_type": "code",
   "execution_count": 8,
   "metadata": {},
   "outputs": [],
   "source": [
    "def get_county_geog(county):\n",
    "    '''Using TIGERweb API, get geographies for all tracts within a county'''\n",
    "    api_url = f'https://tigerweb.geo.census.gov/arcgis/rest/services/TIGERweb/tigerWMS_ACS2019/MapServer/8/query?f=json&outsr=4326&where=STATE={county[:2]}%20and%20county={county[2:]}'\n",
    "    data = requests.get(api_url).json()\n",
    "    data = arcgis2geojson(data)\n",
    "    #print(data)\n",
    "    gdf = gpd.GeoDataFrame.from_features(data['features'])\n",
    "    gdf['county'] = county\n",
    "    gdf.crs = 'EPSG:4326'\n",
    "    gdf = gdf.rename(columns={'BASENAME':'tract'})\n",
    "    return gdf\n",
    "\n",
    "def get_region_geog(counties):\n",
    "    region = get_county_geog(counties[0])\n",
    "    for county in counties[1:]:\n",
    "        region = region.append(get_county_geog(county))\n",
    "    return region"
   ]
  },
  {
   "cell_type": "code",
   "execution_count": 9,
   "metadata": {},
   "outputs": [],
   "source": [
    "# sac_counties = ['06113', '06101', '06115', '06061', '06057', '06005', '06017', '06095']\n",
    "# sac_tahoe = get_region_geog(sac_counties)\n",
    "# sac_tahoe.to_file(\"./geographies/sac_tahoe.geojson\", driver='GeoJSON')"
   ]
  },
  {
   "cell_type": "code",
   "execution_count": 10,
   "metadata": {},
   "outputs": [],
   "source": [
    "# la_county = gpd.read_file('./geographies/la_county.geojson')"
   ]
  },
  {
   "cell_type": "code",
   "execution_count": 11,
   "metadata": {},
   "outputs": [],
   "source": [
    "# sf_bay = gpd.read_file('./geographies/ne_bay.geojson').append(gpd.read_file('./geographies/sf_pen.geojson'))"
   ]
  },
  {
   "cell_type": "code",
   "execution_count": 14,
   "metadata": {},
   "outputs": [],
   "source": [
    "sf_bay = gpd.read_file('./geographies/bay_area.geojson', driver='GeoJSON')"
   ]
  },
  {
   "cell_type": "code",
   "execution_count": 31,
   "metadata": {},
   "outputs": [
    {
     "data": {
      "text/html": [
       "<div>\n",
       "<style scoped>\n",
       "    .dataframe tbody tr th:only-of-type {\n",
       "        vertical-align: middle;\n",
       "    }\n",
       "\n",
       "    .dataframe tbody tr th {\n",
       "        vertical-align: top;\n",
       "    }\n",
       "\n",
       "    .dataframe thead th {\n",
       "        text-align: right;\n",
       "    }\n",
       "</style>\n",
       "<table border=\"1\" class=\"dataframe\">\n",
       "  <thead>\n",
       "    <tr style=\"text-align: right;\">\n",
       "      <th></th>\n",
       "      <th>tract</th>\n",
       "      <th>county</th>\n",
       "      <th>oldtract</th>\n",
       "      <th>geometry</th>\n",
       "    </tr>\n",
       "  </thead>\n",
       "  <tbody>\n",
       "    <tr>\n",
       "      <th>0</th>\n",
       "      <td>060014061</td>\n",
       "      <td>06001</td>\n",
       "      <td>4061</td>\n",
       "      <td>POLYGON ((-122.23872 37.78358, -122.23872 37.7...</td>\n",
       "    </tr>\n",
       "    <tr>\n",
       "      <th>1</th>\n",
       "      <td>060014333</td>\n",
       "      <td>06001</td>\n",
       "      <td>4333</td>\n",
       "      <td>POLYGON ((-122.17066 37.70877, -122.17082 37.7...</td>\n",
       "    </tr>\n",
       "    <tr>\n",
       "      <th>2</th>\n",
       "      <td>060014403.07</td>\n",
       "      <td>06001</td>\n",
       "      <td>4403.07</td>\n",
       "      <td>POLYGON ((-122.06077 37.59868, -122.06105 37.5...</td>\n",
       "    </tr>\n",
       "    <tr>\n",
       "      <th>3</th>\n",
       "      <td>060014338</td>\n",
       "      <td>06001</td>\n",
       "      <td>4338</td>\n",
       "      <td>POLYGON ((-122.13004 37.69298, -122.13006 37.6...</td>\n",
       "    </tr>\n",
       "    <tr>\n",
       "      <th>4</th>\n",
       "      <td>060014094</td>\n",
       "      <td>06001</td>\n",
       "      <td>4094</td>\n",
       "      <td>POLYGON ((-122.19073 37.74581, -122.19069 37.7...</td>\n",
       "    </tr>\n",
       "    <tr>\n",
       "      <th>...</th>\n",
       "      <td>...</td>\n",
       "      <td>...</td>\n",
       "      <td>...</td>\n",
       "      <td>...</td>\n",
       "    </tr>\n",
       "    <tr>\n",
       "      <th>1636</th>\n",
       "      <td>060816113</td>\n",
       "      <td>06081</td>\n",
       "      <td>6113</td>\n",
       "      <td>POLYGON ((-122.23451 37.44452, -122.23438 37.4...</td>\n",
       "    </tr>\n",
       "    <tr>\n",
       "      <th>1637</th>\n",
       "      <td>060816016.03</td>\n",
       "      <td>06081</td>\n",
       "      <td>6016.03</td>\n",
       "      <td>POLYGON ((-122.46923 37.66382, -122.46923 37.6...</td>\n",
       "    </tr>\n",
       "    <tr>\n",
       "      <th>1638</th>\n",
       "      <td>060816013</td>\n",
       "      <td>06081</td>\n",
       "      <td>6013</td>\n",
       "      <td>POLYGON ((-122.47166 37.68326, -122.47167 37.6...</td>\n",
       "    </tr>\n",
       "    <tr>\n",
       "      <th>1639</th>\n",
       "      <td>060816115</td>\n",
       "      <td>06081</td>\n",
       "      <td>6115</td>\n",
       "      <td>POLYGON ((-122.20576 37.46493, -122.20575 37.4...</td>\n",
       "    </tr>\n",
       "    <tr>\n",
       "      <th>1640</th>\n",
       "      <td>060816116</td>\n",
       "      <td>06081</td>\n",
       "      <td>6116</td>\n",
       "      <td>POLYGON ((-122.18675 37.47681, -122.18678 37.4...</td>\n",
       "    </tr>\n",
       "  </tbody>\n",
       "</table>\n",
       "<p>1641 rows × 4 columns</p>\n",
       "</div>"
      ],
      "text/plain": [
       "             tract county oldtract  \\\n",
       "0        060014061  06001     4061   \n",
       "1        060014333  06001     4333   \n",
       "2     060014403.07  06001  4403.07   \n",
       "3        060014338  06001     4338   \n",
       "4        060014094  06001     4094   \n",
       "...            ...    ...      ...   \n",
       "1636     060816113  06081     6113   \n",
       "1637  060816016.03  06081  6016.03   \n",
       "1638     060816013  06081     6013   \n",
       "1639     060816115  06081     6115   \n",
       "1640     060816116  06081     6116   \n",
       "\n",
       "                                               geometry  \n",
       "0     POLYGON ((-122.23872 37.78358, -122.23872 37.7...  \n",
       "1     POLYGON ((-122.17066 37.70877, -122.17082 37.7...  \n",
       "2     POLYGON ((-122.06077 37.59868, -122.06105 37.5...  \n",
       "3     POLYGON ((-122.13004 37.69298, -122.13006 37.6...  \n",
       "4     POLYGON ((-122.19073 37.74581, -122.19069 37.7...  \n",
       "...                                                 ...  \n",
       "1636  POLYGON ((-122.23451 37.44452, -122.23438 37.4...  \n",
       "1637  POLYGON ((-122.46923 37.66382, -122.46923 37.6...  \n",
       "1638  POLYGON ((-122.47166 37.68326, -122.47167 37.6...  \n",
       "1639  POLYGON ((-122.20576 37.46493, -122.20575 37.4...  \n",
       "1640  POLYGON ((-122.18675 37.47681, -122.18678 37.4...  \n",
       "\n",
       "[1641 rows x 4 columns]"
      ]
     },
     "execution_count": 31,
     "metadata": {},
     "output_type": "execute_result"
    }
   ],
   "source": [
    "sf_bay"
   ]
  },
  {
   "cell_type": "code",
   "execution_count": 16,
   "metadata": {},
   "outputs": [],
   "source": [
    "example_feed = feeds_dict['AC Transit'][dt.datetime(2019, 8, 9, 0, 0)]"
   ]
  },
  {
   "cell_type": "code",
   "execution_count": 17,
   "metadata": {},
   "outputs": [],
   "source": [
    "## https://gist.github.com/csb19815/476335cb299ddb3d5a1a4b898424bb35\n",
    "\n",
    "def service_hours(stop_times, time_range=None):\n",
    "    '''return sum of duration of all trips in stop_times (filtered elsewhere)'''\n",
    "    \n",
    "    #support arbitrary time selections...\n",
    "    if time_range:\n",
    "        stop_times = (\n",
    "            stop_times[(stop_times['arrival_time'] >= time_range[0])\n",
    "            & (stop_times['arrival_time'] <= time_range[1])])\n",
    "    try:\n",
    "        trip_lengths = stop_times.groupby('trip_id').arrival_time.agg(['min', 'max'])\n",
    "        service_hours = (trip_lengths['max'] - trip_lengths['min']) / 60 / 60\n",
    "        return service_hours.sum()\n",
    "    except:\n",
    "        print('serv_hr_error, returning 0')\n",
    "        return 0\n"
   ]
  },
  {
   "cell_type": "code",
   "execution_count": 18,
   "metadata": {},
   "outputs": [
    {
     "data": {
      "text/html": [
       "<div>\n",
       "<style scoped>\n",
       "    .dataframe tbody tr th:only-of-type {\n",
       "        vertical-align: middle;\n",
       "    }\n",
       "\n",
       "    .dataframe tbody tr th {\n",
       "        vertical-align: top;\n",
       "    }\n",
       "\n",
       "    .dataframe thead th {\n",
       "        text-align: right;\n",
       "    }\n",
       "</style>\n",
       "<table border=\"1\" class=\"dataframe\">\n",
       "  <thead>\n",
       "    <tr style=\"text-align: right;\">\n",
       "      <th></th>\n",
       "      <th>trip_id</th>\n",
       "      <th>arrival_time</th>\n",
       "      <th>departure_time</th>\n",
       "      <th>stop_id</th>\n",
       "      <th>stop_sequence</th>\n",
       "      <th>pickup_type</th>\n",
       "      <th>drop_off_type</th>\n",
       "      <th>timepoint</th>\n",
       "    </tr>\n",
       "  </thead>\n",
       "  <tbody>\n",
       "    <tr>\n",
       "      <th>0</th>\n",
       "      <td>366735070</td>\n",
       "      <td>85260.0</td>\n",
       "      <td>85260.0</td>\n",
       "      <td>2481</td>\n",
       "      <td>1</td>\n",
       "      <td>0</td>\n",
       "      <td>0</td>\n",
       "      <td>1</td>\n",
       "    </tr>\n",
       "    <tr>\n",
       "      <th>1</th>\n",
       "      <td>366735070</td>\n",
       "      <td>85260.0</td>\n",
       "      <td>85260.0</td>\n",
       "      <td>5336</td>\n",
       "      <td>2</td>\n",
       "      <td>0</td>\n",
       "      <td>0</td>\n",
       "      <td>0</td>\n",
       "    </tr>\n",
       "    <tr>\n",
       "      <th>2</th>\n",
       "      <td>366735070</td>\n",
       "      <td>86460.0</td>\n",
       "      <td>86460.0</td>\n",
       "      <td>4173</td>\n",
       "      <td>3</td>\n",
       "      <td>0</td>\n",
       "      <td>0</td>\n",
       "      <td>0</td>\n",
       "    </tr>\n",
       "    <tr>\n",
       "      <th>3</th>\n",
       "      <td>366735070</td>\n",
       "      <td>86460.0</td>\n",
       "      <td>86460.0</td>\n",
       "      <td>4168</td>\n",
       "      <td>4</td>\n",
       "      <td>0</td>\n",
       "      <td>0</td>\n",
       "      <td>1</td>\n",
       "    </tr>\n",
       "    <tr>\n",
       "      <th>4</th>\n",
       "      <td>366735070</td>\n",
       "      <td>87120.0</td>\n",
       "      <td>87120.0</td>\n",
       "      <td>5310</td>\n",
       "      <td>5</td>\n",
       "      <td>1</td>\n",
       "      <td>0</td>\n",
       "      <td>1</td>\n",
       "    </tr>\n",
       "    <tr>\n",
       "      <th>...</th>\n",
       "      <td>...</td>\n",
       "      <td>...</td>\n",
       "      <td>...</td>\n",
       "      <td>...</td>\n",
       "      <td>...</td>\n",
       "      <td>...</td>\n",
       "      <td>...</td>\n",
       "      <td>...</td>\n",
       "    </tr>\n",
       "    <tr>\n",
       "      <th>282493</th>\n",
       "      <td>371781230</td>\n",
       "      <td>45000.0</td>\n",
       "      <td>45000.0</td>\n",
       "      <td>5873</td>\n",
       "      <td>5</td>\n",
       "      <td>0</td>\n",
       "      <td>0</td>\n",
       "      <td>0</td>\n",
       "    </tr>\n",
       "    <tr>\n",
       "      <th>282494</th>\n",
       "      <td>371781230</td>\n",
       "      <td>45120.0</td>\n",
       "      <td>45120.0</td>\n",
       "      <td>2497</td>\n",
       "      <td>6</td>\n",
       "      <td>0</td>\n",
       "      <td>0</td>\n",
       "      <td>0</td>\n",
       "    </tr>\n",
       "    <tr>\n",
       "      <th>282495</th>\n",
       "      <td>371781230</td>\n",
       "      <td>45240.0</td>\n",
       "      <td>45240.0</td>\n",
       "      <td>5334</td>\n",
       "      <td>7</td>\n",
       "      <td>0</td>\n",
       "      <td>0</td>\n",
       "      <td>1</td>\n",
       "    </tr>\n",
       "    <tr>\n",
       "      <th>282496</th>\n",
       "      <td>371781230</td>\n",
       "      <td>45360.0</td>\n",
       "      <td>45360.0</td>\n",
       "      <td>2512</td>\n",
       "      <td>8</td>\n",
       "      <td>0</td>\n",
       "      <td>0</td>\n",
       "      <td>0</td>\n",
       "    </tr>\n",
       "    <tr>\n",
       "      <th>282497</th>\n",
       "      <td>371781230</td>\n",
       "      <td>45420.0</td>\n",
       "      <td>45420.0</td>\n",
       "      <td>2474</td>\n",
       "      <td>9</td>\n",
       "      <td>0</td>\n",
       "      <td>0</td>\n",
       "      <td>0</td>\n",
       "    </tr>\n",
       "  </tbody>\n",
       "</table>\n",
       "<p>282498 rows × 8 columns</p>\n",
       "</div>"
      ],
      "text/plain": [
       "          trip_id  arrival_time  departure_time stop_id  stop_sequence  \\\n",
       "0       366735070       85260.0         85260.0    2481              1   \n",
       "1       366735070       85260.0         85260.0    5336              2   \n",
       "2       366735070       86460.0         86460.0    4173              3   \n",
       "3       366735070       86460.0         86460.0    4168              4   \n",
       "4       366735070       87120.0         87120.0    5310              5   \n",
       "...           ...           ...             ...     ...            ...   \n",
       "282493  371781230       45000.0         45000.0    5873              5   \n",
       "282494  371781230       45120.0         45120.0    2497              6   \n",
       "282495  371781230       45240.0         45240.0    5334              7   \n",
       "282496  371781230       45360.0         45360.0    2512              8   \n",
       "282497  371781230       45420.0         45420.0    2474              9   \n",
       "\n",
       "        pickup_type drop_off_type  timepoint  \n",
       "0                 0             0          1  \n",
       "1                 0             0          0  \n",
       "2                 0             0          0  \n",
       "3                 0             0          1  \n",
       "4                 1             0          1  \n",
       "...             ...           ...        ...  \n",
       "282493            0             0          0  \n",
       "282494            0             0          0  \n",
       "282495            0             0          1  \n",
       "282496            0             0          0  \n",
       "282497            0             0          0  \n",
       "\n",
       "[282498 rows x 8 columns]"
      ]
     },
     "execution_count": 18,
     "metadata": {},
     "output_type": "execute_result"
    }
   ],
   "source": [
    "example_feed.stop_times"
   ]
  },
  {
   "cell_type": "code",
   "execution_count": 19,
   "metadata": {},
   "outputs": [],
   "source": [
    "def interpolate_stops(gdf, geo):\n",
    "    '''\n",
    "    When the next stop is in a different tract, estimate when it crosses tracts and add\n",
    "    that arrival time to both tracts. Important because the next step is to group by tract\n",
    "    and estimate service hours, service crossing tracts would be dropped without this interpolation.\n",
    "    '''\n",
    "    \n",
    "    #can't interpolate on single-stop trip... (should fix LADOT bug...)\n",
    "    if gdf.shape[0] < 2:\n",
    "        return gdf\n",
    "#     if gdf['geometry'].is_unique == False:\n",
    "#         print('non-unique stops!')\n",
    "#         return gdf\n",
    "    \n",
    "    gdf.loc[:, 'geometry'] = gdf.geometry.centroid\n",
    "    gdf.loc[:, 'lasttract'] = gdf['tract'].shift()\n",
    "    gdf.loc[:, 'lastgeo'] = gpd.GeoSeries(gdf['geometry'].shift())\n",
    "    gdf.loc[:, 'lastarr'] = gdf['arrival_time'].shift()\n",
    "    gdf.loc[:, 'sametract'] = gdf['tract'].eq(gdf['lasttract'])\n",
    "    #debug\n",
    "#     return gdf\n",
    "    #reset in case stop_id not a unique index\n",
    "    gdf = gdf.reset_index()\n",
    "#     return gdf\n",
    "    #create a line between every pair of stops\n",
    "#     print('lining...', end='')\n",
    "    gdf['line_last_stop'] = gdf.iloc[1:,:].apply(\n",
    "    lambda x: shapely.geometry.LineString(\n",
    "        [(x.lastgeo.x, x.lastgeo.y),\n",
    "         (x.geometry.x, x.geometry.y)\n",
    "        ]), axis=1)\n",
    "#     print('lined!...', end='')\n",
    "\n",
    "    #add column with arrival time at tract boundary\n",
    "    \n",
    "    global _debug\n",
    "    _debug = gdf\n",
    "#     display(gdf)\n",
    "\n",
    "    gdf['split_arr'] = gdf.apply(line_in_tracts, args=(geo,), axis = 1)\n",
    "    #generate df with tract+arrival time rows to be appended\n",
    "    records = gdf.apply(add_interpolated_rows, axis=1).dropna().values\n",
    "    to_append = pd.DataFrame()\n",
    "    for record in records:\n",
    "        to_append = to_append.append(pd.DataFrame(record))\n",
    "    #append interpolated rows to origional stop times gdf\n",
    "    merged_df = (gdf.append(to_append).\n",
    "                 reset_index()[['tract', 'arrival_time', 'stop_sequence', 'trip_id']])\n",
    "    merged_df.loc[:, 'trip_id'] = merged_df['trip_id'][0]\n",
    "    return merged_df"
   ]
  },
  {
   "cell_type": "code",
   "execution_count": 20,
   "metadata": {},
   "outputs": [],
   "source": [
    "def line_in_tracts(df, tract_geos):\n",
    "    global _debug2\n",
    "    _debug2 = df\n",
    "    '''Measure how much of the distance between 2 stops is in each tract'''\n",
    "    if df['sametract'] or  np.all(np.isnan(df['line_last_stop'])):\n",
    "        return\n",
    "    tract1 = df['lasttract']\n",
    "    tract2 = df['tract']\n",
    "    line = df['line_last_stop']\n",
    "    tract1_polygon = tract_geos[tract_geos['tract'] == tract1]['geometry'].iloc[0]\n",
    "    tract2_polygon = tract_geos[tract_geos['tract'] == tract2]['geometry'].iloc[0]\n",
    "    line_tract1 = line.length - line.difference(tract1_polygon).length\n",
    "    line_tract2 = line.length - line.difference(tract2_polygon).length\n",
    "    line_total = line_tract1 + line_tract2\n",
    "    #display(df)\n",
    "#     print(line_tract1, line_tract2, line_total)\n",
    "    #list with first value being % of line in tract1, second being % of line in tract 2\n",
    "    ##note this is only out of the 2-tract total, ignores potential intermediate tracts\n",
    "    if line_total == 0:\n",
    "        print('warning: 0 distance in tracts, not fully accurate')\n",
    "        return df['lastarr']\n",
    "    arrival_splits = (np.array([line_tract1/line_total, line_tract2/line_total]) * \n",
    "                      (df['arrival_time'] - df['lastarr']))\n",
    "    return df['lastarr'] + arrival_splits[0]"
   ]
  },
  {
   "cell_type": "code",
   "execution_count": 21,
   "metadata": {},
   "outputs": [],
   "source": [
    "def add_interpolated_rows(df):\n",
    "    '''Generate dict with a single set of interpolated rows'''\n",
    "    if df['split_arr'] and not np.all(np.isnan(df['split_arr'])):\n",
    "        two_rows = {'tract': [df['tract'], df['lasttract']], 'arrival_time': df['split_arr']}\n",
    "        return two_rows"
   ]
  },
  {
   "cell_type": "code",
   "execution_count": 22,
   "metadata": {},
   "outputs": [
    {
     "data": {
      "text/plain": [
       "{'SamTrans': {datetime.datetime(2020, 2, 25, 0, 0): <partridge.gtfs.Feed at 0x1448649d0>,\n",
       "  datetime.datetime(2020, 8, 18, 0, 0): <partridge.gtfs.Feed at 0x146519610>},\n",
       " 'SFMTA': {datetime.datetime(2020, 2, 19, 0, 0): <partridge.gtfs.Feed at 0x1054c23d0>,\n",
       "  datetime.datetime(2020, 8, 12, 0, 0): <partridge.gtfs.Feed at 0x1054c20d0>,\n",
       "  datetime.datetime(2020, 9, 24, 0, 0): <partridge.gtfs.Feed at 0x146cd9a90>},\n",
       " 'Caltrain': {datetime.datetime(2020, 9, 4, 0, 0): <partridge.gtfs.Feed at 0x14496c8b0>,\n",
       "  datetime.datetime(2020, 7, 29, 0, 0): <partridge.gtfs.Feed at 0x144995430>,\n",
       "  datetime.datetime(2020, 1, 10, 0, 0): <partridge.gtfs.Feed at 0x14496c280>},\n",
       " 'Sonoma County Transit': {datetime.datetime(2020, 1, 1, 0, 0): <partridge.gtfs.Feed at 0x144967430>,\n",
       "  datetime.datetime(2020, 8, 19, 0, 0): <partridge.gtfs.Feed at 0x1054c2a30>,\n",
       "  datetime.datetime(2020, 10, 6, 0, 0): <partridge.gtfs.Feed at 0x144864d90>},\n",
       " 'VTA': {datetime.datetime(2020, 3, 5, 0, 0): <partridge.gtfs.Feed at 0x144acd7f0>,\n",
       "  datetime.datetime(2020, 8, 8, 0, 0): <partridge.gtfs.Feed at 0x144ae5e20>},\n",
       " 'Golden Gate Transit': {datetime.datetime(2020, 2, 16, 0, 0): <partridge.gtfs.Feed at 0x1055805b0>,\n",
       "  datetime.datetime(2020, 7, 29, 0, 0): <partridge.gtfs.Feed at 0x1464f3d30>,\n",
       "  datetime.datetime(2020, 10, 11, 0, 0): <partridge.gtfs.Feed at 0x1464d15e0>},\n",
       " 'Stanford': {datetime.datetime(2020, 10, 8, 0, 0): <partridge.gtfs.Feed at 0x145c2d490>,\n",
       "  datetime.datetime(2020, 2, 27, 0, 0): <partridge.gtfs.Feed at 0x145c05040>,\n",
       "  datetime.datetime(2020, 7, 30, 0, 0): <partridge.gtfs.Feed at 0x1464d19a0>},\n",
       " 'Fairfield Suisun Transit': {datetime.datetime(2020, 9, 19, 0, 0): <partridge.gtfs.Feed at 0x1464f3c40>,\n",
       "  datetime.datetime(2020, 7, 29, 0, 0): <partridge.gtfs.Feed at 0x144ae5dc0>,\n",
       "  datetime.datetime(2020, 9, 17, 0, 0): <partridge.gtfs.Feed at 0x1465198e0>},\n",
       " 'WestCAT': {datetime.datetime(2020, 6, 30, 0, 0): <partridge.gtfs.Feed at 0x144967340>,\n",
       "  datetime.datetime(2020, 9, 16, 0, 0): <partridge.gtfs.Feed at 0x105580640>,\n",
       "  datetime.datetime(2020, 1, 23, 0, 0): <partridge.gtfs.Feed at 0x105580df0>},\n",
       " 'SMART (Marin&Sonoma)': {datetime.datetime(2020, 2, 1, 0, 0): <partridge.gtfs.Feed at 0x1054c2640>,\n",
       "  datetime.datetime(2020, 10, 10, 0, 0): <partridge.gtfs.Feed at 0x1448ee130>,\n",
       "  datetime.datetime(2020, 8, 19, 0, 0): <partridge.gtfs.Feed at 0x146550ac0>},\n",
       " 'AC Transit': {datetime.datetime(2019, 8, 9, 0, 0): <partridge.gtfs.Feed at 0x1448ee610>,\n",
       "  datetime.datetime(2020, 6, 30, 0, 0): <partridge.gtfs.Feed at 0x105517f10>,\n",
       "  datetime.datetime(2020, 9, 4, 0, 0): <partridge.gtfs.Feed at 0x1044f2f10>},\n",
       " 'Blue and Gold Fleet': {datetime.datetime(2020, 8, 10, 0, 0): <partridge.gtfs.Feed at 0x144c52d00>,\n",
       "  datetime.datetime(2020, 2, 27, 0, 0): <partridge.gtfs.Feed at 0x144c520d0>,\n",
       "  datetime.datetime(2020, 10, 11, 0, 0): <partridge.gtfs.Feed at 0x1464f3910>},\n",
       " 'Mountain View': {datetime.datetime(2020, 8, 28, 0, 0): <partridge.gtfs.Feed at 0x144c634f0>,\n",
       "  datetime.datetime(2020, 2, 23, 0, 0): <partridge.gtfs.Feed at 0x1044f25b0>,\n",
       "  datetime.datetime(2020, 7, 29, 0, 0): <partridge.gtfs.Feed at 0x105517a30>},\n",
       " 'BART': {datetime.datetime(2020, 9, 5, 0, 0): <partridge.gtfs.Feed at 0x1054ad6a0>,\n",
       "  datetime.datetime(2020, 6, 20, 0, 0): <partridge.gtfs.Feed at 0x144c759a0>,\n",
       "  datetime.datetime(2020, 2, 18, 0, 0): <partridge.gtfs.Feed at 0x10550c6d0>},\n",
       " 'Santa Cruz Metro': {datetime.datetime(2020, 9, 4, 0, 0): <partridge.gtfs.Feed at 0x144953400>,\n",
       "  datetime.datetime(2020, 6, 24, 0, 0): <partridge.gtfs.Feed at 0x104520fd0>,\n",
       "  datetime.datetime(2020, 2, 20, 0, 0): <partridge.gtfs.Feed at 0x145978d30>},\n",
       " 'Emery Go-Round': {datetime.datetime(2019, 12, 24, 0, 0): <partridge.gtfs.Feed at 0x144953e50>,\n",
       "  datetime.datetime(2020, 8, 18, 0, 0): <partridge.gtfs.Feed at 0x10550ce80>},\n",
       " 'Tideline Water Taxi': {datetime.datetime(2020, 2, 19, 0, 0): <partridge.gtfs.Feed at 0x105517a60>,\n",
       "  datetime.datetime(2020, 7, 30, 0, 0): <partridge.gtfs.Feed at 0x1448ee190>,\n",
       "  datetime.datetime(2020, 10, 1, 0, 0): <partridge.gtfs.Feed at 0x146550430>},\n",
       " 'Capitol Corridor': {datetime.datetime(2020, 6, 2, 0, 0): <partridge.gtfs.Feed at 0x10550cd00>,\n",
       "  datetime.datetime(2020, 9, 17, 0, 0): <partridge.gtfs.Feed at 0x104520d00>,\n",
       "  datetime.datetime(2019, 6, 18, 0, 0): <partridge.gtfs.Feed at 0x145978d90>},\n",
       " 'Marin Transit': {datetime.datetime(2020, 9, 14, 0, 0): <partridge.gtfs.Feed at 0x1451e3dc0>,\n",
       "  datetime.datetime(2020, 8, 11, 0, 0): <partridge.gtfs.Feed at 0x145efcac0>,\n",
       "  datetime.datetime(2020, 1, 27, 0, 0): <partridge.gtfs.Feed at 0x144928ac0>},\n",
       " 'Vacaville City Coach': {datetime.datetime(2019, 12, 21, 0, 0): <partridge.gtfs.Feed at 0x145efc610>,\n",
       "  datetime.datetime(2020, 5, 26, 0, 0): <partridge.gtfs.Feed at 0x1459787f0>},\n",
       " 'Mission Bay TMA': {datetime.datetime(2020, 8, 10, 0, 0): <partridge.gtfs.Feed at 0x144bf8880>,\n",
       "  datetime.datetime(2020, 1, 11, 0, 0): <partridge.gtfs.Feed at 0x144c75d00>},\n",
       " 'County Connection': {datetime.datetime(2020, 8, 11, 0, 0): <partridge.gtfs.Feed at 0x144c1a6d0>,\n",
       "  datetime.datetime(2020, 9, 19, 0, 0): <partridge.gtfs.Feed at 0x144c1a820>,\n",
       "  datetime.datetime(2020, 1, 31, 0, 0): <partridge.gtfs.Feed at 0x144bba6d0>},\n",
       " 'SolTrans (Solano County)': {datetime.datetime(2020, 1, 3, 0, 0): <partridge.gtfs.Feed at 0x1451f3490>,\n",
       "  datetime.datetime(2020, 8, 5, 0, 0): <partridge.gtfs.Feed at 0x14512d610>,\n",
       "  datetime.datetime(2020, 10, 7, 0, 0): <partridge.gtfs.Feed at 0x144bba790>},\n",
       " 'Petaluma Transit': {datetime.datetime(2020, 8, 6, 0, 0): <partridge.gtfs.Feed at 0x144c1a730>,\n",
       "  datetime.datetime(2020, 2, 15, 0, 0): <partridge.gtfs.Feed at 0x144bf83a0>}}"
      ]
     },
     "execution_count": 22,
     "metadata": {},
     "output_type": "execute_result"
    }
   ],
   "source": [
    "feeds_dict"
   ]
  },
  {
   "cell_type": "code",
   "execution_count": 23,
   "metadata": {},
   "outputs": [],
   "source": [
    "# test_agencies = ['torrance', 'lacmta_rail', 'bbb', 'ccb']\n",
    "test_agencies = ['Santa Cruz Metro']\n",
    "test_dict = {agency: feeds_dict[agency] for agency in test_agencies}"
   ]
  },
  {
   "cell_type": "code",
   "execution_count": 24,
   "metadata": {},
   "outputs": [
    {
     "data": {
      "text/plain": [
       "{'Santa Cruz Metro': {datetime.datetime(2020, 9, 4, 0, 0): <partridge.gtfs.Feed at 0x144953400>,\n",
       "  datetime.datetime(2020, 6, 24, 0, 0): <partridge.gtfs.Feed at 0x104520fd0>,\n",
       "  datetime.datetime(2020, 2, 20, 0, 0): <partridge.gtfs.Feed at 0x145978d30>}}"
      ]
     },
     "execution_count": 24,
     "metadata": {},
     "output_type": "execute_result"
    }
   ],
   "source": [
    "test_dict"
   ]
  },
  {
   "cell_type": "code",
   "execution_count": 25,
   "metadata": {},
   "outputs": [],
   "source": [
    "def service_hours_by_geo(times_in_geo, serv_type):\n",
    "    '''Calculate service hours by tract at a particular time of day'''\n",
    "    #GTFS times are measured in seconds since midnight, so 6*60**2 corresponds to 6:00AM\n",
    "    serv_times = {'am_peak': (6*60**2, 9*60**2),\n",
    "                  'midday': (9*60**2, 15*60**2),\n",
    "                 'pm_peak': (15*60**2, 19*60**2),\n",
    "                 'evening': (19*60**2, 28*60**2),\n",
    "                 'early_am': (0*60**2, 6*60**2)}\n",
    "    \n",
    "    grouped = pd.DataFrame(times_in_geo.groupby(\"tract\").\n",
    "            apply(service_hours, time_range = (serv_times[serv_type])))\n",
    "    grouped = grouped.rename(columns = {0:f'{serv_type}_vrh'})\n",
    "    \n",
    "    return grouped"
   ]
  },
  {
   "cell_type": "code",
   "execution_count": 32,
   "metadata": {},
   "outputs": [],
   "source": [
    "def single_agency_df(feed, geo):\n",
    "    '''Calculate service hours by tract by service type for a single feed (agency+date)'''\n",
    "    serv_types = ['am_peak', 'midday', 'pm_peak', 'evening', 'early_am']\n",
    "    \n",
    "    #interpolate between stop times if needed\n",
    "    if feed.stop_times['arrival_time'].isnull().any():\n",
    "        nulls = feed.stop_times['arrival_time'].isnull().value_counts()[True]\n",
    "        print(f'Feed contains {nulls} null stop_times entries, interpolating...')\n",
    "        feed.stop_times['arrival_time'] = feed.stop_times['arrival_time'].interpolate()\n",
    "        feed.stop_times['departure_time'] = feed.stop_times['departure_time'].interpolate()\n",
    "        \n",
    "    def stops_in_geo(feed, geo):\n",
    "\n",
    "        stops_in_geo = gpd.sjoin(geo, feed.stops,\n",
    "                                 how='inner', op='intersects')\n",
    "        stops_in_geo = stops_in_geo.drop_duplicates(subset=['stop_id'])\n",
    "        stops_in_geo = stops_in_geo.set_index('stop_id')\n",
    "        return stops_in_geo\n",
    "\n",
    "    times_in_geo = stops_in_geo(feed, geo).join(\n",
    "        feed.stop_times.set_index('stop_id'), how='inner')\n",
    "    ##BBB debug return\n",
    "#     return times_in_geo\n",
    "\n",
    "    #interpolate_stops is applied here once per feed (this is the slowest step)\n",
    "#     times_in_geo = (times_in_geo.sort_values(by=['trip_id', 'stop_sequence'])\n",
    "#                .groupby('trip_id').apply(interpolate_stops, geo=geo)\n",
    "#                .rename(columns={'trip_id':'trip_id2'}))\n",
    "\n",
    "    times_in_geo = (times_in_geo.sort_values(by=['trip_id', 'stop_sequence'])\n",
    "               .groupby('trip_id').progress_apply(interpolate_stops, geo=geo)\n",
    "               .rename(columns={'trip_id':'trip_id2'}))\n",
    "\n",
    "    vrh_by_serv_type = pd.DataFrame()\n",
    "    for serv_type in serv_types:\n",
    "        print(serv_type)\n",
    "        vrh_by_serv_type = vrh_by_serv_type.append(\n",
    "            service_hours_by_geo(times_in_geo, serv_type))\n",
    "    return vrh_by_serv_type"
   ]
  },
  {
   "cell_type": "code",
   "execution_count": 33,
   "metadata": {},
   "outputs": [],
   "source": [
    "def service_hour_df(feeds_dict, geo):\n",
    "    '''\n",
    "    Given dictionary of feeds generated in previous step,\n",
    "    generate final dataframe with VRH by tract, COVID status, and agency.\n",
    "    Currently slow to run if feeds are large (expect 20-40 minutes for LA area).\n",
    "    '''\n",
    "    mdf = pd.DataFrame()\n",
    "    \n",
    "    for agency in list(feeds_dict.keys()):\n",
    "        print(agency)\n",
    "        agency_dict = feeds_dict[agency]\n",
    "        pre_covid = agency_dict[min(agency_dict.keys())]\n",
    "        pre_covid.stops.crs = 'EPSG:4326'\n",
    "        current = agency_dict[max(agency_dict.keys())]\n",
    "        current.stops.crs = 'EPSG:4326'\n",
    "        try:\n",
    "            print('pre-covid')\n",
    "            ##TODO add some sort of progress print in interpolate_stops?\n",
    "            pre_covid_hrs = single_agency_df(pre_covid, geo)\n",
    "            pre_covid_hrs['covid'] = 0\n",
    "            pre_covid_hrs.set_index('covid', append=True, inplace=True)\n",
    "    #         return pre_covid_hrs\n",
    "            print('covid')\n",
    "            current_hrs = single_agency_df(current, geo) \n",
    "            current_hrs['covid'] = 1\n",
    "            current_hrs.set_index('covid', append=True, inplace=True)\n",
    "            #         return current_hrs\n",
    "            #skip to next agency if either of these fail (continuing to debug interpolation)...\n",
    "        except:\n",
    "            print(f'agency error: {agency}')\n",
    "            continue\n",
    "        \n",
    "        agency_hrs = pre_covid_hrs.append(current_hrs)\n",
    "        agency_hrs['agency'] = agency\n",
    "        agency_hrs.set_index('agency', append=True, inplace=True)\n",
    "        mdf = mdf.append(agency_hrs)\n",
    "        \n",
    "    mdf = mdf.groupby(level=['tract', 'covid', 'agency']).sum()\n",
    "    mdf['total_vrh'] = mdf.sum(axis=1)\n",
    "    return mdf"
   ]
  },
  {
   "cell_type": "code",
   "execution_count": 34,
   "metadata": {
    "scrolled": true
   },
   "outputs": [
    {
     "name": "stdout",
     "output_type": "stream",
     "text": [
      "SamTrans\n"
     ]
    },
    {
     "name": "stderr",
     "output_type": "stream",
     "text": [
      "/Users/edasmalchi/anaconda3/envs/pd1/lib/python3.8/site-packages/pyproj/crs/crs.py:53: FutureWarning: '+init=<authority>:<code>' syntax is deprecated. '<authority>:<code>' is the preferred initialization method. When making the change, be mindful of axis order changes: https://pyproj4.github.io/pyproj/stable/gotchas.html#axis-order-changes-in-proj-6\n",
      "  return _prepare_from_string(\" \".join(pjargs))\n"
     ]
    },
    {
     "name": "stdout",
     "output_type": "stream",
     "text": [
      "pre-covid\n"
     ]
    },
    {
     "data": {
      "application/vnd.jupyter.widget-view+json": {
       "model_id": "6d3c0c2a95ea4c7e99ef98220cb2b671",
       "version_major": 2,
       "version_minor": 0
      },
      "text/plain": [
       "HBox(children=(FloatProgress(value=0.0, description='interpolating stops...', max=1771.0, style=ProgressStyle(…"
      ]
     },
     "metadata": {},
     "output_type": "display_data"
    },
    {
     "name": "stdout",
     "output_type": "stream",
     "text": [
      "\n",
      "am_peak\n",
      "midday\n",
      "pm_peak\n",
      "evening\n",
      "early_am\n",
      "covid\n"
     ]
    },
    {
     "data": {
      "application/vnd.jupyter.widget-view+json": {
       "model_id": "be86eb4cdc8745f7bdf4d95c4e6a9f4c",
       "version_major": 2,
       "version_minor": 0
      },
      "text/plain": [
       "HBox(children=(FloatProgress(value=0.0, description='interpolating stops...', max=1300.0, style=ProgressStyle(…"
      ]
     },
     "metadata": {},
     "output_type": "display_data"
    },
    {
     "name": "stdout",
     "output_type": "stream",
     "text": [
      "\n",
      "am_peak\n",
      "midday\n",
      "pm_peak\n",
      "evening\n",
      "early_am\n",
      "SFMTA\n"
     ]
    },
    {
     "name": "stderr",
     "output_type": "stream",
     "text": [
      "/Users/edasmalchi/anaconda3/envs/pd1/lib/python3.8/site-packages/pyproj/crs/crs.py:53: FutureWarning: '+init=<authority>:<code>' syntax is deprecated. '<authority>:<code>' is the preferred initialization method. When making the change, be mindful of axis order changes: https://pyproj4.github.io/pyproj/stable/gotchas.html#axis-order-changes-in-proj-6\n",
      "  return _prepare_from_string(\" \".join(pjargs))\n"
     ]
    },
    {
     "name": "stdout",
     "output_type": "stream",
     "text": [
      "pre-covid\n"
     ]
    },
    {
     "data": {
      "application/vnd.jupyter.widget-view+json": {
       "model_id": "559dc1f609fb4d289704eb4202fabc16",
       "version_major": 2,
       "version_minor": 0
      },
      "text/plain": [
       "HBox(children=(FloatProgress(value=0.0, description='interpolating stops...', max=11730.0, style=ProgressStyle…"
      ]
     },
     "metadata": {},
     "output_type": "display_data"
    },
    {
     "name": "stdout",
     "output_type": "stream",
     "text": [
      "\n",
      "am_peak\n",
      "midday\n",
      "pm_peak\n",
      "evening\n",
      "early_am\n",
      "covid\n"
     ]
    },
    {
     "data": {
      "application/vnd.jupyter.widget-view+json": {
       "model_id": "896bab961366457f9e46225104585035",
       "version_major": 2,
       "version_minor": 0
      },
      "text/plain": [
       "HBox(children=(FloatProgress(value=0.0, description='interpolating stops...', max=6501.0, style=ProgressStyle(…"
      ]
     },
     "metadata": {},
     "output_type": "display_data"
    },
    {
     "name": "stdout",
     "output_type": "stream",
     "text": [
      "\n",
      "am_peak\n",
      "midday\n",
      "pm_peak\n",
      "evening\n",
      "early_am\n",
      "Caltrain\n",
      "pre-covid\n"
     ]
    },
    {
     "name": "stderr",
     "output_type": "stream",
     "text": [
      "/Users/edasmalchi/anaconda3/envs/pd1/lib/python3.8/site-packages/pyproj/crs/crs.py:53: FutureWarning: '+init=<authority>:<code>' syntax is deprecated. '<authority>:<code>' is the preferred initialization method. When making the change, be mindful of axis order changes: https://pyproj4.github.io/pyproj/stable/gotchas.html#axis-order-changes-in-proj-6\n",
      "  return _prepare_from_string(\" \".join(pjargs))\n"
     ]
    },
    {
     "data": {
      "application/vnd.jupyter.widget-view+json": {
       "model_id": "d995acf2e1484a0c98fdd419b31dd686",
       "version_major": 2,
       "version_minor": 0
      },
      "text/plain": [
       "HBox(children=(FloatProgress(value=0.0, description='interpolating stops...', max=92.0, style=ProgressStyle(de…"
      ]
     },
     "metadata": {},
     "output_type": "display_data"
    },
    {
     "name": "stdout",
     "output_type": "stream",
     "text": [
      "\n",
      "am_peak\n",
      "midday\n",
      "pm_peak\n",
      "evening\n",
      "early_am\n",
      "covid\n"
     ]
    },
    {
     "data": {
      "application/vnd.jupyter.widget-view+json": {
       "model_id": "7779a6d55e124cc7ba8fb6618e82bad3",
       "version_major": 2,
       "version_minor": 0
      },
      "text/plain": [
       "HBox(children=(FloatProgress(value=0.0, description='interpolating stops...', max=70.0, style=ProgressStyle(de…"
      ]
     },
     "metadata": {},
     "output_type": "display_data"
    },
    {
     "name": "stdout",
     "output_type": "stream",
     "text": [
      "\n",
      "am_peak\n",
      "midday\n",
      "pm_peak\n",
      "evening\n",
      "early_am\n",
      "Sonoma County Transit\n"
     ]
    },
    {
     "name": "stderr",
     "output_type": "stream",
     "text": [
      "/Users/edasmalchi/anaconda3/envs/pd1/lib/python3.8/site-packages/pyproj/crs/crs.py:53: FutureWarning: '+init=<authority>:<code>' syntax is deprecated. '<authority>:<code>' is the preferred initialization method. When making the change, be mindful of axis order changes: https://pyproj4.github.io/pyproj/stable/gotchas.html#axis-order-changes-in-proj-6\n",
      "  return _prepare_from_string(\" \".join(pjargs))\n"
     ]
    },
    {
     "name": "stdout",
     "output_type": "stream",
     "text": [
      "pre-covid\n"
     ]
    },
    {
     "data": {
      "application/vnd.jupyter.widget-view+json": {
       "model_id": "e557d882605a462baf891f98d13445c8",
       "version_major": 2,
       "version_minor": 0
      },
      "text/plain": [
       "HBox(children=(FloatProgress(value=0.0, description='interpolating stops...', max=324.0, style=ProgressStyle(d…"
      ]
     },
     "metadata": {},
     "output_type": "display_data"
    },
    {
     "name": "stdout",
     "output_type": "stream",
     "text": [
      "\n",
      "am_peak\n",
      "midday\n",
      "pm_peak\n",
      "evening\n",
      "early_am\n",
      "covid\n"
     ]
    },
    {
     "data": {
      "application/vnd.jupyter.widget-view+json": {
       "model_id": "8650769a200d49b1b58d514b327cec3f",
       "version_major": 2,
       "version_minor": 0
      },
      "text/plain": [
       "HBox(children=(FloatProgress(value=0.0, description='interpolating stops...', max=206.0, style=ProgressStyle(d…"
      ]
     },
     "metadata": {},
     "output_type": "display_data"
    },
    {
     "name": "stdout",
     "output_type": "stream",
     "text": [
      "\n",
      "am_peak\n",
      "midday\n",
      "pm_peak\n",
      "evening\n",
      "early_am\n",
      "VTA\n"
     ]
    },
    {
     "name": "stderr",
     "output_type": "stream",
     "text": [
      "/Users/edasmalchi/anaconda3/envs/pd1/lib/python3.8/site-packages/pyproj/crs/crs.py:53: FutureWarning: '+init=<authority>:<code>' syntax is deprecated. '<authority>:<code>' is the preferred initialization method. When making the change, be mindful of axis order changes: https://pyproj4.github.io/pyproj/stable/gotchas.html#axis-order-changes-in-proj-6\n",
      "  return _prepare_from_string(\" \".join(pjargs))\n"
     ]
    },
    {
     "name": "stdout",
     "output_type": "stream",
     "text": [
      "pre-covid\n",
      "Feed contains 141785 null stop_times entries, interpolating...\n"
     ]
    },
    {
     "data": {
      "application/vnd.jupyter.widget-view+json": {
       "model_id": "9c7de4ac91ff45bfb67749ad55846a29",
       "version_major": 2,
       "version_minor": 0
      },
      "text/plain": [
       "HBox(children=(FloatProgress(value=0.0, description='interpolating stops...', max=4028.0, style=ProgressStyle(…"
      ]
     },
     "metadata": {},
     "output_type": "display_data"
    },
    {
     "name": "stdout",
     "output_type": "stream",
     "text": [
      "\n",
      "am_peak\n",
      "midday\n",
      "pm_peak\n",
      "evening\n",
      "early_am\n",
      "covid\n"
     ]
    },
    {
     "data": {
      "application/vnd.jupyter.widget-view+json": {
       "model_id": "ecec1f889588493f8336977645bf8829",
       "version_major": 2,
       "version_minor": 0
      },
      "text/plain": [
       "HBox(children=(FloatProgress(value=0.0, description='interpolating stops...', max=2915.0, style=ProgressStyle(…"
      ]
     },
     "metadata": {},
     "output_type": "display_data"
    },
    {
     "name": "stdout",
     "output_type": "stream",
     "text": [
      "\n",
      "am_peak\n",
      "midday\n",
      "pm_peak\n",
      "evening\n",
      "early_am\n",
      "Golden Gate Transit\n"
     ]
    },
    {
     "name": "stderr",
     "output_type": "stream",
     "text": [
      "/Users/edasmalchi/anaconda3/envs/pd1/lib/python3.8/site-packages/pyproj/crs/crs.py:53: FutureWarning: '+init=<authority>:<code>' syntax is deprecated. '<authority>:<code>' is the preferred initialization method. When making the change, be mindful of axis order changes: https://pyproj4.github.io/pyproj/stable/gotchas.html#axis-order-changes-in-proj-6\n",
      "  return _prepare_from_string(\" \".join(pjargs))\n"
     ]
    },
    {
     "name": "stdout",
     "output_type": "stream",
     "text": [
      "pre-covid\n"
     ]
    },
    {
     "data": {
      "application/vnd.jupyter.widget-view+json": {
       "model_id": "ecdd44bc06554505818cb4ddeb4507b0",
       "version_major": 2,
       "version_minor": 0
      },
      "text/plain": [
       "HBox(children=(FloatProgress(value=0.0, description='interpolating stops...', max=548.0, style=ProgressStyle(d…"
      ]
     },
     "metadata": {},
     "output_type": "display_data"
    },
    {
     "name": "stdout",
     "output_type": "stream",
     "text": [
      "\n",
      "am_peak\n",
      "midday\n",
      "pm_peak\n",
      "evening\n",
      "early_am\n",
      "covid\n"
     ]
    },
    {
     "data": {
      "application/vnd.jupyter.widget-view+json": {
       "model_id": "641613176a8b48aebaadd980d02173d3",
       "version_major": 2,
       "version_minor": 0
      },
      "text/plain": [
       "HBox(children=(FloatProgress(value=0.0, description='interpolating stops...', max=219.0, style=ProgressStyle(d…"
      ]
     },
     "metadata": {},
     "output_type": "display_data"
    },
    {
     "name": "stdout",
     "output_type": "stream",
     "text": [
      "\n",
      "am_peak\n",
      "midday\n",
      "pm_peak\n",
      "evening\n",
      "early_am\n",
      "Stanford\n"
     ]
    },
    {
     "name": "stderr",
     "output_type": "stream",
     "text": [
      "/Users/edasmalchi/anaconda3/envs/pd1/lib/python3.8/site-packages/pyproj/crs/crs.py:53: FutureWarning: '+init=<authority>:<code>' syntax is deprecated. '<authority>:<code>' is the preferred initialization method. When making the change, be mindful of axis order changes: https://pyproj4.github.io/pyproj/stable/gotchas.html#axis-order-changes-in-proj-6\n",
      "  return _prepare_from_string(\" \".join(pjargs))\n"
     ]
    },
    {
     "name": "stdout",
     "output_type": "stream",
     "text": [
      "pre-covid\n"
     ]
    },
    {
     "data": {
      "application/vnd.jupyter.widget-view+json": {
       "model_id": "6f36e052262d46d0bf2d5e2477d9373d",
       "version_major": 2,
       "version_minor": 0
      },
      "text/plain": [
       "HBox(children=(FloatProgress(value=0.0, description='interpolating stops...', max=594.0, style=ProgressStyle(d…"
      ]
     },
     "metadata": {},
     "output_type": "display_data"
    },
    {
     "name": "stdout",
     "output_type": "stream",
     "text": [
      "\n",
      "am_peak\n",
      "midday\n",
      "pm_peak\n",
      "evening\n",
      "early_am\n",
      "covid\n"
     ]
    },
    {
     "data": {
      "application/vnd.jupyter.widget-view+json": {
       "model_id": "9b2bfa2cf9e746a38dabaa4f7407931d",
       "version_major": 2,
       "version_minor": 0
      },
      "text/plain": [
       "HBox(children=(FloatProgress(value=0.0, description='interpolating stops...', max=491.0, style=ProgressStyle(d…"
      ]
     },
     "metadata": {},
     "output_type": "display_data"
    },
    {
     "name": "stdout",
     "output_type": "stream",
     "text": [
      "\n",
      "am_peak\n",
      "midday\n",
      "pm_peak\n",
      "evening\n",
      "early_am\n",
      "Fairfield Suisun Transit\n"
     ]
    },
    {
     "name": "stderr",
     "output_type": "stream",
     "text": [
      "/Users/edasmalchi/anaconda3/envs/pd1/lib/python3.8/site-packages/pyproj/crs/crs.py:53: FutureWarning: '+init=<authority>:<code>' syntax is deprecated. '<authority>:<code>' is the preferred initialization method. When making the change, be mindful of axis order changes: https://pyproj4.github.io/pyproj/stable/gotchas.html#axis-order-changes-in-proj-6\n",
      "  return _prepare_from_string(\" \".join(pjargs))\n"
     ]
    },
    {
     "name": "stdout",
     "output_type": "stream",
     "text": [
      "pre-covid\n",
      "Feed contains 3793 null stop_times entries, interpolating...\n"
     ]
    },
    {
     "data": {
      "application/vnd.jupyter.widget-view+json": {
       "model_id": "49769ca83e63452fb60b04c1a4483863",
       "version_major": 2,
       "version_minor": 0
      },
      "text/plain": [
       "HBox(children=(FloatProgress(value=0.0, description='interpolating stops...', max=346.0, style=ProgressStyle(d…"
      ]
     },
     "metadata": {},
     "output_type": "display_data"
    },
    {
     "name": "stdout",
     "output_type": "stream",
     "text": [
      "\n",
      "am_peak\n",
      "midday\n",
      "pm_peak\n",
      "evening\n",
      "early_am\n",
      "covid\n",
      "Feed contains 4530 null stop_times entries, interpolating...\n"
     ]
    },
    {
     "data": {
      "application/vnd.jupyter.widget-view+json": {
       "model_id": "7fbc59c0ce874e19aed0e6c1b27e8844",
       "version_major": 2,
       "version_minor": 0
      },
      "text/plain": [
       "HBox(children=(FloatProgress(value=0.0, description='interpolating stops...', max=450.0, style=ProgressStyle(d…"
      ]
     },
     "metadata": {},
     "output_type": "display_data"
    },
    {
     "name": "stdout",
     "output_type": "stream",
     "text": [
      "\n",
      "am_peak\n",
      "midday\n",
      "pm_peak\n",
      "evening\n",
      "early_am\n",
      "WestCAT\n"
     ]
    },
    {
     "name": "stderr",
     "output_type": "stream",
     "text": [
      "/Users/edasmalchi/anaconda3/envs/pd1/lib/python3.8/site-packages/pyproj/crs/crs.py:53: FutureWarning: '+init=<authority>:<code>' syntax is deprecated. '<authority>:<code>' is the preferred initialization method. When making the change, be mindful of axis order changes: https://pyproj4.github.io/pyproj/stable/gotchas.html#axis-order-changes-in-proj-6\n",
      "  return _prepare_from_string(\" \".join(pjargs))\n"
     ]
    },
    {
     "name": "stdout",
     "output_type": "stream",
     "text": [
      "pre-covid\n",
      "Feed contains 5718 null stop_times entries, interpolating...\n"
     ]
    },
    {
     "data": {
      "application/vnd.jupyter.widget-view+json": {
       "model_id": "fc8d9b96e8c847e5a13016d2bf5fff3f",
       "version_major": 2,
       "version_minor": 0
      },
      "text/plain": [
       "HBox(children=(FloatProgress(value=0.0, description='interpolating stops...', max=836.0, style=ProgressStyle(d…"
      ]
     },
     "metadata": {},
     "output_type": "display_data"
    },
    {
     "name": "stdout",
     "output_type": "stream",
     "text": [
      "\n",
      "am_peak\n",
      "midday\n",
      "pm_peak\n",
      "evening\n",
      "early_am\n",
      "covid\n",
      "Feed contains 4276 null stop_times entries, interpolating...\n"
     ]
    },
    {
     "data": {
      "application/vnd.jupyter.widget-view+json": {
       "model_id": "2e5c47670ba34c6798b6ed1894cd8c42",
       "version_major": 2,
       "version_minor": 0
      },
      "text/plain": [
       "HBox(children=(FloatProgress(value=0.0, description='interpolating stops...', max=462.0, style=ProgressStyle(d…"
      ]
     },
     "metadata": {},
     "output_type": "display_data"
    },
    {
     "name": "stdout",
     "output_type": "stream",
     "text": [
      "\n",
      "am_peak\n",
      "midday\n",
      "pm_peak\n",
      "evening\n",
      "early_am\n",
      "SMART (Marin&Sonoma)\n",
      "pre-covid\n"
     ]
    },
    {
     "name": "stderr",
     "output_type": "stream",
     "text": [
      "/Users/edasmalchi/anaconda3/envs/pd1/lib/python3.8/site-packages/pyproj/crs/crs.py:53: FutureWarning: '+init=<authority>:<code>' syntax is deprecated. '<authority>:<code>' is the preferred initialization method. When making the change, be mindful of axis order changes: https://pyproj4.github.io/pyproj/stable/gotchas.html#axis-order-changes-in-proj-6\n",
      "  return _prepare_from_string(\" \".join(pjargs))\n"
     ]
    },
    {
     "data": {
      "application/vnd.jupyter.widget-view+json": {
       "model_id": "4b9d49df003d48c8b52e92bd93273f7f",
       "version_major": 2,
       "version_minor": 0
      },
      "text/plain": [
       "HBox(children=(FloatProgress(value=0.0, description='interpolating stops...', max=38.0, style=ProgressStyle(de…"
      ]
     },
     "metadata": {},
     "output_type": "display_data"
    },
    {
     "name": "stdout",
     "output_type": "stream",
     "text": [
      "\n",
      "am_peak\n",
      "midday\n",
      "pm_peak\n",
      "evening\n",
      "early_am\n",
      "covid\n"
     ]
    },
    {
     "data": {
      "application/vnd.jupyter.widget-view+json": {
       "model_id": "49f0777165084fe79ee4d3928b2c5da2",
       "version_major": 2,
       "version_minor": 0
      },
      "text/plain": [
       "HBox(children=(FloatProgress(value=0.0, description='interpolating stops...', max=16.0, style=ProgressStyle(de…"
      ]
     },
     "metadata": {},
     "output_type": "display_data"
    },
    {
     "name": "stdout",
     "output_type": "stream",
     "text": [
      "\n",
      "am_peak\n",
      "midday\n",
      "pm_peak\n",
      "evening\n",
      "early_am\n",
      "AC Transit\n"
     ]
    },
    {
     "name": "stderr",
     "output_type": "stream",
     "text": [
      "/Users/edasmalchi/anaconda3/envs/pd1/lib/python3.8/site-packages/pyproj/crs/crs.py:53: FutureWarning: '+init=<authority>:<code>' syntax is deprecated. '<authority>:<code>' is the preferred initialization method. When making the change, be mindful of axis order changes: https://pyproj4.github.io/pyproj/stable/gotchas.html#axis-order-changes-in-proj-6\n",
      "  return _prepare_from_string(\" \".join(pjargs))\n"
     ]
    },
    {
     "name": "stdout",
     "output_type": "stream",
     "text": [
      "pre-covid\n"
     ]
    },
    {
     "data": {
      "application/vnd.jupyter.widget-view+json": {
       "model_id": "f01c993343a94988be7d4d264367bf67",
       "version_major": 2,
       "version_minor": 0
      },
      "text/plain": [
       "HBox(children=(FloatProgress(value=0.0, description='interpolating stops...', max=6904.0, style=ProgressStyle(…"
      ]
     },
     "metadata": {},
     "output_type": "display_data"
    },
    {
     "name": "stdout",
     "output_type": "stream",
     "text": [
      "\n",
      "am_peak\n",
      "midday\n",
      "pm_peak\n",
      "evening\n",
      "early_am\n",
      "covid\n"
     ]
    },
    {
     "data": {
      "application/vnd.jupyter.widget-view+json": {
       "model_id": "5b941505258547abb820bcf1ea758752",
       "version_major": 2,
       "version_minor": 0
      },
      "text/plain": [
       "HBox(children=(FloatProgress(value=0.0, description='interpolating stops...', max=4912.0, style=ProgressStyle(…"
      ]
     },
     "metadata": {},
     "output_type": "display_data"
    },
    {
     "name": "stdout",
     "output_type": "stream",
     "text": [
      "\n",
      "am_peak\n",
      "midday\n",
      "pm_peak\n",
      "evening\n",
      "early_am\n",
      "Blue and Gold Fleet\n",
      "pre-covid\n"
     ]
    },
    {
     "name": "stderr",
     "output_type": "stream",
     "text": [
      "/Users/edasmalchi/anaconda3/envs/pd1/lib/python3.8/site-packages/pyproj/crs/crs.py:53: FutureWarning: '+init=<authority>:<code>' syntax is deprecated. '<authority>:<code>' is the preferred initialization method. When making the change, be mindful of axis order changes: https://pyproj4.github.io/pyproj/stable/gotchas.html#axis-order-changes-in-proj-6\n",
      "  return _prepare_from_string(\" \".join(pjargs))\n"
     ]
    },
    {
     "data": {
      "application/vnd.jupyter.widget-view+json": {
       "model_id": "1635cb913abb4ac18b12da5bd33ab5d5",
       "version_major": 2,
       "version_minor": 0
      },
      "text/plain": [
       "HBox(children=(FloatProgress(value=0.0, description='interpolating stops...', max=105.0, style=ProgressStyle(d…"
      ]
     },
     "metadata": {},
     "output_type": "display_data"
    },
    {
     "name": "stdout",
     "output_type": "stream",
     "text": [
      "\n",
      "am_peak\n",
      "midday\n",
      "pm_peak\n",
      "evening\n",
      "early_am\n",
      "covid\n"
     ]
    },
    {
     "data": {
      "application/vnd.jupyter.widget-view+json": {
       "model_id": "0cc3c744cdbe4ba8b4ef9f68154ae890",
       "version_major": 2,
       "version_minor": 0
      },
      "text/plain": [
       "HBox(children=(FloatProgress(value=0.0, description='interpolating stops...', max=36.0, style=ProgressStyle(de…"
      ]
     },
     "metadata": {},
     "output_type": "display_data"
    },
    {
     "name": "stdout",
     "output_type": "stream",
     "text": [
      "\n",
      "am_peak\n",
      "midday\n",
      "pm_peak\n",
      "evening\n",
      "early_am\n",
      "Mountain View\n",
      "pre-covid\n"
     ]
    },
    {
     "name": "stderr",
     "output_type": "stream",
     "text": [
      "/Users/edasmalchi/anaconda3/envs/pd1/lib/python3.8/site-packages/pyproj/crs/crs.py:53: FutureWarning: '+init=<authority>:<code>' syntax is deprecated. '<authority>:<code>' is the preferred initialization method. When making the change, be mindful of axis order changes: https://pyproj4.github.io/pyproj/stable/gotchas.html#axis-order-changes-in-proj-6\n",
      "  return _prepare_from_string(\" \".join(pjargs))\n"
     ]
    },
    {
     "data": {
      "application/vnd.jupyter.widget-view+json": {
       "model_id": "cd0d55e28bc04296b00c46f5ab6e1c45",
       "version_major": 2,
       "version_minor": 0
      },
      "text/plain": [
       "HBox(children=(FloatProgress(value=0.0, description='interpolating stops...', max=64.0, style=ProgressStyle(de…"
      ]
     },
     "metadata": {},
     "output_type": "display_data"
    },
    {
     "name": "stdout",
     "output_type": "stream",
     "text": [
      "\n",
      "am_peak\n",
      "midday\n",
      "pm_peak\n",
      "evening\n",
      "early_am\n",
      "covid\n"
     ]
    },
    {
     "data": {
      "application/vnd.jupyter.widget-view+json": {
       "model_id": "52d8bf8b38f74267aef586f96c403d54",
       "version_major": 2,
       "version_minor": 0
      },
      "text/plain": [
       "HBox(children=(FloatProgress(value=0.0, description='interpolating stops...', max=54.0, style=ProgressStyle(de…"
      ]
     },
     "metadata": {},
     "output_type": "display_data"
    },
    {
     "name": "stdout",
     "output_type": "stream",
     "text": [
      "\n",
      "am_peak\n",
      "midday\n",
      "pm_peak\n",
      "evening\n",
      "early_am\n",
      "BART\n"
     ]
    },
    {
     "name": "stderr",
     "output_type": "stream",
     "text": [
      "/Users/edasmalchi/anaconda3/envs/pd1/lib/python3.8/site-packages/pyproj/crs/crs.py:53: FutureWarning: '+init=<authority>:<code>' syntax is deprecated. '<authority>:<code>' is the preferred initialization method. When making the change, be mindful of axis order changes: https://pyproj4.github.io/pyproj/stable/gotchas.html#axis-order-changes-in-proj-6\n",
      "  return _prepare_from_string(\" \".join(pjargs))\n"
     ]
    },
    {
     "name": "stdout",
     "output_type": "stream",
     "text": [
      "pre-covid\n"
     ]
    },
    {
     "data": {
      "application/vnd.jupyter.widget-view+json": {
       "model_id": "37b38ea49a3841f79ccb770bc909e4e9",
       "version_major": 2,
       "version_minor": 0
      },
      "text/plain": [
       "HBox(children=(FloatProgress(value=0.0, description='interpolating stops...', max=1149.0, style=ProgressStyle(…"
      ]
     },
     "metadata": {},
     "output_type": "display_data"
    },
    {
     "name": "stdout",
     "output_type": "stream",
     "text": [
      "\n",
      "am_peak\n",
      "midday\n",
      "pm_peak\n",
      "evening\n",
      "early_am\n",
      "covid\n"
     ]
    },
    {
     "data": {
      "application/vnd.jupyter.widget-view+json": {
       "model_id": "43ee2d4525e548148baddac28474b4be",
       "version_major": 2,
       "version_minor": 0
      },
      "text/plain": [
       "HBox(children=(FloatProgress(value=0.0, description='interpolating stops...', max=754.0, style=ProgressStyle(d…"
      ]
     },
     "metadata": {},
     "output_type": "display_data"
    },
    {
     "name": "stdout",
     "output_type": "stream",
     "text": [
      "\n",
      "am_peak\n",
      "midday\n",
      "pm_peak\n",
      "evening\n",
      "early_am\n",
      "Santa Cruz Metro\n"
     ]
    },
    {
     "name": "stderr",
     "output_type": "stream",
     "text": [
      "/Users/edasmalchi/anaconda3/envs/pd1/lib/python3.8/site-packages/pyproj/crs/crs.py:53: FutureWarning: '+init=<authority>:<code>' syntax is deprecated. '<authority>:<code>' is the preferred initialization method. When making the change, be mindful of axis order changes: https://pyproj4.github.io/pyproj/stable/gotchas.html#axis-order-changes-in-proj-6\n",
      "  return _prepare_from_string(\" \".join(pjargs))\n"
     ]
    },
    {
     "name": "stdout",
     "output_type": "stream",
     "text": [
      "pre-covid\n"
     ]
    },
    {
     "data": {
      "application/vnd.jupyter.widget-view+json": {
       "model_id": "839c2bfe197d4b27b7ec50a1acb5f280",
       "version_major": 2,
       "version_minor": 0
      },
      "text/plain": [
       "HBox(children=(FloatProgress(value=0.0, description='interpolating stops...', max=626.0, style=ProgressStyle(d…"
      ]
     },
     "metadata": {},
     "output_type": "display_data"
    },
    {
     "name": "stdout",
     "output_type": "stream",
     "text": [
      "\n",
      "am_peak\n",
      "midday\n",
      "pm_peak\n",
      "evening\n",
      "early_am\n",
      "covid\n"
     ]
    },
    {
     "data": {
      "application/vnd.jupyter.widget-view+json": {
       "model_id": "d79e666b9f5b4220bca050d415692682",
       "version_major": 2,
       "version_minor": 0
      },
      "text/plain": [
       "HBox(children=(FloatProgress(value=0.0, description='interpolating stops...', max=422.0, style=ProgressStyle(d…"
      ]
     },
     "metadata": {},
     "output_type": "display_data"
    },
    {
     "name": "stdout",
     "output_type": "stream",
     "text": [
      "\n",
      "am_peak\n",
      "midday\n",
      "pm_peak\n",
      "evening\n",
      "early_am\n",
      "Emery Go-Round\n"
     ]
    },
    {
     "name": "stderr",
     "output_type": "stream",
     "text": [
      "/Users/edasmalchi/anaconda3/envs/pd1/lib/python3.8/site-packages/pyproj/crs/crs.py:53: FutureWarning: '+init=<authority>:<code>' syntax is deprecated. '<authority>:<code>' is the preferred initialization method. When making the change, be mindful of axis order changes: https://pyproj4.github.io/pyproj/stable/gotchas.html#axis-order-changes-in-proj-6\n",
      "  return _prepare_from_string(\" \".join(pjargs))\n"
     ]
    },
    {
     "name": "stdout",
     "output_type": "stream",
     "text": [
      "pre-covid\n"
     ]
    },
    {
     "data": {
      "application/vnd.jupyter.widget-view+json": {
       "model_id": "4fb8f297301c4f34892d80d254c2319a",
       "version_major": 2,
       "version_minor": 0
      },
      "text/plain": [
       "HBox(children=(FloatProgress(value=0.0, description='interpolating stops...', max=243.0, style=ProgressStyle(d…"
      ]
     },
     "metadata": {},
     "output_type": "display_data"
    },
    {
     "name": "stdout",
     "output_type": "stream",
     "text": [
      "\n",
      "am_peak\n",
      "midday\n",
      "pm_peak\n",
      "evening\n",
      "early_am\n",
      "covid\n"
     ]
    },
    {
     "data": {
      "application/vnd.jupyter.widget-view+json": {
       "model_id": "fce9cf2420704c258992e96770961076",
       "version_major": 2,
       "version_minor": 0
      },
      "text/plain": [
       "HBox(children=(FloatProgress(value=0.0, description='interpolating stops...', max=134.0, style=ProgressStyle(d…"
      ]
     },
     "metadata": {},
     "output_type": "display_data"
    },
    {
     "name": "stdout",
     "output_type": "stream",
     "text": [
      "\n",
      "am_peak\n",
      "midday\n",
      "pm_peak\n",
      "evening\n",
      "early_am\n",
      "Tideline Water Taxi\n",
      "pre-covid\n"
     ]
    },
    {
     "name": "stderr",
     "output_type": "stream",
     "text": [
      "/Users/edasmalchi/anaconda3/envs/pd1/lib/python3.8/site-packages/pyproj/crs/crs.py:53: FutureWarning: '+init=<authority>:<code>' syntax is deprecated. '<authority>:<code>' is the preferred initialization method. When making the change, be mindful of axis order changes: https://pyproj4.github.io/pyproj/stable/gotchas.html#axis-order-changes-in-proj-6\n",
      "  return _prepare_from_string(\" \".join(pjargs))\n"
     ]
    },
    {
     "data": {
      "application/vnd.jupyter.widget-view+json": {
       "model_id": "09f961626cec4910b09c4f7f5aff37f6",
       "version_major": 2,
       "version_minor": 0
      },
      "text/plain": [
       "HBox(children=(FloatProgress(value=0.0, description='interpolating stops...', max=8.0, style=ProgressStyle(des…"
      ]
     },
     "metadata": {},
     "output_type": "display_data"
    },
    {
     "name": "stdout",
     "output_type": "stream",
     "text": [
      "\n",
      "am_peak\n",
      "midday\n",
      "pm_peak\n",
      "evening\n",
      "early_am\n",
      "covid\n"
     ]
    },
    {
     "data": {
      "application/vnd.jupyter.widget-view+json": {
       "model_id": "203dd36b628c4dfcb8bdbc5b66453715",
       "version_major": 2,
       "version_minor": 0
      },
      "text/plain": [
       "HBox(children=(FloatProgress(value=0.0, description='interpolating stops...', max=8.0, style=ProgressStyle(des…"
      ]
     },
     "metadata": {},
     "output_type": "display_data"
    },
    {
     "name": "stdout",
     "output_type": "stream",
     "text": [
      "\n",
      "am_peak\n",
      "midday\n",
      "pm_peak\n",
      "evening\n",
      "early_am\n",
      "Capitol Corridor\n",
      "pre-covid\n"
     ]
    },
    {
     "name": "stderr",
     "output_type": "stream",
     "text": [
      "/Users/edasmalchi/anaconda3/envs/pd1/lib/python3.8/site-packages/pyproj/crs/crs.py:53: FutureWarning: '+init=<authority>:<code>' syntax is deprecated. '<authority>:<code>' is the preferred initialization method. When making the change, be mindful of axis order changes: https://pyproj4.github.io/pyproj/stable/gotchas.html#axis-order-changes-in-proj-6\n",
      "  return _prepare_from_string(\" \".join(pjargs))\n"
     ]
    },
    {
     "data": {
      "application/vnd.jupyter.widget-view+json": {
       "model_id": "a5163103010942d39dc5883d890df09b",
       "version_major": 2,
       "version_minor": 0
      },
      "text/plain": [
       "HBox(children=(FloatProgress(value=0.0, description='interpolating stops...', max=69.0, style=ProgressStyle(de…"
      ]
     },
     "metadata": {},
     "output_type": "display_data"
    },
    {
     "name": "stdout",
     "output_type": "stream",
     "text": [
      "\n",
      "am_peak\n",
      "midday\n",
      "pm_peak\n",
      "evening\n",
      "early_am\n",
      "covid\n"
     ]
    },
    {
     "data": {
      "application/vnd.jupyter.widget-view+json": {
       "model_id": "e56be6ef658f4920b1bacf6576faf5c3",
       "version_major": 2,
       "version_minor": 0
      },
      "text/plain": [
       "HBox(children=(FloatProgress(value=0.0, description='interpolating stops...', max=49.0, style=ProgressStyle(de…"
      ]
     },
     "metadata": {},
     "output_type": "display_data"
    },
    {
     "name": "stdout",
     "output_type": "stream",
     "text": [
      "\n",
      "am_peak\n",
      "midday\n",
      "pm_peak\n",
      "evening\n",
      "early_am\n",
      "Marin Transit\n"
     ]
    },
    {
     "name": "stderr",
     "output_type": "stream",
     "text": [
      "/Users/edasmalchi/anaconda3/envs/pd1/lib/python3.8/site-packages/pyproj/crs/crs.py:53: FutureWarning: '+init=<authority>:<code>' syntax is deprecated. '<authority>:<code>' is the preferred initialization method. When making the change, be mindful of axis order changes: https://pyproj4.github.io/pyproj/stable/gotchas.html#axis-order-changes-in-proj-6\n",
      "  return _prepare_from_string(\" \".join(pjargs))\n"
     ]
    },
    {
     "name": "stdout",
     "output_type": "stream",
     "text": [
      "pre-covid\n"
     ]
    },
    {
     "data": {
      "application/vnd.jupyter.widget-view+json": {
       "model_id": "0c2efd47fa3a4166ae5603b6188660cc",
       "version_major": 2,
       "version_minor": 0
      },
      "text/plain": [
       "HBox(children=(FloatProgress(value=0.0, description='interpolating stops...', max=656.0, style=ProgressStyle(d…"
      ]
     },
     "metadata": {},
     "output_type": "display_data"
    },
    {
     "name": "stdout",
     "output_type": "stream",
     "text": [
      "\n",
      "am_peak\n",
      "midday\n",
      "pm_peak\n",
      "evening\n",
      "early_am\n",
      "covid\n"
     ]
    },
    {
     "data": {
      "application/vnd.jupyter.widget-view+json": {
       "model_id": "86a7775148944d6489833210e55c5967",
       "version_major": 2,
       "version_minor": 0
      },
      "text/plain": [
       "HBox(children=(FloatProgress(value=0.0, description='interpolating stops...', max=1195.0, style=ProgressStyle(…"
      ]
     },
     "metadata": {},
     "output_type": "display_data"
    },
    {
     "name": "stdout",
     "output_type": "stream",
     "text": [
      "\n",
      "am_peak\n",
      "midday\n",
      "pm_peak\n",
      "evening\n",
      "early_am\n",
      "Vacaville City Coach\n"
     ]
    },
    {
     "name": "stderr",
     "output_type": "stream",
     "text": [
      "/Users/edasmalchi/anaconda3/envs/pd1/lib/python3.8/site-packages/pyproj/crs/crs.py:53: FutureWarning: '+init=<authority>:<code>' syntax is deprecated. '<authority>:<code>' is the preferred initialization method. When making the change, be mindful of axis order changes: https://pyproj4.github.io/pyproj/stable/gotchas.html#axis-order-changes-in-proj-6\n",
      "  return _prepare_from_string(\" \".join(pjargs))\n"
     ]
    },
    {
     "name": "stdout",
     "output_type": "stream",
     "text": [
      "pre-covid\n",
      "Feed contains 3796 null stop_times entries, interpolating...\n"
     ]
    },
    {
     "data": {
      "application/vnd.jupyter.widget-view+json": {
       "model_id": "67cfbcab617d4aae96ee4f8b7db28e14",
       "version_major": 2,
       "version_minor": 0
      },
      "text/plain": [
       "HBox(children=(FloatProgress(value=0.0, description='interpolating stops...', max=204.0, style=ProgressStyle(d…"
      ]
     },
     "metadata": {},
     "output_type": "display_data"
    },
    {
     "name": "stdout",
     "output_type": "stream",
     "text": [
      "\n",
      "am_peak\n",
      "midday\n",
      "pm_peak\n",
      "evening\n",
      "early_am\n",
      "covid\n",
      "Feed contains 768 null stop_times entries, interpolating...\n"
     ]
    },
    {
     "data": {
      "application/vnd.jupyter.widget-view+json": {
       "model_id": "89bc8aab86ef4a3d9eb2619b8ef3084f",
       "version_major": 2,
       "version_minor": 0
      },
      "text/plain": [
       "HBox(children=(FloatProgress(value=0.0, description='interpolating stops...', max=48.0, style=ProgressStyle(de…"
      ]
     },
     "metadata": {},
     "output_type": "display_data"
    },
    {
     "name": "stdout",
     "output_type": "stream",
     "text": [
      "\n",
      "am_peak\n",
      "midday\n",
      "pm_peak\n",
      "evening\n",
      "early_am\n",
      "Mission Bay TMA\n"
     ]
    },
    {
     "name": "stderr",
     "output_type": "stream",
     "text": [
      "/Users/edasmalchi/anaconda3/envs/pd1/lib/python3.8/site-packages/pyproj/crs/crs.py:53: FutureWarning: '+init=<authority>:<code>' syntax is deprecated. '<authority>:<code>' is the preferred initialization method. When making the change, be mindful of axis order changes: https://pyproj4.github.io/pyproj/stable/gotchas.html#axis-order-changes-in-proj-6\n",
      "  return _prepare_from_string(\" \".join(pjargs))\n"
     ]
    },
    {
     "name": "stdout",
     "output_type": "stream",
     "text": [
      "pre-covid\n",
      "Feed contains 2 null stop_times entries, interpolating...\n"
     ]
    },
    {
     "data": {
      "application/vnd.jupyter.widget-view+json": {
       "model_id": "5dcbb37e17544648a25bfd83e55bda7f",
       "version_major": 2,
       "version_minor": 0
      },
      "text/plain": [
       "HBox(children=(FloatProgress(value=0.0, description='interpolating stops...', max=122.0, style=ProgressStyle(d…"
      ]
     },
     "metadata": {},
     "output_type": "display_data"
    },
    {
     "name": "stdout",
     "output_type": "stream",
     "text": [
      "\n",
      "am_peak\n",
      "midday\n",
      "pm_peak\n",
      "evening\n",
      "early_am\n",
      "covid\n",
      "Feed contains 2 null stop_times entries, interpolating...\n"
     ]
    },
    {
     "data": {
      "application/vnd.jupyter.widget-view+json": {
       "model_id": "ebc4dc0c2738491683443727b7f5da6f",
       "version_major": 2,
       "version_minor": 0
      },
      "text/plain": [
       "HBox(children=(FloatProgress(value=0.0, description='interpolating stops...', max=113.0, style=ProgressStyle(d…"
      ]
     },
     "metadata": {},
     "output_type": "display_data"
    },
    {
     "name": "stdout",
     "output_type": "stream",
     "text": [
      "\n",
      "am_peak\n",
      "midday\n",
      "pm_peak\n",
      "evening\n",
      "early_am\n",
      "County Connection\n"
     ]
    },
    {
     "name": "stderr",
     "output_type": "stream",
     "text": [
      "/Users/edasmalchi/anaconda3/envs/pd1/lib/python3.8/site-packages/pyproj/crs/crs.py:53: FutureWarning: '+init=<authority>:<code>' syntax is deprecated. '<authority>:<code>' is the preferred initialization method. When making the change, be mindful of axis order changes: https://pyproj4.github.io/pyproj/stable/gotchas.html#axis-order-changes-in-proj-6\n",
      "  return _prepare_from_string(\" \".join(pjargs))\n"
     ]
    },
    {
     "name": "stdout",
     "output_type": "stream",
     "text": [
      "pre-covid\n",
      "Feed contains 20242 null stop_times entries, interpolating...\n"
     ]
    },
    {
     "data": {
      "application/vnd.jupyter.widget-view+json": {
       "model_id": "aa6e52561cff42deace858717be1295f",
       "version_major": 2,
       "version_minor": 0
      },
      "text/plain": [
       "HBox(children=(FloatProgress(value=0.0, description='interpolating stops...', max=1022.0, style=ProgressStyle(…"
      ]
     },
     "metadata": {},
     "output_type": "display_data"
    },
    {
     "name": "stdout",
     "output_type": "stream",
     "text": [
      "\n",
      "am_peak\n",
      "midday\n",
      "pm_peak\n",
      "evening\n",
      "early_am\n",
      "covid\n",
      "Feed contains 19685 null stop_times entries, interpolating...\n"
     ]
    },
    {
     "data": {
      "application/vnd.jupyter.widget-view+json": {
       "model_id": "4fd79b9ebeed45dc967d8b2fc2a96244",
       "version_major": 2,
       "version_minor": 0
      },
      "text/plain": [
       "HBox(children=(FloatProgress(value=0.0, description='interpolating stops...', max=975.0, style=ProgressStyle(d…"
      ]
     },
     "metadata": {},
     "output_type": "display_data"
    },
    {
     "name": "stdout",
     "output_type": "stream",
     "text": [
      "\n",
      "am_peak\n",
      "midday\n",
      "pm_peak\n",
      "evening\n",
      "early_am\n",
      "SolTrans (Solano County)\n"
     ]
    },
    {
     "name": "stderr",
     "output_type": "stream",
     "text": [
      "/Users/edasmalchi/anaconda3/envs/pd1/lib/python3.8/site-packages/pyproj/crs/crs.py:53: FutureWarning: '+init=<authority>:<code>' syntax is deprecated. '<authority>:<code>' is the preferred initialization method. When making the change, be mindful of axis order changes: https://pyproj4.github.io/pyproj/stable/gotchas.html#axis-order-changes-in-proj-6\n",
      "  return _prepare_from_string(\" \".join(pjargs))\n"
     ]
    },
    {
     "name": "stdout",
     "output_type": "stream",
     "text": [
      "pre-covid\n",
      "Feed contains 7350 null stop_times entries, interpolating...\n"
     ]
    },
    {
     "data": {
      "application/vnd.jupyter.widget-view+json": {
       "model_id": "e64af51517954de3814890ce151196f8",
       "version_major": 2,
       "version_minor": 0
      },
      "text/plain": [
       "HBox(children=(FloatProgress(value=0.0, description='interpolating stops...', max=566.0, style=ProgressStyle(d…"
      ]
     },
     "metadata": {},
     "output_type": "display_data"
    },
    {
     "name": "stdout",
     "output_type": "stream",
     "text": [
      "\n",
      "am_peak\n",
      "midday\n",
      "pm_peak\n",
      "evening\n",
      "early_am\n",
      "covid\n",
      "Feed contains 4555 null stop_times entries, interpolating...\n"
     ]
    },
    {
     "data": {
      "application/vnd.jupyter.widget-view+json": {
       "model_id": "9e54a9745b7e41bf813b65e296743f7e",
       "version_major": 2,
       "version_minor": 0
      },
      "text/plain": [
       "HBox(children=(FloatProgress(value=0.0, description='interpolating stops...', max=336.0, style=ProgressStyle(d…"
      ]
     },
     "metadata": {},
     "output_type": "display_data"
    },
    {
     "name": "stdout",
     "output_type": "stream",
     "text": [
      "\n",
      "am_peak\n",
      "midday\n",
      "pm_peak\n",
      "evening\n",
      "early_am\n",
      "Petaluma Transit\n"
     ]
    },
    {
     "name": "stderr",
     "output_type": "stream",
     "text": [
      "/Users/edasmalchi/anaconda3/envs/pd1/lib/python3.8/site-packages/pyproj/crs/crs.py:53: FutureWarning: '+init=<authority>:<code>' syntax is deprecated. '<authority>:<code>' is the preferred initialization method. When making the change, be mindful of axis order changes: https://pyproj4.github.io/pyproj/stable/gotchas.html#axis-order-changes-in-proj-6\n",
      "  return _prepare_from_string(\" \".join(pjargs))\n"
     ]
    },
    {
     "name": "stdout",
     "output_type": "stream",
     "text": [
      "pre-covid\n",
      "Feed contains 2105 null stop_times entries, interpolating...\n"
     ]
    },
    {
     "data": {
      "application/vnd.jupyter.widget-view+json": {
       "model_id": "7b3a3f1dd08d40058c31cd462e472ec3",
       "version_major": 2,
       "version_minor": 0
      },
      "text/plain": [
       "HBox(children=(FloatProgress(value=0.0, description='interpolating stops...', max=233.0, style=ProgressStyle(d…"
      ]
     },
     "metadata": {},
     "output_type": "display_data"
    },
    {
     "name": "stdout",
     "output_type": "stream",
     "text": [
      "\n",
      "am_peak\n",
      "midday\n",
      "pm_peak\n",
      "evening\n",
      "early_am\n",
      "covid\n",
      "Feed contains 1878 null stop_times entries, interpolating...\n"
     ]
    },
    {
     "data": {
      "application/vnd.jupyter.widget-view+json": {
       "model_id": "aca0d053a9b849cba6fe8071773e3f65",
       "version_major": 2,
       "version_minor": 0
      },
      "text/plain": [
       "HBox(children=(FloatProgress(value=0.0, description='interpolating stops...', max=215.0, style=ProgressStyle(d…"
      ]
     },
     "metadata": {},
     "output_type": "display_data"
    },
    {
     "name": "stdout",
     "output_type": "stream",
     "text": [
      "\n",
      "am_peak\n",
      "midday\n",
      "pm_peak\n",
      "evening\n",
      "early_am\n"
     ]
    }
   ],
   "source": [
    "svc_bay = service_hour_df(feeds_dict, sf_bay)"
   ]
  },
  {
   "cell_type": "code",
   "execution_count": 35,
   "metadata": {},
   "outputs": [
    {
     "data": {
      "text/html": [
       "<div>\n",
       "<style scoped>\n",
       "    .dataframe tbody tr th:only-of-type {\n",
       "        vertical-align: middle;\n",
       "    }\n",
       "\n",
       "    .dataframe tbody tr th {\n",
       "        vertical-align: top;\n",
       "    }\n",
       "\n",
       "    .dataframe thead th {\n",
       "        text-align: right;\n",
       "    }\n",
       "</style>\n",
       "<table border=\"1\" class=\"dataframe\">\n",
       "  <thead>\n",
       "    <tr style=\"text-align: right;\">\n",
       "      <th></th>\n",
       "      <th></th>\n",
       "      <th></th>\n",
       "      <th>am_peak_vrh</th>\n",
       "      <th>midday_vrh</th>\n",
       "      <th>pm_peak_vrh</th>\n",
       "      <th>evening_vrh</th>\n",
       "      <th>early_am_vrh</th>\n",
       "      <th>total_vrh</th>\n",
       "    </tr>\n",
       "    <tr>\n",
       "      <th>tract</th>\n",
       "      <th>covid</th>\n",
       "      <th>agency</th>\n",
       "      <th></th>\n",
       "      <th></th>\n",
       "      <th></th>\n",
       "      <th></th>\n",
       "      <th></th>\n",
       "      <th></th>\n",
       "    </tr>\n",
       "  </thead>\n",
       "  <tbody>\n",
       "    <tr>\n",
       "      <th rowspan=\"2\" valign=\"top\">060014001</th>\n",
       "      <th>0</th>\n",
       "      <th>AC Transit</th>\n",
       "      <td>0.633316</td>\n",
       "      <td>0.309715</td>\n",
       "      <td>0.384160</td>\n",
       "      <td>0.094617</td>\n",
       "      <td>0.034823</td>\n",
       "      <td>1.456631</td>\n",
       "    </tr>\n",
       "    <tr>\n",
       "      <th>1</th>\n",
       "      <th>AC Transit</th>\n",
       "      <td>0.086231</td>\n",
       "      <td>0.242748</td>\n",
       "      <td>0.156517</td>\n",
       "      <td>0.000000</td>\n",
       "      <td>0.000000</td>\n",
       "      <td>0.485496</td>\n",
       "    </tr>\n",
       "    <tr>\n",
       "      <th rowspan=\"2\" valign=\"top\">060014002</th>\n",
       "      <th>0</th>\n",
       "      <th>AC Transit</th>\n",
       "      <td>2.135538</td>\n",
       "      <td>5.645216</td>\n",
       "      <td>5.880770</td>\n",
       "      <td>3.165281</td>\n",
       "      <td>0.469931</td>\n",
       "      <td>17.296735</td>\n",
       "    </tr>\n",
       "    <tr>\n",
       "      <th>1</th>\n",
       "      <th>AC Transit</th>\n",
       "      <td>1.573668</td>\n",
       "      <td>4.268017</td>\n",
       "      <td>3.209160</td>\n",
       "      <td>2.165814</td>\n",
       "      <td>0.500765</td>\n",
       "      <td>11.717424</td>\n",
       "    </tr>\n",
       "    <tr>\n",
       "      <th>060014003</th>\n",
       "      <th>0</th>\n",
       "      <th>AC Transit</th>\n",
       "      <td>3.992604</td>\n",
       "      <td>8.799828</td>\n",
       "      <td>7.453219</td>\n",
       "      <td>5.007804</td>\n",
       "      <td>1.348052</td>\n",
       "      <td>26.601508</td>\n",
       "    </tr>\n",
       "    <tr>\n",
       "      <th>...</th>\n",
       "      <th>...</th>\n",
       "      <th>...</th>\n",
       "      <td>...</td>\n",
       "      <td>...</td>\n",
       "      <td>...</td>\n",
       "      <td>...</td>\n",
       "      <td>...</td>\n",
       "      <td>...</td>\n",
       "    </tr>\n",
       "    <tr>\n",
       "      <th>060971542.02</th>\n",
       "      <th>1</th>\n",
       "      <th>Sonoma County Transit</th>\n",
       "      <td>1.458604</td>\n",
       "      <td>4.268573</td>\n",
       "      <td>0.745774</td>\n",
       "      <td>0.057755</td>\n",
       "      <td>0.000000</td>\n",
       "      <td>6.530706</td>\n",
       "    </tr>\n",
       "    <tr>\n",
       "      <th rowspan=\"2\" valign=\"top\">060971543.02</th>\n",
       "      <th>0</th>\n",
       "      <th>Sonoma County Transit</th>\n",
       "      <td>0.677007</td>\n",
       "      <td>1.020459</td>\n",
       "      <td>0.510229</td>\n",
       "      <td>0.000000</td>\n",
       "      <td>0.000000</td>\n",
       "      <td>2.207695</td>\n",
       "    </tr>\n",
       "    <tr>\n",
       "      <th>1</th>\n",
       "      <th>Sonoma County Transit</th>\n",
       "      <td>0.340153</td>\n",
       "      <td>1.020459</td>\n",
       "      <td>0.340153</td>\n",
       "      <td>0.000000</td>\n",
       "      <td>0.000000</td>\n",
       "      <td>1.700765</td>\n",
       "    </tr>\n",
       "    <tr>\n",
       "      <th rowspan=\"2\" valign=\"top\">060971543.04</th>\n",
       "      <th>0</th>\n",
       "      <th>Sonoma County Transit</th>\n",
       "      <td>0.149542</td>\n",
       "      <td>0.825992</td>\n",
       "      <td>0.177950</td>\n",
       "      <td>0.000000</td>\n",
       "      <td>0.000000</td>\n",
       "      <td>1.153485</td>\n",
       "    </tr>\n",
       "    <tr>\n",
       "      <th>1</th>\n",
       "      <th>Sonoma County Transit</th>\n",
       "      <td>0.149542</td>\n",
       "      <td>0.825992</td>\n",
       "      <td>0.177950</td>\n",
       "      <td>0.000000</td>\n",
       "      <td>0.000000</td>\n",
       "      <td>1.153485</td>\n",
       "    </tr>\n",
       "  </tbody>\n",
       "</table>\n",
       "<p>3497 rows × 6 columns</p>\n",
       "</div>"
      ],
      "text/plain": [
       "                                          am_peak_vrh  midday_vrh  \\\n",
       "tract        covid agency                                           \n",
       "060014001    0     AC Transit                0.633316    0.309715   \n",
       "             1     AC Transit                0.086231    0.242748   \n",
       "060014002    0     AC Transit                2.135538    5.645216   \n",
       "             1     AC Transit                1.573668    4.268017   \n",
       "060014003    0     AC Transit                3.992604    8.799828   \n",
       "...                                               ...         ...   \n",
       "060971542.02 1     Sonoma County Transit     1.458604    4.268573   \n",
       "060971543.02 0     Sonoma County Transit     0.677007    1.020459   \n",
       "             1     Sonoma County Transit     0.340153    1.020459   \n",
       "060971543.04 0     Sonoma County Transit     0.149542    0.825992   \n",
       "             1     Sonoma County Transit     0.149542    0.825992   \n",
       "\n",
       "                                          pm_peak_vrh  evening_vrh  \\\n",
       "tract        covid agency                                            \n",
       "060014001    0     AC Transit                0.384160     0.094617   \n",
       "             1     AC Transit                0.156517     0.000000   \n",
       "060014002    0     AC Transit                5.880770     3.165281   \n",
       "             1     AC Transit                3.209160     2.165814   \n",
       "060014003    0     AC Transit                7.453219     5.007804   \n",
       "...                                               ...          ...   \n",
       "060971542.02 1     Sonoma County Transit     0.745774     0.057755   \n",
       "060971543.02 0     Sonoma County Transit     0.510229     0.000000   \n",
       "             1     Sonoma County Transit     0.340153     0.000000   \n",
       "060971543.04 0     Sonoma County Transit     0.177950     0.000000   \n",
       "             1     Sonoma County Transit     0.177950     0.000000   \n",
       "\n",
       "                                          early_am_vrh  total_vrh  \n",
       "tract        covid agency                                          \n",
       "060014001    0     AC Transit                 0.034823   1.456631  \n",
       "             1     AC Transit                 0.000000   0.485496  \n",
       "060014002    0     AC Transit                 0.469931  17.296735  \n",
       "             1     AC Transit                 0.500765  11.717424  \n",
       "060014003    0     AC Transit                 1.348052  26.601508  \n",
       "...                                                ...        ...  \n",
       "060971542.02 1     Sonoma County Transit      0.000000   6.530706  \n",
       "060971543.02 0     Sonoma County Transit      0.000000   2.207695  \n",
       "             1     Sonoma County Transit      0.000000   1.700765  \n",
       "060971543.04 0     Sonoma County Transit      0.000000   1.153485  \n",
       "             1     Sonoma County Transit      0.000000   1.153485  \n",
       "\n",
       "[3497 rows x 6 columns]"
      ]
     },
     "execution_count": 35,
     "metadata": {},
     "output_type": "execute_result"
    }
   ],
   "source": [
    "svc_bay"
   ]
  },
  {
   "cell_type": "code",
   "execution_count": 37,
   "metadata": {},
   "outputs": [],
   "source": [
    "svc_bay.to_parquet('./processed_data/Bay_svc_Oct11.parquet')"
   ]
  },
  {
   "cell_type": "markdown",
   "metadata": {},
   "source": [
    "## To-do:\n",
    "\n",
    "### Feature Adds:\n",
    "* _visualization along routes_\n",
    "* geoid, not tracts?\n",
    "* \"megaregion\" view?? --> likely requires automating feed collection...\n",
    "    * also some sort of tiling, aggregation by city, etc...\n",
    "    \n",
    "### Architecture\n",
    "* make compatible with Modin?\n"
   ]
  },
  {
   "cell_type": "code",
   "execution_count": null,
   "metadata": {},
   "outputs": [],
   "source": []
  }
 ],
 "metadata": {
  "kernelspec": {
   "display_name": "Python 3",
   "language": "python",
   "name": "python3"
  },
  "language_info": {
   "codemirror_mode": {
    "name": "ipython",
    "version": 3
   },
   "file_extension": ".py",
   "mimetype": "text/x-python",
   "name": "python",
   "nbconvert_exporter": "python",
   "pygments_lexer": "ipython3",
   "version": "3.8.5"
  }
 },
 "nbformat": 4,
 "nbformat_minor": 4
}
