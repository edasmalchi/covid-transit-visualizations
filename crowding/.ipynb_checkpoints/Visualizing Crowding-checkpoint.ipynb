{
 "cells": [
  {
   "cell_type": "code",
   "execution_count": 4,
   "metadata": {},
   "outputs": [
    {
     "ename": "ModuleNotFoundError",
     "evalue": "No module named 'pysal'",
     "output_type": "error",
     "traceback": [
      "\u001b[0;31m---------------------------------------------------------------------------\u001b[0m",
      "\u001b[0;31mModuleNotFoundError\u001b[0m                       Traceback (most recent call last)",
      "\u001b[0;32m<ipython-input-4-f9b377670f33>\u001b[0m in \u001b[0;36m<module>\u001b[0;34m\u001b[0m\n\u001b[1;32m     10\u001b[0m \u001b[0;32mimport\u001b[0m \u001b[0mdatetime\u001b[0m \u001b[0;32mas\u001b[0m \u001b[0mdt\u001b[0m\u001b[0;34m\u001b[0m\u001b[0;34m\u001b[0m\u001b[0m\n\u001b[1;32m     11\u001b[0m \u001b[0;34m\u001b[0m\u001b[0m\n\u001b[0;32m---> 12\u001b[0;31m \u001b[0;32mimport\u001b[0m \u001b[0mpysal\u001b[0m \u001b[0;32mas\u001b[0m \u001b[0mps\u001b[0m\u001b[0;34m\u001b[0m\u001b[0;34m\u001b[0m\u001b[0m\n\u001b[0m\u001b[1;32m     13\u001b[0m \u001b[0;32mfrom\u001b[0m \u001b[0mpysal\u001b[0m\u001b[0;34m.\u001b[0m\u001b[0mviz\u001b[0m \u001b[0;32mimport\u001b[0m \u001b[0mmapclassify\u001b[0m\u001b[0;34m\u001b[0m\u001b[0;34m\u001b[0m\u001b[0m\n\u001b[1;32m     14\u001b[0m \u001b[0;34m\u001b[0m\u001b[0m\n",
      "\u001b[0;31mModuleNotFoundError\u001b[0m: No module named 'pysal'"
     ]
    }
   ],
   "source": [
    "import pandas as pd\n",
    "import numpy as np\n",
    "import geopandas as gpd\n",
    "import folium\n",
    "from folium import plugins\n",
    "#import matplotlib.pyplot as plt\n",
    "#import seaborn as sns\n",
    "#%matplotlib inline\n",
    "\n",
    "import datetime as dt\n",
    "\n",
    "import pysal as ps\n",
    "from pysal.viz import mapclassify\n",
    "\n",
    "import ipywidgets as widgets\n",
    "\n",
    "idx = pd.IndexSlice"
   ]
  },
  {
   "cell_type": "code",
   "execution_count": 5,
   "metadata": {},
   "outputs": [
    {
     "name": "stdout",
     "output_type": "stream",
     "text": [
      "Collecting package metadata (current_repodata.json): done\n",
      "Solving environment: failed with initial frozen solve. Retrying with flexible solve.\n",
      "Solving environment: failed with repodata from current_repodata.json, will retry with next repodata source.\n",
      "Collecting package metadata (repodata.json): done\n",
      "Solving environment: done\n",
      "\n",
      "## Package Plan ##\n",
      "\n",
      "  environment location: /Users/edasmalchi/anaconda3/envs/visualize\n",
      "\n",
      "  added / updated specs:\n",
      "    - pysal\n",
      "\n",
      "\n",
      "The following packages will be downloaded:\n",
      "\n",
      "    package                    |            build\n",
      "    ---------------------------|-----------------\n",
      "    deprecated-1.2.10          |     pyh9f0ad1d_0          11 KB  conda-forge\n",
      "    joblib-0.16.0              |             py_0         203 KB  conda-forge\n",
      "    lcms2-2.11                 |       h174193d_0         378 KB  conda-forge\n",
      "    matplotlib-3.3.1           |                1           6 KB  conda-forge\n",
      "    matplotlib-base-3.3.1      |   py38haed9462_1         6.7 MB  conda-forge\n",
      "    olefile-0.46               |             py_0          31 KB  conda-forge\n",
      "    palettable-3.3.0           |             py_0          86 KB  conda-forge\n",
      "    pillow-7.2.0               |   py38h83dc5e5_1         640 KB  conda-forge\n",
      "    pysal-2.1.0                |             py_0        21.4 MB  conda-forge\n",
      "    seaborn-0.11.0             |                0           4 KB  conda-forge\n",
      "    seaborn-base-0.11.0        |             py_0         215 KB  conda-forge\n",
      "    statsmodels-0.12.0         |   py38h4d0b108_0        10.6 MB  conda-forge\n",
      "    threadpoolctl-2.1.0        |     pyh5ca1d4c_0          15 KB  conda-forge\n",
      "    wrapt-1.12.1               |   py38h64e0658_1          42 KB  conda-forge\n",
      "    ------------------------------------------------------------\n",
      "                                           Total:        40.3 MB\n",
      "\n",
      "The following NEW packages will be INSTALLED:\n",
      "\n",
      "  cycler             conda-forge/noarch::cycler-0.10.0-py_2\n",
      "  deprecated         conda-forge/noarch::deprecated-1.2.10-pyh9f0ad1d_0\n",
      "  descartes          conda-forge/noarch::descartes-1.1.0-py_4\n",
      "  joblib             conda-forge/noarch::joblib-0.16.0-py_0\n",
      "  kiwisolver         conda-forge/osx-64::kiwisolver-1.2.0-py38ha0d09dd_0\n",
      "  lcms2              conda-forge/osx-64::lcms2-2.11-h174193d_0\n",
      "  matplotlib         conda-forge/osx-64::matplotlib-3.3.1-1\n",
      "  matplotlib-base    conda-forge/osx-64::matplotlib-base-3.3.1-py38haed9462_1\n",
      "  olefile            conda-forge/noarch::olefile-0.46-py_0\n",
      "  palettable         conda-forge/noarch::palettable-3.3.0-py_0\n",
      "  patsy              conda-forge/noarch::patsy-0.5.1-py_0\n",
      "  pillow             conda-forge/osx-64::pillow-7.2.0-py38h83dc5e5_1\n",
      "  pysal              conda-forge/noarch::pysal-2.1.0-py_0\n",
      "  scikit-learn       conda-forge/osx-64::scikit-learn-0.23.2-py38hfde8033_0\n",
      "  scipy              conda-forge/osx-64::scipy-1.5.2-py38h1402333_0\n",
      "  seaborn            conda-forge/osx-64::seaborn-0.11.0-0\n",
      "  seaborn-base       conda-forge/noarch::seaborn-base-0.11.0-py_0\n",
      "  statsmodels        conda-forge/osx-64::statsmodels-0.12.0-py38h4d0b108_0\n",
      "  threadpoolctl      conda-forge/noarch::threadpoolctl-2.1.0-pyh5ca1d4c_0\n",
      "  tqdm               conda-forge/noarch::tqdm-4.48.2-pyh9f0ad1d_0\n",
      "  wrapt              conda-forge/osx-64::wrapt-1.12.1-py38h64e0658_1\n",
      "\n",
      "\n",
      "Proceed ([y]/n)? ^C\n",
      "\n",
      "CondaSystemExit: \n",
      "Operation aborted.  Exiting.\n",
      "\n"
     ]
    }
   ],
   "source": [
    "!conda install pysal"
   ]
  },
  {
   "cell_type": "code",
   "execution_count": 10,
   "metadata": {},
   "outputs": [],
   "source": [
    "#nbi:hide_in\n",
    "#Patch for Chrome courtesy of : https://github.com/python-visualization/folium/issues/812#issuecomment-555238062\n",
    "\n",
    "import base64\n",
    "\n",
    "\n",
    "def _repr_html_(self, **kwargs):\n",
    "    html = base64.b64encode(self.render(**kwargs).encode('utf8')).decode('utf8')\n",
    "    onload = (\n",
    "        'this.contentDocument.open();'\n",
    "        'this.contentDocument.write(atob(this.getAttribute(\\'data-html\\')));'\n",
    "        'this.contentDocument.close();'\n",
    "    )\n",
    "    if self.height is None:\n",
    "        iframe = (\n",
    "            '<div style=\"width:{width};\">'\n",
    "            '<div style=\"position:relative;width:100%;height:0;padding-bottom:{ratio};\">'\n",
    "            '<iframe src=\"about:blank\" style=\"position:absolute;width:100%;height:100%;left:0;top:0;'\n",
    "            'border:none !important;\" '\n",
    "            'data-html={html} onload=\"{onload}\" '\n",
    "            'allowfullscreen webkitallowfullscreen mozallowfullscreen>'\n",
    "            '</iframe>'\n",
    "            '</div></div>').format\n",
    "        iframe = iframe(html=html, onload=onload, width=self.width, ratio=self.ratio)\n",
    "    else:\n",
    "        iframe = ('<iframe src=\"about:blank\" width=\"{width}\" height=\"{height}\"'\n",
    "                  'style=\"border:none !important;\" '\n",
    "                  'data-html={html} onload=\"{onload}\" '\n",
    "                  '\"allowfullscreen\" \"webkitallowfullscreen\" \"mozallowfullscreen\">'\n",
    "                  '</iframe>').format\n",
    "        iframe = iframe(html=html, onload=onload, width=self.width, height=self.height)\n",
    "    return iframe\n",
    "\n",
    "folium.branca.element.Figure._repr_html_ = _repr_html_"
   ]
  },
  {
   "cell_type": "code",
   "execution_count": 11,
   "metadata": {},
   "outputs": [],
   "source": [
    "mbta_filtered = pd.read_parquet('./data/mbta/mbta_filtered.parquet')"
   ]
  },
  {
   "cell_type": "code",
   "execution_count": 4,
   "metadata": {},
   "outputs": [],
   "source": [
    "mbta_geo = gpd.read_file('./data/mbta/mbta_geo.geojson').set_index('stop_id', drop=True)"
   ]
  },
  {
   "cell_type": "code",
   "execution_count": 5,
   "metadata": {},
   "outputs": [],
   "source": [
    "def crowding_view(df, geo_df, st_hour, end_hour, routes='all'):\n",
    "    if routes != 'all':\n",
    "        ##TODO this might not be right...\n",
    "        df = df.loc[idx[routes,:,np.arange(st_hour, end_hour)],:]\n",
    "#         return df\n",
    "        df = df.groupby('stop_id').sum()\n",
    "    else:\n",
    "        df = df.loc[idx[:,:,st_hour:end_hour,:]].groupby('stop_id').sum()\n",
    "\n",
    "    df['Total Observations'] = df.sum(axis=1)\n",
    "    df['Percent Full'] = (df['FULL'] / df['Total Observations']) * 100\n",
    "    df['Percent Full/Few Available'] = (((df['FEW_SEATS_AVAILABLE'] / df['Total Observations']) * 100)\n",
    "                                        .add(df['Percent Full'], fill_value=0))\n",
    "    return geo_df.join(df).dropna(subset=['Percent Full/Few Available']).to_crs('EPSG:4326')"
   ]
  },
  {
   "cell_type": "code",
   "execution_count": 6,
   "metadata": {},
   "outputs": [],
   "source": [
    "#nbi:hide_in\n",
    "def add_choropleth(gdf, m, classifier):\n",
    "    \n",
    "    gdf = gdf.dropna(subset=['Percent Full/Few Available'])\n",
    "    gdf['Percent Full/Few Available'] = gdf['Percent Full/Few Available'].round(2)\n",
    "    gdf.rename(columns={'stop_name':'Stop Name'},inplace=True)\n",
    "    gdf.rename_axis('Stop ID', inplace=True)\n",
    "    if classifier == 'Fixed':\n",
    "#         threshold_scale = [0, 0.2, 0.4, 0.6, 0.8, 1.0, 1.2, 2.0]\n",
    "        threshold_scale = [0, 20, 40, 60, 80, 101]\n",
    "    elif classifier == 'Quantiles':\n",
    "        threshold_scale = mapclassify.Quantiles(\n",
    "            gdf['Percent Full/Few Available'], k = 5).bins.tolist()\n",
    "        threshold_scale = [gdf['Percent Full/Few Available'].min()] + threshold_scale\n",
    "        print(threshold_scale)\n",
    "    elif classifier == 'Natural Breaks':\n",
    "        threshold_scale = mapclassify.NaturalBreaks(\n",
    "            gdf['Percent Full/Few Available'], k = 5).bins.tolist()\n",
    "        threshold_scale = [gdf['Percent Full/Few Available'].min()] + threshold_scale\n",
    "#     print(threshold_scale)\n",
    "    choropleth = folium.Choropleth(geo_data = gdf.reset_index().to_json(),\n",
    "                                   data = gdf.reset_index(),\n",
    "                    columns = ('Stop ID', 'Percent Full/Few Available'), key_on = 'feature.properties.Stop ID',\n",
    "                    nan_fill_color = 'red', fill_color = 'YlOrRd', fill_opacity = 0.6, line_opacity = 0.2,  \n",
    "                    threshold_scale = threshold_scale, legend_name='Percentage of Service either Few Seats or Full'\n",
    "                                    )\n",
    "    choropleth.add_to(m)\n",
    "    \n",
    "    choropleth.geojson.add_child(folium.features.GeoJsonTooltip(['Stop ID', 'Stop Name', 'Percent Full/Few Available']))\n",
    "        \n",
    "    return"
   ]
  },
  {
   "cell_type": "code",
   "execution_count": 7,
   "metadata": {},
   "outputs": [],
   "source": [
    "#nbi:hide_in\n",
    "def interactive_map(hour_range, routes, classifier, df=mbta_filtered, geo_df=mbta_geo):\n",
    "    print('Running data query...', end='')\n",
    "\n",
    "    view = crowding_view(df, geo_df, hour_range[0], hour_range[1], routes)\n",
    "    if view.shape[0] > 1000:\n",
    "        print('Selection too large! Please select fewer routes.')\n",
    "        return\n",
    "    x = view['geometry'][0].centroid.x\n",
    "    y = view['geometry'][0].centroid.y\n",
    "    m = folium.Map([y, x], zoom_start = 13, tiles='Stamen Terrain')\n",
    "    add_choropleth(view, m, classifier)\n",
    "    print(' Done!')\n",
    "    print('Drawing map...')\n",
    "#     print(view.shape)\n",
    "    display(m)"
   ]
  },
  {
   "cell_type": "code",
   "execution_count": 7,
   "metadata": {},
   "outputs": [],
   "source": [
    "options = range(0,25)\n",
    "hours_widget = widgets.SelectionRangeSlider(\n",
    "    options=options,\n",
    "    index=(0,24),\n",
    "    description='Hour Range',\n",
    "    disabled=False\n",
    ")"
   ]
  },
  {
   "cell_type": "code",
   "execution_count": 8,
   "metadata": {},
   "outputs": [],
   "source": [
    "routes = tuple(mbta_filtered.index.get_level_values('route_id').unique())\n",
    "routes_widget = widgets.SelectMultiple(\n",
    "    options=routes,\n",
    "    value=[routes[0]],\n",
    "    #rows=10,\n",
    "    description='Routes',\n",
    "    disabled=False\n",
    ")"
   ]
  },
  {
   "cell_type": "code",
   "execution_count": 9,
   "metadata": {},
   "outputs": [],
   "source": [
    "#nbi:hide_in\n",
    "classify_widget = widgets.RadioButtons(\n",
    "    options=['Quantiles', 'Natural Breaks', 'Fixed'],\n",
    "    value='Fixed', # Defaults to 'Fixed'\n",
    "#    layout={'width': 'max-content'}, # If the items' names are long\n",
    "    description='Classifier:',\n",
    "    disabled=False\n",
    ")"
   ]
  },
  {
   "cell_type": "markdown",
   "metadata": {},
   "source": [
    "### Visualizing Crowding Data\n",
    "\n",
    "Using collected GTFS-realtime data, this tool visualizes weekday crowding at stops along bus routes. It shows the percentage of service that is likely somewhat crowded (reporting Few Seats Available or Full) at each stop along the route(s). By default, the tool aggregates crowding data from the entire day. Use the slider to make a shorter time selection, for example 10-16 to focus on midday service. Note that if multiple routes are selected and they serve the same stop, data shown for that stop will be an aggregation of all routes."
   ]
  },
  {
   "cell_type": "code",
   "execution_count": 10,
   "metadata": {},
   "outputs": [
    {
     "data": {
      "application/vnd.jupyter.widget-view+json": {
       "model_id": "adafc5a0bb5d42f5944f4d680de15869",
       "version_major": 2,
       "version_minor": 0
      },
      "text/plain": [
       "interactive(children=(SelectionRangeSlider(description='Hour Range', index=(0, 24), options=(0, 1, 2, 3, 4, 5,…"
      ]
     },
     "metadata": {},
     "output_type": "display_data"
    }
   ],
   "source": [
    "widgets.interact(interactive_map, hour_range=hours_widget,\n",
    "                 routes=routes_widget, classifier=classify_widget,\n",
    "                 df=widgets.fixed(mbta_filtered), geo_df=widgets.fixed(mbta_geo));"
   ]
  }
 ],
 "metadata": {
  "kernelspec": {
   "display_name": "Python 3",
   "language": "python",
   "name": "python3"
  }
 },
 "nbformat": 4,
 "nbformat_minor": 4
}
