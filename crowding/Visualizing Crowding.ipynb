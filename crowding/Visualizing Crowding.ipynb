{
 "cells": [
  {
   "cell_type": "code",
   "execution_count": 4,
   "metadata": {},
   "outputs": [],
   "source": [
    "import pandas as pd\n",
    "import numpy as np\n",
    "import geopandas as gpd\n",
    "import folium\n",
    "from folium import plugins\n",
    "#import matplotlib.pyplot as plt\n",
    "#import seaborn as sns\n",
    "#%matplotlib inline\n",
    "\n",
    "import datetime as dt\n",
    "\n",
    "import pysal as ps\n",
    "from pysal.viz import mapclassify\n",
    "\n",
    "import ipywidgets as widgets\n",
    "\n",
    "idx = pd.IndexSlice"
   ]
  },
  {
   "cell_type": "code",
   "execution_count": 5,
   "metadata": {},
   "outputs": [],
   "source": [
    "#nbi:hide_in\n",
    "#Patch for Chrome courtesy of : https://github.com/python-visualization/folium/issues/812#issuecomment-555238062\n",
    "\n",
    "import base64\n",
    "\n",
    "\n",
    "def _repr_html_(self, **kwargs):\n",
    "    html = base64.b64encode(self.render(**kwargs).encode('utf8')).decode('utf8')\n",
    "    onload = (\n",
    "        'this.contentDocument.open();'\n",
    "        'this.contentDocument.write(atob(this.getAttribute(\\'data-html\\')));'\n",
    "        'this.contentDocument.close();'\n",
    "    )\n",
    "    if self.height is None:\n",
    "        iframe = (\n",
    "            '<div style=\"width:{width};\">'\n",
    "            '<div style=\"position:relative;width:100%;height:0;padding-bottom:{ratio};\">'\n",
    "            '<iframe src=\"about:blank\" style=\"position:absolute;width:100%;height:100%;left:0;top:0;'\n",
    "            'border:none !important;\" '\n",
    "            'data-html={html} onload=\"{onload}\" '\n",
    "            'allowfullscreen webkitallowfullscreen mozallowfullscreen>'\n",
    "            '</iframe>'\n",
    "            '</div></div>').format\n",
    "        iframe = iframe(html=html, onload=onload, width=self.width, ratio=self.ratio)\n",
    "    else:\n",
    "        iframe = ('<iframe src=\"about:blank\" width=\"{width}\" height=\"{height}\"'\n",
    "                  'style=\"border:none !important;\" '\n",
    "                  'data-html={html} onload=\"{onload}\" '\n",
    "                  '\"allowfullscreen\" \"webkitallowfullscreen\" \"mozallowfullscreen\">'\n",
    "                  '</iframe>').format\n",
    "        iframe = iframe(html=html, onload=onload, width=self.width, height=self.height)\n",
    "    return iframe\n",
    "\n",
    "folium.branca.element.Figure._repr_html_ = _repr_html_"
   ]
  },
  {
   "cell_type": "code",
   "execution_count": 6,
   "metadata": {},
   "outputs": [],
   "source": [
    "mbta_filtered = pd.read_parquet('./data/mbta/mbta_filtered.parquet')"
   ]
  },
  {
   "cell_type": "code",
   "execution_count": 7,
   "metadata": {},
   "outputs": [],
   "source": [
    "mbta_geo = gpd.read_file('./data/mbta/mbta_geo.geojson').set_index('stop_id', drop=True)"
   ]
  },
  {
   "cell_type": "code",
   "execution_count": 8,
   "metadata": {},
   "outputs": [],
   "source": [
    "mbta_filtered = mbta_filtered.set_index('route_id', append=True)"
   ]
  },
  {
   "cell_type": "code",
   "execution_count": 9,
   "metadata": {},
   "outputs": [],
   "source": [
    "def crowding_view(df, geo_df, st_hour, end_hour, routes='all'):\n",
    "    if routes != 'all':\n",
    "        ##TODO this might not be right...\n",
    "        df = df.loc[idx[routes,:,np.arange(st_hour, end_hour)],:]\n",
    "#         return df\n",
    "        df = df.groupby('stop_id').sum()\n",
    "    else:\n",
    "        df = df.loc[idx[:,:,st_hour:end_hour,:]].groupby('stop_id').sum()\n",
    "\n",
    "    df['Total Observations'] = df.sum(axis=1)\n",
    "    df['Percent Full'] = (df['FULL'] / df['Total Observations']) * 100\n",
    "    df['Percent Full/Few Available'] = (((df['FEW_SEATS_AVAILABLE'] / df['Total Observations']) * 100)\n",
    "                                        .add(df['Percent Full'], fill_value=0))\n",
    "    return geo_df.join(df).dropna(subset=['Percent Full/Few Available']).to_crs('EPSG:4326')"
   ]
  },
  {
   "cell_type": "code",
   "execution_count": 10,
   "metadata": {},
   "outputs": [],
   "source": [
    "#nbi:hide_in\n",
    "def add_choropleth(gdf, m, classifier):\n",
    "    \n",
    "    gdf = gdf.dropna(subset=['Percent Full/Few Available'])\n",
    "    gdf['Percent Full/Few Available'] = gdf['Percent Full/Few Available'].round(2)\n",
    "    gdf.rename(columns={'stop_name':'Stop Name'},inplace=True)\n",
    "    gdf.rename_axis('Stop ID', inplace=True)\n",
    "    if classifier == 'Fixed':\n",
    "#         threshold_scale = [0, 0.2, 0.4, 0.6, 0.8, 1.0, 1.2, 2.0]\n",
    "        threshold_scale = [0, 20, 40, 60, 80, 101]\n",
    "    elif classifier == 'Quantiles':\n",
    "        threshold_scale = mapclassify.Quantiles(\n",
    "            gdf['Percent Full/Few Available'], k = 5).bins.tolist()\n",
    "        threshold_scale = [gdf['Percent Full/Few Available'].min()] + threshold_scale\n",
    "        print(threshold_scale)\n",
    "    elif classifier == 'Natural Breaks':\n",
    "        threshold_scale = mapclassify.NaturalBreaks(\n",
    "            gdf['Percent Full/Few Available'], k = 5).bins.tolist()\n",
    "        threshold_scale = [gdf['Percent Full/Few Available'].min()] + threshold_scale\n",
    "#     print(threshold_scale)\n",
    "    choropleth = folium.Choropleth(geo_data = gdf.reset_index().to_json(),\n",
    "                                   data = gdf.reset_index(),\n",
    "                    columns = ('Stop ID', 'Percent Full/Few Available'), key_on = 'feature.properties.Stop ID',\n",
    "                    nan_fill_color = 'red', fill_color = 'YlOrRd', fill_opacity = 0.6, line_opacity = 0.2,  \n",
    "                    threshold_scale = threshold_scale, legend_name='Percentage of Service either Few Seats or Full'\n",
    "                                    )\n",
    "    choropleth.add_to(m)\n",
    "    \n",
    "    choropleth.geojson.add_child(folium.features.GeoJsonTooltip(['Stop ID', 'Stop Name', 'Percent Full/Few Available']))\n",
    "        \n",
    "    return"
   ]
  },
  {
   "cell_type": "code",
   "execution_count": 12,
   "metadata": {},
   "outputs": [],
   "source": [
    "service_types = {'Entire Day': (0, 24), 'AM Peak': (7, 10), 'Midday': (10, 16), \n",
    "                 'PM Peak': (16, 19), 'Evening': (19, 24), 'Early AM': (0, 7)}"
   ]
  },
  {
   "cell_type": "code",
   "execution_count": 46,
   "metadata": {},
   "outputs": [],
   "source": [
    "#nbi:hide_in\n",
    "def interactive_map(serv_type, routes, classifier, df=mbta_filtered, geo_df=mbta_geo):\n",
    "    print('Running data query...', end='')\n",
    "    hour_range = service_types[serv_type]\n",
    "    view = crowding_view(df, geo_df, hour_range[0], hour_range[1], routes)\n",
    "    if view.shape[0] > 1000:\n",
    "        print('Selection too large! Please select fewer routes.')\n",
    "        return\n",
    "    x = view['geometry'][0].centroid.x\n",
    "    y = view['geometry'][0].centroid.y\n",
    "    m = folium.Map([y, x], zoom_start = 13, tiles='Stamen Terrain')\n",
    "    add_choropleth(view, m, classifier)\n",
    "    print(' Done!')\n",
    "    print('Drawing map...')\n",
    "#     print(view.shape)\n",
    "    display(m)"
   ]
  },
  {
   "cell_type": "code",
   "execution_count": 47,
   "metadata": {},
   "outputs": [],
   "source": [
    "service_widget = widgets.Select(\n",
    "    options=service_types.keys(),\n",
    "    value='Entire Day',\n",
    "    #rows=10,\n",
    "    description='Service Type',\n",
    "    disabled=False\n",
    ")"
   ]
  },
  {
   "cell_type": "code",
   "execution_count": 49,
   "metadata": {},
   "outputs": [],
   "source": [
    "options = range(0,25)\n",
    "hours_widget = widgets.SelectionRangeSlider(\n",
    "    options=options,\n",
    "    index=(0,24),\n",
    "    description='Hour Range',\n",
    "    disabled=False\n",
    ")"
   ]
  },
  {
   "cell_type": "code",
   "execution_count": 50,
   "metadata": {},
   "outputs": [],
   "source": [
    "routes = tuple(mbta_filtered.index.get_level_values(0).unique())\n",
    "routes_widget = widgets.SelectMultiple(\n",
    "    options=routes,\n",
    "    value=[routes[0]],\n",
    "    #rows=10,\n",
    "    description='Routes',\n",
    "    disabled=False\n",
    ")"
   ]
  },
  {
   "cell_type": "code",
   "execution_count": 51,
   "metadata": {},
   "outputs": [],
   "source": [
    "#nbi:hide_in\n",
    "classify_widget = widgets.RadioButtons(\n",
    "    options=['Quantiles', 'Natural Breaks', 'Fixed'],\n",
    "    value='Fixed', # Defaults to 'Fixed'\n",
    "#    layout={'width': 'max-content'}, # If the items' names are long\n",
    "    description='Classifier:',\n",
    "    disabled=False\n",
    ")"
   ]
  },
  {
   "cell_type": "markdown",
   "metadata": {},
   "source": [
    "### Visualizing Crowding Data\n",
    "\n",
    "Using collected GTFS-realtime data, this tool visualizes weekday crowding at stops along bus routes. It shows the percentage of service that is likely somewhat crowded (reporting Few Seats Available or Full) at each stop along the route(s). Note that if multiple routes are selected and they serve the same stop, data shown for that stop will be an aggregation of all routes."
   ]
  },
  {
   "cell_type": "code",
   "execution_count": 52,
   "metadata": {},
   "outputs": [],
   "source": [
    "# widgets.interact(interactive_map, hour_range=hours_widget,\n",
    "#                  routes=routes_widget, classifier=classify_widget,\n",
    "#                  df=widgets.fixed(mbta_filtered), geo_df=widgets.fixed(mbta_geo));\n",
    "\n",
    "# widgets.interact(interactive_map, hour_range=hours_widget,\n",
    "#                  routes=routes_widget, classifier=widgets.fixed('fixed'),\n",
    "#                  df=widgets.fixed(mbta_filtered), geo_df=widgets.fixed(mbta_geo));"
   ]
  },
  {
   "cell_type": "code",
   "execution_count": 53,
   "metadata": {},
   "outputs": [],
   "source": [
    "w = widgets.interactive_output(\n",
    "    interactive_map,\n",
    "    {'serv_type': service_widget, 'routes': routes_widget,\n",
    "    'classifier': classify_widget})\n",
    "ui = widgets.VBox([\n",
    "    widgets.HBox([routes_widget, service_widget]), \n",
    "    classify_widget])"
   ]
  },
  {
   "cell_type": "code",
   "execution_count": 54,
   "metadata": {},
   "outputs": [
    {
     "data": {
      "application/vnd.jupyter.widget-view+json": {
       "model_id": "f9e40a995d744fcdb261937285a14cd7",
       "version_major": 2,
       "version_minor": 0
      },
      "text/plain": [
       "VBox(children=(HBox(children=(SelectMultiple(description='Routes', index=(0,), options=('1', '10', '101', '104…"
      ]
     },
     "metadata": {},
     "output_type": "display_data"
    },
    {
     "data": {
      "application/vnd.jupyter.widget-view+json": {
       "model_id": "cfcb2bbf563e482ab2c2c6bab4a59e65",
       "version_major": 2,
       "version_minor": 0
      },
      "text/plain": [
       "Output(outputs=({'output_type': 'stream', 'text': 'Running data query... Done!\\nDrawing map...\\n', 'name': 'st…"
      ]
     },
     "metadata": {},
     "output_type": "display_data"
    }
   ],
   "source": [
    "display(ui, w)"
   ]
  }
 ],
 "metadata": {
  "kernelspec": {
   "display_name": "Python 3",
   "language": "python",
   "name": "python3"
  },
  "language_info": {
   "codemirror_mode": {
    "name": "ipython",
    "version": 3
   },
   "file_extension": ".py",
   "mimetype": "text/x-python",
   "name": "python",
   "nbconvert_exporter": "python",
   "pygments_lexer": "ipython3",
   "version": "3.8.5"
  }
 },
 "nbformat": 4,
 "nbformat_minor": 4
}
